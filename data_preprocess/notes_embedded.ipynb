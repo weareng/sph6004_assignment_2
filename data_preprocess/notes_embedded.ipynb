{
 "cells": [
  {
   "cell_type": "code",
   "execution_count": 2,
   "metadata": {
    "colab": {
     "base_uri": "https://localhost:8080/"
    },
    "executionInfo": {
     "elapsed": 3385,
     "status": "ok",
     "timestamp": 1712630924097,
     "user": {
      "displayName": "TAN SHIHJEN",
      "userId": "10304684316158688032"
     },
     "user_tz": -480
    },
    "id": "q8VY8vuHrT5C",
    "outputId": "31ca8737-f5d9-4916-ea8c-f8b4ca609a56"
   },
   "outputs": [
    {
     "name": "stderr",
     "output_type": "stream",
     "text": [
      "2024-04-11 10:18:32.823759: E external/local_xla/xla/stream_executor/cuda/cuda_dnn.cc:9261] Unable to register cuDNN factory: Attempting to register factory for plugin cuDNN when one has already been registered\n",
      "2024-04-11 10:18:32.823817: E external/local_xla/xla/stream_executor/cuda/cuda_fft.cc:607] Unable to register cuFFT factory: Attempting to register factory for plugin cuFFT when one has already been registered\n",
      "2024-04-11 10:18:32.824374: E external/local_xla/xla/stream_executor/cuda/cuda_blas.cc:1515] Unable to register cuBLAS factory: Attempting to register factory for plugin cuBLAS when one has already been registered\n",
      "2024-04-11 10:18:32.828378: I tensorflow/core/platform/cpu_feature_guard.cc:182] This TensorFlow binary is optimized to use available CPU instructions in performance-critical operations.\n",
      "To enable the following instructions: AVX2 FMA, in other operations, rebuild TensorFlow with the appropriate compiler flags.\n",
      "2024-04-11 10:18:33.516652: W tensorflow/compiler/tf2tensorrt/utils/py_utils.cc:38] TF-TRT Warning: Could not find TensorRT\n"
     ]
    },
    {
     "name": "stdout",
     "output_type": "stream",
     "text": [
      "Torch CUDA: True\n",
      "Using device: cuda\n",
      "GPU Available: [PhysicalDevice(name='/physical_device:GPU:0', device_type='GPU')]\n"
     ]
    },
    {
     "name": "stderr",
     "output_type": "stream",
     "text": [
      "2024-04-11 10:18:34.328991: I external/local_xla/xla/stream_executor/cuda/cuda_executor.cc:887] could not open file to read NUMA node: /sys/bus/pci/devices/0000:01:00.0/numa_node\n",
      "Your kernel may have been built without NUMA support.\n",
      "2024-04-11 10:18:34.330700: I external/local_xla/xla/stream_executor/cuda/cuda_executor.cc:887] could not open file to read NUMA node: /sys/bus/pci/devices/0000:01:00.0/numa_node\n",
      "Your kernel may have been built without NUMA support.\n",
      "2024-04-11 10:18:34.331296: I external/local_xla/xla/stream_executor/cuda/cuda_executor.cc:887] could not open file to read NUMA node: /sys/bus/pci/devices/0000:01:00.0/numa_node\n",
      "Your kernel may have been built without NUMA support.\n"
     ]
    }
   ],
   "source": [
    "# import essential libraries for data analytics\n",
    "import pandas as pd\n",
    "import numpy as np\n",
    "import matplotlib.pyplot as plt\n",
    "import seaborn as sns\n",
    "import torch\n",
    "import tensorflow as tf\n",
    "from transformers import BertTokenizer, BertModel\n",
    "from transformers import AutoTokenizer, AutoModel\n",
    "\n",
    "print(\"Torch CUDA:\",torch.cuda.is_available())\n",
    "device = torch.device(\"cuda\" if torch.cuda.is_available() else \"cpu\")\n",
    "print(f'Using device: {device}')\n",
    "print(\"GPU Available:\", tf.config.list_physical_devices('GPU'))"
   ]
  },
  {
   "cell_type": "code",
   "execution_count": 3,
   "metadata": {
    "colab": {
     "base_uri": "https://localhost:8080/",
     "height": 206
    },
    "executionInfo": {
     "elapsed": 1323,
     "status": "ok",
     "timestamp": 1712630925418,
     "user": {
      "displayName": "TAN SHIHJEN",
      "userId": "10304684316158688032"
     },
     "user_tz": -480
    },
    "id": "DLqCDoyNrlew",
    "outputId": "fe20998a-262d-4a27-bede-a8b555feca08"
   },
   "outputs": [
    {
     "data": {
      "text/html": [
       "<div>\n",
       "<style scoped>\n",
       "    .dataframe tbody tr th:only-of-type {\n",
       "        vertical-align: middle;\n",
       "    }\n",
       "\n",
       "    .dataframe tbody tr th {\n",
       "        vertical-align: top;\n",
       "    }\n",
       "\n",
       "    .dataframe thead th {\n",
       "        text-align: right;\n",
       "    }\n",
       "</style>\n",
       "<table border=\"1\" class=\"dataframe\">\n",
       "  <thead>\n",
       "    <tr style=\"text-align: right;\">\n",
       "      <th></th>\n",
       "      <th>id</th>\n",
       "      <th>text</th>\n",
       "      <th>los_icu</th>\n",
       "      <th>icu_death</th>\n",
       "    </tr>\n",
       "  </thead>\n",
       "  <tbody>\n",
       "    <tr>\n",
       "      <th>0</th>\n",
       "      <td>20001305</td>\n",
       "      <td>INDICATION:  ___ with copd in resp distress in...</td>\n",
       "      <td>2.78</td>\n",
       "      <td>1</td>\n",
       "    </tr>\n",
       "    <tr>\n",
       "      <th>1</th>\n",
       "      <td>20001361</td>\n",
       "      <td>CHEST X-RAY DATED ___.\\n\\nCOMPARISON:  None.\\n...</td>\n",
       "      <td>6.05</td>\n",
       "      <td>0</td>\n",
       "    </tr>\n",
       "    <tr>\n",
       "      <th>2</th>\n",
       "      <td>20001770</td>\n",
       "      <td>EXAMINATION:  LIVER OR GALLBLADDER US (SINGLE ...</td>\n",
       "      <td>2.87</td>\n",
       "      <td>0</td>\n",
       "    </tr>\n",
       "    <tr>\n",
       "      <th>3</th>\n",
       "      <td>20002506</td>\n",
       "      <td>EXAMINATION:  CTA HEAD AND CTA NECK Q16 CT NEC...</td>\n",
       "      <td>6.56</td>\n",
       "      <td>0</td>\n",
       "    </tr>\n",
       "    <tr>\n",
       "      <th>4</th>\n",
       "      <td>20003425</td>\n",
       "      <td>ADDENDUM  Findings were communicated to the EN...</td>\n",
       "      <td>4.00</td>\n",
       "      <td>0</td>\n",
       "    </tr>\n",
       "  </tbody>\n",
       "</table>\n",
       "</div>"
      ],
      "text/plain": [
       "         id                                               text  los_icu  \\\n",
       "0  20001305  INDICATION:  ___ with copd in resp distress in...     2.78   \n",
       "1  20001361  CHEST X-RAY DATED ___.\\n\\nCOMPARISON:  None.\\n...     6.05   \n",
       "2  20001770  EXAMINATION:  LIVER OR GALLBLADDER US (SINGLE ...     2.87   \n",
       "3  20002506  EXAMINATION:  CTA HEAD AND CTA NECK Q16 CT NEC...     6.56   \n",
       "4  20003425  ADDENDUM  Findings were communicated to the EN...     4.00   \n",
       "\n",
       "   icu_death  \n",
       "0          1  \n",
       "1          0  \n",
       "2          0  \n",
       "3          0  \n",
       "4          0  "
      ]
     },
     "execution_count": 3,
     "metadata": {},
     "output_type": "execute_result"
    }
   ],
   "source": [
    "notes = pd.read_csv('../data/notes_combined.csv')\n",
    "notes.head()"
   ]
  },
  {
   "cell_type": "code",
   "execution_count": 4,
   "metadata": {
    "executionInfo": {
     "elapsed": 5,
     "status": "ok",
     "timestamp": 1712630925419,
     "user": {
      "displayName": "TAN SHIHJEN",
      "userId": "10304684316158688032"
     },
     "user_tz": -480
    },
    "id": "0qDxhOAsrwLZ"
   },
   "outputs": [],
   "source": [
    "# define a BioClinicalBertFeatureExtractor class\n",
    "class BioClinicalBertFeatureExtractor:\n",
    "    def __init__(self):\n",
    "        self.tokenizer = AutoTokenizer.from_pretrained('emilyalsentzer/Bio_ClinicalBERT')\n",
    "        self.device = torch.device(\"cuda\" if torch.cuda.is_available() else \"cpu\")\n",
    "        self.model = AutoModel.from_pretrained('emilyalsentzer/Bio_ClinicalBERT').to(self.device)\n",
    "\n",
    "    # function that tokenize the text & groups token into blocks\n",
    "    def tokenize_and_block(self, text, block_size=510):\n",
    "        # tokenize the text\n",
    "        tokenized_text = self.tokenizer.tokenize(text)\n",
    "        # group tokens into blocks\n",
    "        blocks = []\n",
    "        for i in range(0, len(tokenized_text), block_size):\n",
    "            block = tokenized_text[i:i+block_size-2]  # exclude [CLS] and [SEP]\n",
    "            blocks.append(block)\n",
    "        return blocks\n",
    "\n",
    "    def add_special_tokens_and_padding(self, blocks, max_length=512):\n",
    "        # add the [CLS] and [SEP] tokens, and padding to each block\n",
    "        input_ids = []\n",
    "        attention_masks = []\n",
    "        for block in blocks:\n",
    "            # add [CLS] and [SEP] tokens\n",
    "            block = ['[CLS]'] + block + ['[SEP]']\n",
    "            # pad block to match max_length\n",
    "            padding_length = max_length - len(block)\n",
    "            padded_block = block + ['[PAD]'] * padding_length\n",
    "            # convert tokens to input IDs and attention masks\n",
    "            input_id = self.tokenizer.convert_tokens_to_ids(padded_block)\n",
    "            attention_mask = [1 if token != '[PAD]' else 0 for token in padded_block]\n",
    "            input_ids.append(input_id)\n",
    "            attention_masks.append(attention_mask)\n",
    "        return input_ids, attention_masks\n",
    "\n",
    "    def extract_features(self, input_ids, attention_masks):\n",
    "        # convert input_ids and attention_masks to tensors\n",
    "        input_ids = torch.tensor(input_ids).to(self.device)\n",
    "        attention_masks = torch.tensor(attention_masks).to(self.device)\n",
    "        # pass the blocks of tokens to the Bio_ClinicalBERT model\n",
    "        with torch.no_grad():\n",
    "            outputs = self.model(input_ids=input_ids, attention_mask=attention_masks)\n",
    "        # extract embeddings from all layers\n",
    "        # in BERT, outputs.last_hidden_state contains the embeddings from all layers of the model\n",
    "        # if only want last layer embeddings: code this instead >>> outputs.last_hidden_state[-1]\n",
    "        all_layer_embeddings = outputs.last_hidden_state\n",
    "        return all_layer_embeddings\n",
    "\n",
    "    def reduce_dimension(self, all_layer_embeddings):\n",
    "        # take mean along the second dimension (num of blocks, b x 768)\n",
    "        averaged_layer_embeddings = torch.mean(all_layer_embeddings, dim=1)\n",
    "        # take mean along the first dimension to get a single mean tensor (1x768)\n",
    "        reduced_layer_embeddings = torch.mean(averaged_layer_embeddings, dim=0, keepdim=True)\n",
    "        return reduced_layer_embeddings.cpu().numpy()"
   ]
  },
  {
   "cell_type": "code",
   "execution_count": 5,
   "metadata": {
    "executionInfo": {
     "elapsed": 2341,
     "status": "ok",
     "timestamp": 1712630927755,
     "user": {
      "displayName": "TAN SHIHJEN",
      "userId": "10304684316158688032"
     },
     "user_tz": -480
    },
    "id": "3anlnOywsQZN"
   },
   "outputs": [],
   "source": [
    "feature_extractor = BioClinicalBertFeatureExtractor()\n",
    "\n",
    "def feature_extraction(text):\n",
    "  # Step 1: tokeniztion & group the tokens in block\n",
    "  blocks = feature_extractor.tokenize_and_block(text)\n",
    "  # Step 2: adding special tokens [CLS][SEP] & padding\n",
    "  input_ids, attention_masks = feature_extractor.add_special_tokens_and_padding(blocks)\n",
    "  # Step 3: feature extraction\n",
    "  embeddings = feature_extractor.extract_features(input_ids, attention_masks)\n",
    "  # Step 4: reducing dimension into a single vector (1x768)\n",
    "  reduced_embeddings = feature_extractor.reduce_dimension(embeddings)\n",
    "  return reduced_embeddings"
   ]
  },
  {
   "cell_type": "code",
   "execution_count": 6,
   "metadata": {},
   "outputs": [],
   "source": [
    "notes['text_embeddings'] = notes['text'].apply(feature_extraction)"
   ]
  },
  {
   "cell_type": "code",
   "execution_count": 7,
   "metadata": {},
   "outputs": [
    {
     "data": {
      "text/html": [
       "<div>\n",
       "<style scoped>\n",
       "    .dataframe tbody tr th:only-of-type {\n",
       "        vertical-align: middle;\n",
       "    }\n",
       "\n",
       "    .dataframe tbody tr th {\n",
       "        vertical-align: top;\n",
       "    }\n",
       "\n",
       "    .dataframe thead th {\n",
       "        text-align: right;\n",
       "    }\n",
       "</style>\n",
       "<table border=\"1\" class=\"dataframe\">\n",
       "  <thead>\n",
       "    <tr style=\"text-align: right;\">\n",
       "      <th></th>\n",
       "      <th>id</th>\n",
       "      <th>text</th>\n",
       "      <th>los_icu</th>\n",
       "      <th>icu_death</th>\n",
       "      <th>text_embeddings</th>\n",
       "    </tr>\n",
       "  </thead>\n",
       "  <tbody>\n",
       "    <tr>\n",
       "      <th>0</th>\n",
       "      <td>20001305</td>\n",
       "      <td>INDICATION:  ___ with copd in resp distress in...</td>\n",
       "      <td>2.78</td>\n",
       "      <td>1</td>\n",
       "      <td>[[0.049554482, -0.037176017, -0.12742633, -0.0...</td>\n",
       "    </tr>\n",
       "    <tr>\n",
       "      <th>1</th>\n",
       "      <td>20001361</td>\n",
       "      <td>CHEST X-RAY DATED ___.\\n\\nCOMPARISON:  None.\\n...</td>\n",
       "      <td>6.05</td>\n",
       "      <td>0</td>\n",
       "      <td>[[0.07767977, -0.3104843, -0.00207543, 0.08938...</td>\n",
       "    </tr>\n",
       "    <tr>\n",
       "      <th>2</th>\n",
       "      <td>20001770</td>\n",
       "      <td>EXAMINATION:  LIVER OR GALLBLADDER US (SINGLE ...</td>\n",
       "      <td>2.87</td>\n",
       "      <td>0</td>\n",
       "      <td>[[0.13288823, -0.19106844, -0.029916322, 0.103...</td>\n",
       "    </tr>\n",
       "    <tr>\n",
       "      <th>3</th>\n",
       "      <td>20002506</td>\n",
       "      <td>EXAMINATION:  CTA HEAD AND CTA NECK Q16 CT NEC...</td>\n",
       "      <td>6.56</td>\n",
       "      <td>0</td>\n",
       "      <td>[[0.0045207953, -0.2325671, 0.02542379, 0.1055...</td>\n",
       "    </tr>\n",
       "    <tr>\n",
       "      <th>4</th>\n",
       "      <td>20003425</td>\n",
       "      <td>ADDENDUM  Findings were communicated to the EN...</td>\n",
       "      <td>4.00</td>\n",
       "      <td>0</td>\n",
       "      <td>[[0.1222434, -0.2150542, -0.06553799, 0.045977...</td>\n",
       "    </tr>\n",
       "  </tbody>\n",
       "</table>\n",
       "</div>"
      ],
      "text/plain": [
       "         id                                               text  los_icu  \\\n",
       "0  20001305  INDICATION:  ___ with copd in resp distress in...     2.78   \n",
       "1  20001361  CHEST X-RAY DATED ___.\\n\\nCOMPARISON:  None.\\n...     6.05   \n",
       "2  20001770  EXAMINATION:  LIVER OR GALLBLADDER US (SINGLE ...     2.87   \n",
       "3  20002506  EXAMINATION:  CTA HEAD AND CTA NECK Q16 CT NEC...     6.56   \n",
       "4  20003425  ADDENDUM  Findings were communicated to the EN...     4.00   \n",
       "\n",
       "   icu_death                                    text_embeddings  \n",
       "0          1  [[0.049554482, -0.037176017, -0.12742633, -0.0...  \n",
       "1          0  [[0.07767977, -0.3104843, -0.00207543, 0.08938...  \n",
       "2          0  [[0.13288823, -0.19106844, -0.029916322, 0.103...  \n",
       "3          0  [[0.0045207953, -0.2325671, 0.02542379, 0.1055...  \n",
       "4          0  [[0.1222434, -0.2150542, -0.06553799, 0.045977...  "
      ]
     },
     "metadata": {},
     "output_type": "display_data"
    },
    {
     "name": "stdout",
     "output_type": "stream",
     "text": [
      "Number of patients: 20403\n",
      "1\n"
     ]
    }
   ],
   "source": [
    "# the text vector will be stored in a new column 'text_embeddings'\n",
    "display(notes.head())\n",
    "\n",
    "# check the number of patients in the dataset\n",
    "print('Number of patients:', notes.id.nunique())\n",
    "\n",
    "# check the dimension of the text vector\n",
    "print(len(notes['text_embeddings'].iloc[0]))"
   ]
  },
  {
   "cell_type": "code",
   "execution_count": 8,
   "metadata": {},
   "outputs": [],
   "source": [
    "notes.to_csv('../data/notes_embedded.csv', index=False)"
   ]
  }
 ],
 "metadata": {
  "colab": {
   "authorship_tag": "ABX9TyPBl1Q4kKu2N63PZgzJMsyu",
   "machine_shape": "hm",
   "provenance": []
  },
  "kernelspec": {
   "display_name": "Python 3 (ipykernel)",
   "language": "python",
   "name": "python3"
  },
  "language_info": {
   "codemirror_mode": {
    "name": "ipython",
    "version": 3
   },
   "file_extension": ".py",
   "mimetype": "text/x-python",
   "name": "python",
   "nbconvert_exporter": "python",
   "pygments_lexer": "ipython3",
   "version": "3.11.8"
  }
 },
 "nbformat": 4,
 "nbformat_minor": 4
}

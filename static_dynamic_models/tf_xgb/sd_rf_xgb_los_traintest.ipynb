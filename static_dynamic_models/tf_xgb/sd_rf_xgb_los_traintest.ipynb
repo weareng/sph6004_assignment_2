{
 "cells": [
  {
   "cell_type": "code",
   "execution_count": 1,
   "metadata": {},
   "outputs": [],
   "source": [
    "import pandas as pd\n",
    "import numpy as np\n",
    "\n",
    "rng = np.random.RandomState(42)"
   ]
  },
  {
   "cell_type": "code",
   "execution_count": 2,
   "metadata": {},
   "outputs": [],
   "source": [
    "data = pd.read_csv('train_test.csv')"
   ]
  },
  {
   "cell_type": "markdown",
   "metadata": {},
   "source": [
    "# Preprocessing"
   ]
  },
  {
   "cell_type": "code",
   "execution_count": 4,
   "metadata": {},
   "outputs": [],
   "source": [
    "# drop features with 50% null\n",
    "missing = data.isnull().sum()\n",
    "\n",
    "threshold = 0.5 * len(data)\n",
    "col_to_drop = missing[missing > threshold].index\n",
    "data = data.drop(columns=col_to_drop)"
   ]
  },
  {
   "cell_type": "code",
   "execution_count": 5,
   "metadata": {},
   "outputs": [
    {
     "data": {
      "text/plain": [
       "(16322, 111)"
      ]
     },
     "execution_count": 5,
     "metadata": {},
     "output_type": "execute_result"
    }
   ],
   "source": [
    "# choose the last row for each patient\n",
    "data = data.sort_values(by=['id', 'charttime'], ascending=False)\n",
    "data = data.groupby('id').first().reset_index()\n",
    "data.shape"
   ]
  },
  {
   "cell_type": "code",
   "execution_count": 6,
   "metadata": {},
   "outputs": [],
   "source": [
    "# fill nan with mean\n",
    "num = data.select_dtypes(include=['float']).columns\n",
    "\n",
    "data[num] = data[num].fillna(data[num].mean())"
   ]
  },
  {
   "cell_type": "code",
   "execution_count": 7,
   "metadata": {},
   "outputs": [],
   "source": [
    "# classify the los_icu\n",
    "data.loc[data['los_icu_class'] == 'less than 3 days', 'los_icu_class'] = 0\n",
    "data.loc[data['los_icu_class'] == 'greater than or equal to 3 days', 'los_icu_class'] = 1\n",
    "data['los_icu_class'] = data['los_icu_class'].astype('int')"
   ]
  },
  {
   "cell_type": "code",
   "execution_count": 8,
   "metadata": {},
   "outputs": [],
   "source": [
    "# split train and test before oversampling and feature selection\n",
    "from sklearn.model_selection import train_test_split\n",
    "\n",
    "# construct X and y\n",
    "X = data.drop(columns=['id', 'charttime', 'hosp_admittime', 'hosp_dischtime', 'icu_intime', 'icu_outtime', \n",
    "                       'los_icu', 'text_embeddings', 'los_icu_class'])\n",
    "y = data['los_icu_class']\n",
    "\n",
    "X_train, X_test, y_train, y_test = train_test_split(X, y, test_size=0.2, random_state=rng, stratify=y)"
   ]
  },
  {
   "cell_type": "code",
   "execution_count": 9,
   "metadata": {},
   "outputs": [
    {
     "data": {
      "text/plain": [
       "Counter({0: 6912, 1: 6145})"
      ]
     },
     "execution_count": 9,
     "metadata": {},
     "output_type": "execute_result"
    }
   ],
   "source": [
    "from collections import Counter\n",
    "Counter(y_train) # do not exist sample imbalance problem"
   ]
  },
  {
   "cell_type": "markdown",
   "metadata": {},
   "source": [
    "# Feature Selection"
   ]
  },
  {
   "cell_type": "code",
   "execution_count": 10,
   "metadata": {},
   "outputs": [],
   "source": [
    "# numerical features\n",
    "num = X.select_dtypes(include=['float']).columns\n",
    "\n",
    "X_num_train = X_train[num]\n",
    "X_num_test = X_test[num]\n",
    "\n",
    "data_trained = pd.concat([X_num_train, y_train], axis=1)"
   ]
  },
  {
   "cell_type": "code",
   "execution_count": 11,
   "metadata": {},
   "outputs": [],
   "source": [
    "# Z-score standardization\n",
    "from sklearn import preprocessing\n",
    "\n",
    "scaler = preprocessing.StandardScaler()\n",
    "fit_scaler = scaler.fit(X_num_train)\n",
    "\n",
    "train_num_scaled = fit_scaler.transform(X_num_train)\n",
    "test_num_scaled = fit_scaler.transform(X_num_test)"
   ]
  },
  {
   "cell_type": "code",
   "execution_count": 12,
   "metadata": {},
   "outputs": [],
   "source": [
    "# merge scaled numeric feature with other categorical features\n",
    "train_num_scaled = pd.DataFrame(train_num_scaled, columns=num, index=X_num_train.index)\n",
    "test_num_scaled = pd.DataFrame(test_num_scaled, columns=num, index=X_num_test.index)\n",
    "\n",
    "X_train[num] = train_num_scaled[num]\n",
    "X_test[num] = test_num_scaled[num]"
   ]
  },
  {
   "cell_type": "code",
   "execution_count": 13,
   "metadata": {},
   "outputs": [],
   "source": [
    "from sklearn.ensemble import RandomForestClassifier\n",
    "\n",
    "n_selected = 20\n",
    "\n",
    "rf_model = RandomForestClassifier(n_estimators=100, criterion='entropy', random_state=rng)\n",
    "rf_model.fit(X_train, y_train)\n",
    "\n",
    "feature_importances = rf_model.feature_importances_\n",
    "feature_importances = pd.concat([\n",
    "                                pd.DataFrame({'feature': X_train.columns}),\n",
    "                                pd.DataFrame({'importance': feature_importances})], \n",
    "                                axis=1)\n",
    "rf_selected = feature_importances.sort_values(by='importance', ascending=False).head(n_selected)['feature']"
   ]
  },
  {
   "cell_type": "code",
   "execution_count": 41,
   "metadata": {},
   "outputs": [],
   "source": [
    "from sklearn.feature_selection import RFE\n",
    "from sklearn.linear_model import LogisticRegression\n",
    "\n",
    "log_reg = LogisticRegression(penalty='l1', C=1/5, solver='liblinear', random_state=rng)\n",
    "rfe = RFE(log_reg, n_features_to_select=20)\n",
    "fit = rfe.fit(X_train, y_train)\n",
    "\n",
    "rfe_selected = X_train.columns[fit.support_]"
   ]
  },
  {
   "cell_type": "markdown",
   "metadata": {},
   "source": [
    "# Modeling"
   ]
  },
  {
   "cell_type": "code",
   "execution_count": 14,
   "metadata": {},
   "outputs": [],
   "source": [
    "# Grid Search for hyperparameters\n",
    "from sklearn.model_selection import GridSearchCV\n",
    "\n",
    "def grid_search(X_train, y_train, model, param, cv=5, scoring='recall'):\n",
    "    search = GridSearchCV(model, param, cv=cv, scoring=scoring)\n",
    "    search.fit(X_train, y_train)\n",
    "    best_model = search.best_estimator_\n",
    "    return best_model"
   ]
  },
  {
   "cell_type": "code",
   "execution_count": 15,
   "metadata": {},
   "outputs": [],
   "source": [
    "# Model Evaluation\n",
    "import matplotlib.pyplot as plt\n",
    "import seaborn as sns\n",
    "from sklearn.metrics import precision_score, recall_score, f1_score, classification_report\n",
    "\n",
    "def model_evaluate(pred, test, model):\n",
    "    prec = precision_score(test, pred)\n",
    "    recall = recall_score(test, pred)\n",
    "    f1 = f1_score(test, pred)\n",
    "    class_report = classification_report(test, pred, labels=[0, 1])\n",
    "\n",
    "    print(f\"Precision: {prec:.3f}, \", f\"Recall: {recall:.3f}, \", f\"F1: {f1:.3f}\")\n",
    "    print(\"\\nClassification Report:\")\n",
    "    print(class_report)"
   ]
  },
  {
   "cell_type": "code",
   "execution_count": 16,
   "metadata": {},
   "outputs": [],
   "source": [
    "X_train_sub = X_train[rf_selected]\n",
    "X_test_sub = X_test[rf_selected]"
   ]
  },
  {
   "cell_type": "code",
   "execution_count": 17,
   "metadata": {},
   "outputs": [
    {
     "data": {
      "text/html": [
       "<style>#sk-container-id-1 {color: black;}#sk-container-id-1 pre{padding: 0;}#sk-container-id-1 div.sk-toggleable {background-color: white;}#sk-container-id-1 label.sk-toggleable__label {cursor: pointer;display: block;width: 100%;margin-bottom: 0;padding: 0.3em;box-sizing: border-box;text-align: center;}#sk-container-id-1 label.sk-toggleable__label-arrow:before {content: \"▸\";float: left;margin-right: 0.25em;color: #696969;}#sk-container-id-1 label.sk-toggleable__label-arrow:hover:before {color: black;}#sk-container-id-1 div.sk-estimator:hover label.sk-toggleable__label-arrow:before {color: black;}#sk-container-id-1 div.sk-toggleable__content {max-height: 0;max-width: 0;overflow: hidden;text-align: left;background-color: #f0f8ff;}#sk-container-id-1 div.sk-toggleable__content pre {margin: 0.2em;color: black;border-radius: 0.25em;background-color: #f0f8ff;}#sk-container-id-1 input.sk-toggleable__control:checked~div.sk-toggleable__content {max-height: 200px;max-width: 100%;overflow: auto;}#sk-container-id-1 input.sk-toggleable__control:checked~label.sk-toggleable__label-arrow:before {content: \"▾\";}#sk-container-id-1 div.sk-estimator input.sk-toggleable__control:checked~label.sk-toggleable__label {background-color: #d4ebff;}#sk-container-id-1 div.sk-label input.sk-toggleable__control:checked~label.sk-toggleable__label {background-color: #d4ebff;}#sk-container-id-1 input.sk-hidden--visually {border: 0;clip: rect(1px 1px 1px 1px);clip: rect(1px, 1px, 1px, 1px);height: 1px;margin: -1px;overflow: hidden;padding: 0;position: absolute;width: 1px;}#sk-container-id-1 div.sk-estimator {font-family: monospace;background-color: #f0f8ff;border: 1px dotted black;border-radius: 0.25em;box-sizing: border-box;margin-bottom: 0.5em;}#sk-container-id-1 div.sk-estimator:hover {background-color: #d4ebff;}#sk-container-id-1 div.sk-parallel-item::after {content: \"\";width: 100%;border-bottom: 1px solid gray;flex-grow: 1;}#sk-container-id-1 div.sk-label:hover label.sk-toggleable__label {background-color: #d4ebff;}#sk-container-id-1 div.sk-serial::before {content: \"\";position: absolute;border-left: 1px solid gray;box-sizing: border-box;top: 0;bottom: 0;left: 50%;z-index: 0;}#sk-container-id-1 div.sk-serial {display: flex;flex-direction: column;align-items: center;background-color: white;padding-right: 0.2em;padding-left: 0.2em;position: relative;}#sk-container-id-1 div.sk-item {position: relative;z-index: 1;}#sk-container-id-1 div.sk-parallel {display: flex;align-items: stretch;justify-content: center;background-color: white;position: relative;}#sk-container-id-1 div.sk-item::before, #sk-container-id-1 div.sk-parallel-item::before {content: \"\";position: absolute;border-left: 1px solid gray;box-sizing: border-box;top: 0;bottom: 0;left: 50%;z-index: -1;}#sk-container-id-1 div.sk-parallel-item {display: flex;flex-direction: column;z-index: 1;position: relative;background-color: white;}#sk-container-id-1 div.sk-parallel-item:first-child::after {align-self: flex-end;width: 50%;}#sk-container-id-1 div.sk-parallel-item:last-child::after {align-self: flex-start;width: 50%;}#sk-container-id-1 div.sk-parallel-item:only-child::after {width: 0;}#sk-container-id-1 div.sk-dashed-wrapped {border: 1px dashed gray;margin: 0 0.4em 0.5em 0.4em;box-sizing: border-box;padding-bottom: 0.4em;background-color: white;}#sk-container-id-1 div.sk-label label {font-family: monospace;font-weight: bold;display: inline-block;line-height: 1.2em;}#sk-container-id-1 div.sk-label-container {text-align: center;}#sk-container-id-1 div.sk-container {/* jupyter's `normalize.less` sets `[hidden] { display: none; }` but bootstrap.min.css set `[hidden] { display: none !important; }` so we also need the `!important` here to be able to override the default hidden behavior on the sphinx rendered scikit-learn.org. See: https://github.com/scikit-learn/scikit-learn/issues/21755 */display: inline-block !important;position: relative;}#sk-container-id-1 div.sk-text-repr-fallback {display: none;}</style><div id=\"sk-container-id-1\" class=\"sk-top-container\"><div class=\"sk-text-repr-fallback\"><pre>RandomForestClassifier(max_depth=10,\n",
       "                       random_state=RandomState(MT19937) at 0x18908286040)</pre><b>In a Jupyter environment, please rerun this cell to show the HTML representation or trust the notebook. <br />On GitHub, the HTML representation is unable to render, please try loading this page with nbviewer.org.</b></div><div class=\"sk-container\" hidden><div class=\"sk-item\"><div class=\"sk-estimator sk-toggleable\"><input class=\"sk-toggleable__control sk-hidden--visually\" id=\"sk-estimator-id-1\" type=\"checkbox\" checked><label for=\"sk-estimator-id-1\" class=\"sk-toggleable__label sk-toggleable__label-arrow\">RandomForestClassifier</label><div class=\"sk-toggleable__content\"><pre>RandomForestClassifier(max_depth=10,\n",
       "                       random_state=RandomState(MT19937) at 0x18908286040)</pre></div></div></div></div></div>"
      ],
      "text/plain": [
       "RandomForestClassifier(max_depth=10,\n",
       "                       random_state=RandomState(MT19937) at 0x18908286040)"
      ]
     },
     "execution_count": 17,
     "metadata": {},
     "output_type": "execute_result"
    }
   ],
   "source": [
    "from sklearn.ensemble import RandomForestClassifier\n",
    "\n",
    "param_grid = {\n",
    "    'n_estimators': [50, 100, 150, 200],\n",
    "    'max_depth': [5, 10, 15]\n",
    "}\n",
    "\n",
    "rf_model = RandomForestClassifier(random_state=rng)\n",
    "\n",
    "rf_best = grid_search(X_train_sub, y_train, rf_model, param_grid)\n",
    "rf_best.fit(X_train_sub, y_train)"
   ]
  },
  {
   "cell_type": "code",
   "execution_count": 18,
   "metadata": {},
   "outputs": [
    {
     "name": "stdout",
     "output_type": "stream",
     "text": [
      "Precision: 0.646,  Recall: 0.569,  F1: 0.605\n",
      "\n",
      "Classification Report:\n",
      "              precision    recall  f1-score   support\n",
      "\n",
      "           0       0.65      0.72      0.69      1729\n",
      "           1       0.65      0.57      0.61      1536\n",
      "\n",
      "    accuracy                           0.65      3265\n",
      "   macro avg       0.65      0.65      0.65      3265\n",
      "weighted avg       0.65      0.65      0.65      3265\n",
      "\n"
     ]
    }
   ],
   "source": [
    "y_pred = rf_best.predict(X_test_sub)\n",
    "\n",
    "model_evaluate(y_pred, y_test, model=\"Random Forest\")"
   ]
  },
  {
   "cell_type": "code",
   "execution_count": 21,
   "metadata": {},
   "outputs": [
    {
     "name": "stdout",
     "output_type": "stream",
     "text": [
      "Precision: 0.609,  Recall: 0.564,  F1: 0.585\n",
      "\n",
      "Classification Report:\n",
      "              precision    recall  f1-score   support\n",
      "\n",
      "           0       0.64      0.68      0.66      1729\n",
      "           1       0.61      0.56      0.59      1536\n",
      "\n",
      "    accuracy                           0.62      3265\n",
      "   macro avg       0.62      0.62      0.62      3265\n",
      "weighted avg       0.62      0.62      0.62      3265\n",
      "\n"
     ]
    }
   ],
   "source": [
    "import xgboost as xgb\n",
    "\n",
    "xg = xgb.XGBClassifier(objective='multi:softmax', num_class=2, seed=42)\n",
    "\n",
    "xg.fit(X_train_sub, y_train)\n",
    "\n",
    "y_pred = xg.predict(X_test_sub)\n",
    "model_evaluate(y_pred, y_test, model=\"XGBoost\")"
   ]
  },
  {
   "cell_type": "code",
   "execution_count": 20,
   "metadata": {},
   "outputs": [],
   "source": [
    "rf_probs = rf_best.predict_proba(X[rf_selected])\n",
    "rf_probs = pd.DataFrame(rf_probs)\n",
    "rf_probs['id'] = data['id']\n",
    "rf_probs.to_csv('los_probability_sd_rf_traintest.csv', index=False)"
   ]
  },
  {
   "cell_type": "code",
   "execution_count": 23,
   "metadata": {},
   "outputs": [],
   "source": [
    "xg_probs = xg.predict_proba(X[rf_selected])\n",
    "xg_probs = pd.DataFrame(xg_probs)\n",
    "xg_probs['id'] = data['id']\n",
    "xg_probs.to_csv('los_probability_sd_xgb_traintest.csv', index=False)"
   ]
  }
 ],
 "metadata": {
  "kernelspec": {
   "display_name": "base",
   "language": "python",
   "name": "python3"
  },
  "language_info": {
   "codemirror_mode": {
    "name": "ipython",
    "version": 3
   },
   "file_extension": ".py",
   "mimetype": "text/x-python",
   "name": "python",
   "nbconvert_exporter": "python",
   "pygments_lexer": "ipython3",
   "version": "3.11.7"
  }
 },
 "nbformat": 4,
 "nbformat_minor": 2
}

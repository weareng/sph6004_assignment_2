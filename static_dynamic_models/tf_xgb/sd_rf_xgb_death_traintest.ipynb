{
 "cells": [
  {
   "cell_type": "code",
   "execution_count": 1,
   "metadata": {},
   "outputs": [],
   "source": [
    "import pandas as pd\n",
    "import numpy as np"
   ]
  },
  {
   "cell_type": "code",
   "execution_count": 2,
   "metadata": {},
   "outputs": [],
   "source": [
    "rng = np.random.RandomState(42)"
   ]
  },
  {
   "cell_type": "code",
   "execution_count": 3,
   "metadata": {},
   "outputs": [
    {
     "data": {
      "text/plain": [
       "(408050, 112)"
      ]
     },
     "execution_count": 3,
     "metadata": {},
     "output_type": "execute_result"
    }
   ],
   "source": [
    "data = pd.read_csv('train_test.csv')\n",
    "data.shape"
   ]
  },
  {
   "cell_type": "code",
   "execution_count": 14,
   "metadata": {},
   "outputs": [
    {
     "data": {
      "text/html": [
       "<div>\n",
       "<style scoped>\n",
       "    .dataframe tbody tr th:only-of-type {\n",
       "        vertical-align: middle;\n",
       "    }\n",
       "\n",
       "    .dataframe tbody tr th {\n",
       "        vertical-align: top;\n",
       "    }\n",
       "\n",
       "    .dataframe thead th {\n",
       "        text-align: right;\n",
       "    }\n",
       "</style>\n",
       "<table border=\"1\" class=\"dataframe\">\n",
       "  <thead>\n",
       "    <tr style=\"text-align: right;\">\n",
       "      <th></th>\n",
       "      <th>id</th>\n",
       "      <th>charttime</th>\n",
       "      <th>hosp_admittime</th>\n",
       "      <th>hosp_dischtime</th>\n",
       "      <th>icu_intime</th>\n",
       "      <th>icu_outtime</th>\n",
       "      <th>los_icu</th>\n",
       "      <th>icu_death</th>\n",
       "      <th>gender</th>\n",
       "      <th>admission_age</th>\n",
       "      <th>...</th>\n",
       "      <th>glucose_bg</th>\n",
       "      <th>d_dimer</th>\n",
       "      <th>fibrinogen</th>\n",
       "      <th>thrombin</th>\n",
       "      <th>inr</th>\n",
       "      <th>pt</th>\n",
       "      <th>ptt</th>\n",
       "      <th>urineoutput</th>\n",
       "      <th>text_embeddings</th>\n",
       "      <th>los_icu_class</th>\n",
       "    </tr>\n",
       "  </thead>\n",
       "  <tbody>\n",
       "    <tr>\n",
       "      <th>0</th>\n",
       "      <td>20001305</td>\n",
       "      <td>1978-03-25 02:00:00</td>\n",
       "      <td>1978-03-25 02:58:00</td>\n",
       "      <td>1978-03-27 19:23:00</td>\n",
       "      <td>1978-03-25 02:59:00</td>\n",
       "      <td>1978-03-27 21:46:00</td>\n",
       "      <td>2.78</td>\n",
       "      <td>1</td>\n",
       "      <td>1.0</td>\n",
       "      <td>84.22776</td>\n",
       "      <td>...</td>\n",
       "      <td>NaN</td>\n",
       "      <td>NaN</td>\n",
       "      <td>NaN</td>\n",
       "      <td>NaN</td>\n",
       "      <td>NaN</td>\n",
       "      <td>NaN</td>\n",
       "      <td>NaN</td>\n",
       "      <td>NaN</td>\n",
       "      <td>[ 4.95544821e-02 -3.71760167e-02 -1.27426326e-...</td>\n",
       "      <td>less than 3 days</td>\n",
       "    </tr>\n",
       "    <tr>\n",
       "      <th>1</th>\n",
       "      <td>20001305</td>\n",
       "      <td>1978-03-25 03:00:00</td>\n",
       "      <td>1978-03-25 02:58:00</td>\n",
       "      <td>1978-03-27 19:23:00</td>\n",
       "      <td>1978-03-25 02:59:00</td>\n",
       "      <td>1978-03-27 21:46:00</td>\n",
       "      <td>2.78</td>\n",
       "      <td>1</td>\n",
       "      <td>1.0</td>\n",
       "      <td>84.22776</td>\n",
       "      <td>...</td>\n",
       "      <td>NaN</td>\n",
       "      <td>NaN</td>\n",
       "      <td>NaN</td>\n",
       "      <td>NaN</td>\n",
       "      <td>NaN</td>\n",
       "      <td>NaN</td>\n",
       "      <td>NaN</td>\n",
       "      <td>NaN</td>\n",
       "      <td>[ 4.95544821e-02 -3.71760167e-02 -1.27426326e-...</td>\n",
       "      <td>less than 3 days</td>\n",
       "    </tr>\n",
       "    <tr>\n",
       "      <th>2</th>\n",
       "      <td>20001305</td>\n",
       "      <td>1978-03-25 04:00:00</td>\n",
       "      <td>1978-03-25 02:58:00</td>\n",
       "      <td>1978-03-27 19:23:00</td>\n",
       "      <td>1978-03-25 02:59:00</td>\n",
       "      <td>1978-03-27 21:46:00</td>\n",
       "      <td>2.78</td>\n",
       "      <td>1</td>\n",
       "      <td>1.0</td>\n",
       "      <td>84.22776</td>\n",
       "      <td>...</td>\n",
       "      <td>NaN</td>\n",
       "      <td>NaN</td>\n",
       "      <td>NaN</td>\n",
       "      <td>NaN</td>\n",
       "      <td>NaN</td>\n",
       "      <td>NaN</td>\n",
       "      <td>NaN</td>\n",
       "      <td>NaN</td>\n",
       "      <td>[ 4.95544821e-02 -3.71760167e-02 -1.27426326e-...</td>\n",
       "      <td>less than 3 days</td>\n",
       "    </tr>\n",
       "    <tr>\n",
       "      <th>3</th>\n",
       "      <td>20001305</td>\n",
       "      <td>1978-03-25 05:00:00</td>\n",
       "      <td>1978-03-25 02:58:00</td>\n",
       "      <td>1978-03-27 19:23:00</td>\n",
       "      <td>1978-03-25 02:59:00</td>\n",
       "      <td>1978-03-27 21:46:00</td>\n",
       "      <td>2.78</td>\n",
       "      <td>1</td>\n",
       "      <td>1.0</td>\n",
       "      <td>84.22776</td>\n",
       "      <td>...</td>\n",
       "      <td>NaN</td>\n",
       "      <td>NaN</td>\n",
       "      <td>NaN</td>\n",
       "      <td>NaN</td>\n",
       "      <td>NaN</td>\n",
       "      <td>NaN</td>\n",
       "      <td>NaN</td>\n",
       "      <td>NaN</td>\n",
       "      <td>[ 4.95544821e-02 -3.71760167e-02 -1.27426326e-...</td>\n",
       "      <td>less than 3 days</td>\n",
       "    </tr>\n",
       "    <tr>\n",
       "      <th>4</th>\n",
       "      <td>20001305</td>\n",
       "      <td>1978-03-25 06:00:00</td>\n",
       "      <td>1978-03-25 02:58:00</td>\n",
       "      <td>1978-03-27 19:23:00</td>\n",
       "      <td>1978-03-25 02:59:00</td>\n",
       "      <td>1978-03-27 21:46:00</td>\n",
       "      <td>2.78</td>\n",
       "      <td>1</td>\n",
       "      <td>1.0</td>\n",
       "      <td>84.22776</td>\n",
       "      <td>...</td>\n",
       "      <td>NaN</td>\n",
       "      <td>NaN</td>\n",
       "      <td>NaN</td>\n",
       "      <td>NaN</td>\n",
       "      <td>NaN</td>\n",
       "      <td>NaN</td>\n",
       "      <td>NaN</td>\n",
       "      <td>NaN</td>\n",
       "      <td>[ 4.95544821e-02 -3.71760167e-02 -1.27426326e-...</td>\n",
       "      <td>less than 3 days</td>\n",
       "    </tr>\n",
       "  </tbody>\n",
       "</table>\n",
       "<p>5 rows × 112 columns</p>\n",
       "</div>"
      ],
      "text/plain": [
       "         id            charttime       hosp_admittime       hosp_dischtime  \\\n",
       "0  20001305  1978-03-25 02:00:00  1978-03-25 02:58:00  1978-03-27 19:23:00   \n",
       "1  20001305  1978-03-25 03:00:00  1978-03-25 02:58:00  1978-03-27 19:23:00   \n",
       "2  20001305  1978-03-25 04:00:00  1978-03-25 02:58:00  1978-03-27 19:23:00   \n",
       "3  20001305  1978-03-25 05:00:00  1978-03-25 02:58:00  1978-03-27 19:23:00   \n",
       "4  20001305  1978-03-25 06:00:00  1978-03-25 02:58:00  1978-03-27 19:23:00   \n",
       "\n",
       "            icu_intime          icu_outtime  los_icu  icu_death  gender  \\\n",
       "0  1978-03-25 02:59:00  1978-03-27 21:46:00     2.78          1     1.0   \n",
       "1  1978-03-25 02:59:00  1978-03-27 21:46:00     2.78          1     1.0   \n",
       "2  1978-03-25 02:59:00  1978-03-27 21:46:00     2.78          1     1.0   \n",
       "3  1978-03-25 02:59:00  1978-03-27 21:46:00     2.78          1     1.0   \n",
       "4  1978-03-25 02:59:00  1978-03-27 21:46:00     2.78          1     1.0   \n",
       "\n",
       "   admission_age  ...  glucose_bg  d_dimer  fibrinogen  thrombin  inr  pt  \\\n",
       "0       84.22776  ...         NaN      NaN         NaN       NaN  NaN NaN   \n",
       "1       84.22776  ...         NaN      NaN         NaN       NaN  NaN NaN   \n",
       "2       84.22776  ...         NaN      NaN         NaN       NaN  NaN NaN   \n",
       "3       84.22776  ...         NaN      NaN         NaN       NaN  NaN NaN   \n",
       "4       84.22776  ...         NaN      NaN         NaN       NaN  NaN NaN   \n",
       "\n",
       "   ptt  urineoutput                                    text_embeddings  \\\n",
       "0  NaN          NaN  [ 4.95544821e-02 -3.71760167e-02 -1.27426326e-...   \n",
       "1  NaN          NaN  [ 4.95544821e-02 -3.71760167e-02 -1.27426326e-...   \n",
       "2  NaN          NaN  [ 4.95544821e-02 -3.71760167e-02 -1.27426326e-...   \n",
       "3  NaN          NaN  [ 4.95544821e-02 -3.71760167e-02 -1.27426326e-...   \n",
       "4  NaN          NaN  [ 4.95544821e-02 -3.71760167e-02 -1.27426326e-...   \n",
       "\n",
       "      los_icu_class  \n",
       "0  less than 3 days  \n",
       "1  less than 3 days  \n",
       "2  less than 3 days  \n",
       "3  less than 3 days  \n",
       "4  less than 3 days  \n",
       "\n",
       "[5 rows x 112 columns]"
      ]
     },
     "execution_count": 14,
     "metadata": {},
     "output_type": "execute_result"
    }
   ],
   "source": [
    "data.head()"
   ]
  },
  {
   "cell_type": "code",
   "execution_count": 15,
   "metadata": {},
   "outputs": [
    {
     "data": {
      "text/plain": [
       "id                   int64\n",
       "charttime           object\n",
       "hosp_admittime      object\n",
       "hosp_dischtime      object\n",
       "icu_intime          object\n",
       "                    ...   \n",
       "pt                 float64\n",
       "ptt                float64\n",
       "urineoutput        float64\n",
       "text_embeddings     object\n",
       "los_icu_class       object\n",
       "Length: 112, dtype: object"
      ]
     },
     "execution_count": 15,
     "metadata": {},
     "output_type": "execute_result"
    }
   ],
   "source": [
    "data.dtypes"
   ]
  },
  {
   "cell_type": "code",
   "execution_count": 4,
   "metadata": {},
   "outputs": [],
   "source": [
    "cats = ['icu_death', 'gender', 'admission_type', 'atrial_fibrillation', 'malignant_cancer',\n",
    "       'chf', 'ckd', 'cld', 'copd', 'diabetes', 'hypertension', 'ihd', 'stroke']\n",
    "for col in cats:\n",
    "   data[col] = data[col].astype('int')"
   ]
  },
  {
   "cell_type": "code",
   "execution_count": 5,
   "metadata": {},
   "outputs": [
    {
     "data": {
      "text/plain": [
       "id                 408050\n",
       "charttime          408050\n",
       "hosp_admittime     408050\n",
       "hosp_dischtime     408050\n",
       "icu_intime         408050\n",
       "                    ...  \n",
       "pt                 408039\n",
       "ptt                408039\n",
       "urineoutput        407894\n",
       "text_embeddings    408050\n",
       "los_icu_class      408050\n",
       "Length: 112, dtype: int64"
      ]
     },
     "execution_count": 5,
     "metadata": {},
     "output_type": "execute_result"
    }
   ],
   "source": [
    "data.count()"
   ]
  },
  {
   "cell_type": "code",
   "execution_count": null,
   "metadata": {},
   "outputs": [],
   "source": [
    "data.to_csv('train_test.csv', index=False)"
   ]
  },
  {
   "cell_type": "markdown",
   "metadata": {},
   "source": [
    "# Data Preparation"
   ]
  },
  {
   "cell_type": "code",
   "execution_count": 6,
   "metadata": {},
   "outputs": [],
   "source": [
    "# drop features with 50% null\n",
    "missing = data.isnull().sum()\n",
    "\n",
    "threshold = 0.5 * len(data)\n",
    "col_to_drop = missing[missing > threshold].index\n",
    "data = data.drop(columns=col_to_drop)"
   ]
  },
  {
   "cell_type": "code",
   "execution_count": 7,
   "metadata": {},
   "outputs": [
    {
     "data": {
      "text/plain": [
       "(408050, 111)"
      ]
     },
     "execution_count": 7,
     "metadata": {},
     "output_type": "execute_result"
    }
   ],
   "source": [
    "data.shape"
   ]
  },
  {
   "cell_type": "code",
   "execution_count": 8,
   "metadata": {},
   "outputs": [
    {
     "data": {
      "text/plain": [
       "(16322, 111)"
      ]
     },
     "execution_count": 8,
     "metadata": {},
     "output_type": "execute_result"
    }
   ],
   "source": [
    "# choose the last row for each patient\n",
    "data = data.sort_values(by=['id', 'charttime'], ascending=False)\n",
    "data = data.groupby('id').first().reset_index()\n",
    "data.shape"
   ]
  },
  {
   "cell_type": "code",
   "execution_count": 9,
   "metadata": {},
   "outputs": [],
   "source": [
    "# fill nan with mean\n",
    "num = data.select_dtypes(include=['float']).columns\n",
    "\n",
    "data[num] = data[num].fillna(data[num].mean())"
   ]
  },
  {
   "cell_type": "code",
   "execution_count": 65,
   "metadata": {},
   "outputs": [],
   "source": [
    "# split train and test before oversampling and feature selection\n",
    "from sklearn.model_selection import train_test_split\n",
    "\n",
    "# construct X and y\n",
    "# for prediction of icu_death\n",
    "X = data.drop(columns=['id', 'charttime', 'hosp_admittime', 'hosp_dischtime', 'icu_intime', 'icu_outtime', \n",
    "                       'los_icu', 'icu_death', 'text_embeddings', 'los_icu_class'])\n",
    "y = data['icu_death']\n",
    "\n",
    "X_train, X_test, y_train, y_test = train_test_split(X, y, test_size=0.2, random_state=rng, stratify=y)"
   ]
  },
  {
   "cell_type": "code",
   "execution_count": 28,
   "metadata": {},
   "outputs": [
    {
     "data": {
      "text/plain": [
       "Counter({0: 11707, 1: 1350})"
      ]
     },
     "execution_count": 28,
     "metadata": {},
     "output_type": "execute_result"
    }
   ],
   "source": [
    "from collections import Counter\n",
    "Counter(y_train) # exist sample imbalance problem"
   ]
  },
  {
   "cell_type": "code",
   "execution_count": 66,
   "metadata": {},
   "outputs": [
    {
     "data": {
      "text/plain": [
       "Counter({0: 11707, 1: 11707})"
      ]
     },
     "execution_count": 66,
     "metadata": {},
     "output_type": "execute_result"
    }
   ],
   "source": [
    "# deal with sample imbalance, skip this part when predicting los\n",
    "from imblearn.over_sampling import SMOTE\n",
    "\n",
    "smote = SMOTE(sampling_strategy='auto', random_state=rng)\n",
    "X_train, y_train = smote.fit_resample(X_train, y_train)\n",
    "Counter(y_train)"
   ]
  },
  {
   "cell_type": "code",
   "execution_count": 67,
   "metadata": {},
   "outputs": [
    {
     "data": {
      "text/html": [
       "<div>\n",
       "<style scoped>\n",
       "    .dataframe tbody tr th:only-of-type {\n",
       "        vertical-align: middle;\n",
       "    }\n",
       "\n",
       "    .dataframe tbody tr th {\n",
       "        vertical-align: top;\n",
       "    }\n",
       "\n",
       "    .dataframe thead th {\n",
       "        text-align: right;\n",
       "    }\n",
       "</style>\n",
       "<table border=\"1\" class=\"dataframe\">\n",
       "  <thead>\n",
       "    <tr style=\"text-align: right;\">\n",
       "      <th></th>\n",
       "      <th>gender</th>\n",
       "      <th>admission_age</th>\n",
       "      <th>weight_admit</th>\n",
       "      <th>height</th>\n",
       "      <th>admission_type</th>\n",
       "      <th>charlson_score</th>\n",
       "      <th>atrial_fibrillation</th>\n",
       "      <th>malignant_cancer</th>\n",
       "      <th>chf</th>\n",
       "      <th>ckd</th>\n",
       "      <th>...</th>\n",
       "      <th>sodium_bg</th>\n",
       "      <th>lactate_bg</th>\n",
       "      <th>glucose_bg</th>\n",
       "      <th>d_dimer</th>\n",
       "      <th>fibrinogen</th>\n",
       "      <th>thrombin</th>\n",
       "      <th>inr</th>\n",
       "      <th>pt</th>\n",
       "      <th>ptt</th>\n",
       "      <th>urineoutput</th>\n",
       "    </tr>\n",
       "  </thead>\n",
       "  <tbody>\n",
       "    <tr>\n",
       "      <th>8707</th>\n",
       "      <td>0</td>\n",
       "      <td>49.972871</td>\n",
       "      <td>105.0</td>\n",
       "      <td>173.0</td>\n",
       "      <td>0</td>\n",
       "      <td>6.0</td>\n",
       "      <td>0</td>\n",
       "      <td>1</td>\n",
       "      <td>0</td>\n",
       "      <td>1</td>\n",
       "      <td>...</td>\n",
       "      <td>132.0</td>\n",
       "      <td>1.4</td>\n",
       "      <td>131.0</td>\n",
       "      <td>4207.000000</td>\n",
       "      <td>305.0</td>\n",
       "      <td>61.6</td>\n",
       "      <td>1.2</td>\n",
       "      <td>12.8</td>\n",
       "      <td>24.8</td>\n",
       "      <td>15.0</td>\n",
       "    </tr>\n",
       "    <tr>\n",
       "      <th>2713</th>\n",
       "      <td>1</td>\n",
       "      <td>54.730927</td>\n",
       "      <td>45.3</td>\n",
       "      <td>170.0</td>\n",
       "      <td>1</td>\n",
       "      <td>5.0</td>\n",
       "      <td>0</td>\n",
       "      <td>0</td>\n",
       "      <td>0</td>\n",
       "      <td>0</td>\n",
       "      <td>...</td>\n",
       "      <td>140.0</td>\n",
       "      <td>1.3</td>\n",
       "      <td>146.0</td>\n",
       "      <td>1718.000000</td>\n",
       "      <td>201.0</td>\n",
       "      <td>16.3</td>\n",
       "      <td>1.1</td>\n",
       "      <td>11.9</td>\n",
       "      <td>28.6</td>\n",
       "      <td>100.0</td>\n",
       "    </tr>\n",
       "    <tr>\n",
       "      <th>10616</th>\n",
       "      <td>1</td>\n",
       "      <td>86.388185</td>\n",
       "      <td>67.6</td>\n",
       "      <td>168.0</td>\n",
       "      <td>1</td>\n",
       "      <td>6.0</td>\n",
       "      <td>0</td>\n",
       "      <td>0</td>\n",
       "      <td>0</td>\n",
       "      <td>0</td>\n",
       "      <td>...</td>\n",
       "      <td>136.0</td>\n",
       "      <td>1.1</td>\n",
       "      <td>161.0</td>\n",
       "      <td>17202.000000</td>\n",
       "      <td>307.0</td>\n",
       "      <td>20.7</td>\n",
       "      <td>1.4</td>\n",
       "      <td>15.6</td>\n",
       "      <td>32.0</td>\n",
       "      <td>85.0</td>\n",
       "    </tr>\n",
       "    <tr>\n",
       "      <th>1114</th>\n",
       "      <td>0</td>\n",
       "      <td>62.945085</td>\n",
       "      <td>80.4</td>\n",
       "      <td>168.0</td>\n",
       "      <td>0</td>\n",
       "      <td>2.0</td>\n",
       "      <td>0</td>\n",
       "      <td>0</td>\n",
       "      <td>0</td>\n",
       "      <td>0</td>\n",
       "      <td>...</td>\n",
       "      <td>137.0</td>\n",
       "      <td>1.1</td>\n",
       "      <td>102.0</td>\n",
       "      <td>4014.070198</td>\n",
       "      <td>124.0</td>\n",
       "      <td>16.2</td>\n",
       "      <td>1.2</td>\n",
       "      <td>12.6</td>\n",
       "      <td>26.0</td>\n",
       "      <td>300.0</td>\n",
       "    </tr>\n",
       "    <tr>\n",
       "      <th>3121</th>\n",
       "      <td>1</td>\n",
       "      <td>82.574104</td>\n",
       "      <td>89.0</td>\n",
       "      <td>170.0</td>\n",
       "      <td>1</td>\n",
       "      <td>5.0</td>\n",
       "      <td>0</td>\n",
       "      <td>0</td>\n",
       "      <td>0</td>\n",
       "      <td>0</td>\n",
       "      <td>...</td>\n",
       "      <td>133.0</td>\n",
       "      <td>10.0</td>\n",
       "      <td>152.0</td>\n",
       "      <td>1954.000000</td>\n",
       "      <td>563.0</td>\n",
       "      <td>16.3</td>\n",
       "      <td>1.1</td>\n",
       "      <td>11.6</td>\n",
       "      <td>32.3</td>\n",
       "      <td>75.0</td>\n",
       "    </tr>\n",
       "    <tr>\n",
       "      <th>...</th>\n",
       "      <td>...</td>\n",
       "      <td>...</td>\n",
       "      <td>...</td>\n",
       "      <td>...</td>\n",
       "      <td>...</td>\n",
       "      <td>...</td>\n",
       "      <td>...</td>\n",
       "      <td>...</td>\n",
       "      <td>...</td>\n",
       "      <td>...</td>\n",
       "      <td>...</td>\n",
       "      <td>...</td>\n",
       "      <td>...</td>\n",
       "      <td>...</td>\n",
       "      <td>...</td>\n",
       "      <td>...</td>\n",
       "      <td>...</td>\n",
       "      <td>...</td>\n",
       "      <td>...</td>\n",
       "      <td>...</td>\n",
       "      <td>...</td>\n",
       "    </tr>\n",
       "    <tr>\n",
       "      <th>12124</th>\n",
       "      <td>1</td>\n",
       "      <td>70.664353</td>\n",
       "      <td>38.7</td>\n",
       "      <td>152.0</td>\n",
       "      <td>1</td>\n",
       "      <td>4.0</td>\n",
       "      <td>0</td>\n",
       "      <td>0</td>\n",
       "      <td>0</td>\n",
       "      <td>0</td>\n",
       "      <td>...</td>\n",
       "      <td>138.0</td>\n",
       "      <td>1.0</td>\n",
       "      <td>70.0</td>\n",
       "      <td>15335.000000</td>\n",
       "      <td>371.0</td>\n",
       "      <td>10.0</td>\n",
       "      <td>1.0</td>\n",
       "      <td>11.3</td>\n",
       "      <td>30.3</td>\n",
       "      <td>20.0</td>\n",
       "    </tr>\n",
       "    <tr>\n",
       "      <th>10171</th>\n",
       "      <td>0</td>\n",
       "      <td>76.853155</td>\n",
       "      <td>50.5</td>\n",
       "      <td>170.0</td>\n",
       "      <td>0</td>\n",
       "      <td>9.0</td>\n",
       "      <td>0</td>\n",
       "      <td>0</td>\n",
       "      <td>1</td>\n",
       "      <td>1</td>\n",
       "      <td>...</td>\n",
       "      <td>139.0</td>\n",
       "      <td>0.6</td>\n",
       "      <td>142.0</td>\n",
       "      <td>3758.000000</td>\n",
       "      <td>983.0</td>\n",
       "      <td>20.7</td>\n",
       "      <td>1.3</td>\n",
       "      <td>14.3</td>\n",
       "      <td>31.9</td>\n",
       "      <td>280.0</td>\n",
       "    </tr>\n",
       "    <tr>\n",
       "      <th>8088</th>\n",
       "      <td>0</td>\n",
       "      <td>52.814742</td>\n",
       "      <td>143.0</td>\n",
       "      <td>170.0</td>\n",
       "      <td>1</td>\n",
       "      <td>4.0</td>\n",
       "      <td>1</td>\n",
       "      <td>0</td>\n",
       "      <td>1</td>\n",
       "      <td>1</td>\n",
       "      <td>...</td>\n",
       "      <td>131.0</td>\n",
       "      <td>1.7</td>\n",
       "      <td>159.0</td>\n",
       "      <td>9713.000000</td>\n",
       "      <td>123.0</td>\n",
       "      <td>150.0</td>\n",
       "      <td>1.6</td>\n",
       "      <td>17.1</td>\n",
       "      <td>36.8</td>\n",
       "      <td>25.0</td>\n",
       "    </tr>\n",
       "    <tr>\n",
       "      <th>11277</th>\n",
       "      <td>1</td>\n",
       "      <td>78.405795</td>\n",
       "      <td>66.7</td>\n",
       "      <td>170.0</td>\n",
       "      <td>0</td>\n",
       "      <td>10.0</td>\n",
       "      <td>0</td>\n",
       "      <td>0</td>\n",
       "      <td>0</td>\n",
       "      <td>0</td>\n",
       "      <td>...</td>\n",
       "      <td>144.0</td>\n",
       "      <td>0.9</td>\n",
       "      <td>369.0</td>\n",
       "      <td>1701.000000</td>\n",
       "      <td>363.0</td>\n",
       "      <td>18.1</td>\n",
       "      <td>1.1</td>\n",
       "      <td>12.3</td>\n",
       "      <td>35.4</td>\n",
       "      <td>15.0</td>\n",
       "    </tr>\n",
       "    <tr>\n",
       "      <th>10611</th>\n",
       "      <td>1</td>\n",
       "      <td>72.329170</td>\n",
       "      <td>67.0</td>\n",
       "      <td>147.0</td>\n",
       "      <td>0</td>\n",
       "      <td>5.0</td>\n",
       "      <td>1</td>\n",
       "      <td>0</td>\n",
       "      <td>1</td>\n",
       "      <td>1</td>\n",
       "      <td>...</td>\n",
       "      <td>136.0</td>\n",
       "      <td>1.1</td>\n",
       "      <td>161.0</td>\n",
       "      <td>17202.000000</td>\n",
       "      <td>263.0</td>\n",
       "      <td>20.7</td>\n",
       "      <td>1.3</td>\n",
       "      <td>13.7</td>\n",
       "      <td>25.9</td>\n",
       "      <td>30.0</td>\n",
       "    </tr>\n",
       "  </tbody>\n",
       "</table>\n",
       "<p>3265 rows × 101 columns</p>\n",
       "</div>"
      ],
      "text/plain": [
       "       gender  admission_age  weight_admit  height  admission_type  \\\n",
       "8707        0      49.972871         105.0   173.0               0   \n",
       "2713        1      54.730927          45.3   170.0               1   \n",
       "10616       1      86.388185          67.6   168.0               1   \n",
       "1114        0      62.945085          80.4   168.0               0   \n",
       "3121        1      82.574104          89.0   170.0               1   \n",
       "...       ...            ...           ...     ...             ...   \n",
       "12124       1      70.664353          38.7   152.0               1   \n",
       "10171       0      76.853155          50.5   170.0               0   \n",
       "8088        0      52.814742         143.0   170.0               1   \n",
       "11277       1      78.405795          66.7   170.0               0   \n",
       "10611       1      72.329170          67.0   147.0               0   \n",
       "\n",
       "       charlson_score  atrial_fibrillation  malignant_cancer  chf  ckd  ...  \\\n",
       "8707              6.0                    0                 1    0    1  ...   \n",
       "2713              5.0                    0                 0    0    0  ...   \n",
       "10616             6.0                    0                 0    0    0  ...   \n",
       "1114              2.0                    0                 0    0    0  ...   \n",
       "3121              5.0                    0                 0    0    0  ...   \n",
       "...               ...                  ...               ...  ...  ...  ...   \n",
       "12124             4.0                    0                 0    0    0  ...   \n",
       "10171             9.0                    0                 0    1    1  ...   \n",
       "8088              4.0                    1                 0    1    1  ...   \n",
       "11277            10.0                    0                 0    0    0  ...   \n",
       "10611             5.0                    1                 0    1    1  ...   \n",
       "\n",
       "       sodium_bg  lactate_bg  glucose_bg       d_dimer  fibrinogen  thrombin  \\\n",
       "8707       132.0         1.4       131.0   4207.000000       305.0      61.6   \n",
       "2713       140.0         1.3       146.0   1718.000000       201.0      16.3   \n",
       "10616      136.0         1.1       161.0  17202.000000       307.0      20.7   \n",
       "1114       137.0         1.1       102.0   4014.070198       124.0      16.2   \n",
       "3121       133.0        10.0       152.0   1954.000000       563.0      16.3   \n",
       "...          ...         ...         ...           ...         ...       ...   \n",
       "12124      138.0         1.0        70.0  15335.000000       371.0      10.0   \n",
       "10171      139.0         0.6       142.0   3758.000000       983.0      20.7   \n",
       "8088       131.0         1.7       159.0   9713.000000       123.0     150.0   \n",
       "11277      144.0         0.9       369.0   1701.000000       363.0      18.1   \n",
       "10611      136.0         1.1       161.0  17202.000000       263.0      20.7   \n",
       "\n",
       "       inr    pt   ptt  urineoutput  \n",
       "8707   1.2  12.8  24.8         15.0  \n",
       "2713   1.1  11.9  28.6        100.0  \n",
       "10616  1.4  15.6  32.0         85.0  \n",
       "1114   1.2  12.6  26.0        300.0  \n",
       "3121   1.1  11.6  32.3         75.0  \n",
       "...    ...   ...   ...          ...  \n",
       "12124  1.0  11.3  30.3         20.0  \n",
       "10171  1.3  14.3  31.9        280.0  \n",
       "8088   1.6  17.1  36.8         25.0  \n",
       "11277  1.1  12.3  35.4         15.0  \n",
       "10611  1.3  13.7  25.9         30.0  \n",
       "\n",
       "[3265 rows x 101 columns]"
      ]
     },
     "execution_count": 67,
     "metadata": {},
     "output_type": "execute_result"
    }
   ],
   "source": [
    "X_test"
   ]
  },
  {
   "cell_type": "markdown",
   "metadata": {},
   "source": [
    "# Feature Selection"
   ]
  },
  {
   "cell_type": "code",
   "execution_count": 68,
   "metadata": {},
   "outputs": [],
   "source": [
    "# numerical features\n",
    "num = X.select_dtypes(include=['float']).columns\n",
    "\n",
    "X_num_train = X_train[num]\n",
    "X_num_test = X_test[num]\n",
    "\n",
    "data_trained = pd.concat([X_num_train, y_train], axis=1)"
   ]
  },
  {
   "cell_type": "code",
   "execution_count": 69,
   "metadata": {},
   "outputs": [
    {
     "data": {
      "text/plain": [
       "['icu_death']"
      ]
     },
     "execution_count": 69,
     "metadata": {},
     "output_type": "execute_result"
    }
   ],
   "source": [
    "# using correlation analysis to select features, but all the features show a low relationship with death\n",
    "corr = data_trained.corr()\n",
    "threshold = 0.5\n",
    "high_corr = corr['icu_death'][abs(corr['icu_death']) > threshold].index.tolist()\n",
    "high_corr"
   ]
  },
  {
   "cell_type": "code",
   "execution_count": 71,
   "metadata": {},
   "outputs": [
    {
     "name": "stdout",
     "output_type": "stream",
     "text": [
      "69\n"
     ]
    }
   ],
   "source": [
    "# t-test\n",
    "from scipy.stats import ttest_ind\n",
    "\n",
    "low_risk = data_trained[data_trained['icu_death'] == 0]\n",
    "high_risk = data_trained[data_trained['icu_death'] == 1]\n",
    "ttest_selected = []\n",
    "\n",
    "for c in data_trained.columns:\n",
    "    t_statistic, p_value = ttest_ind(low_risk[c], high_risk[c])\n",
    "    if p_value < 0.05:\n",
    "        ttest_selected.append(c)\n",
    "\n",
    "print(len(ttest_selected))"
   ]
  },
  {
   "cell_type": "code",
   "execution_count": 72,
   "metadata": {},
   "outputs": [],
   "source": [
    "# Z-score standardization\n",
    "from sklearn import preprocessing\n",
    "\n",
    "scaler = preprocessing.StandardScaler()\n",
    "fit_scaler = scaler.fit(X_num_train)\n",
    "\n",
    "train_num_scaled = fit_scaler.transform(X_num_train)\n",
    "test_num_scaled = fit_scaler.transform(X_num_test)"
   ]
  },
  {
   "cell_type": "code",
   "execution_count": 73,
   "metadata": {},
   "outputs": [],
   "source": [
    "# merge scaled numeric feature with other categorical features\n",
    "train_num_scaled = pd.DataFrame(train_num_scaled, columns=num, index=X_num_train.index)\n",
    "test_num_scaled = pd.DataFrame(test_num_scaled, columns=num, index=X_num_test.index)\n",
    "\n",
    "X_train[num] = train_num_scaled[num]\n",
    "X_test[num] = test_num_scaled[num]"
   ]
  },
  {
   "cell_type": "markdown",
   "metadata": {},
   "source": [
    "RFE"
   ]
  },
  {
   "cell_type": "code",
   "execution_count": 54,
   "metadata": {},
   "outputs": [],
   "source": [
    "from sklearn.feature_selection import RFE\n",
    "from sklearn.linear_model import LogisticRegression\n",
    "\n",
    "log_reg = LogisticRegression(penalty='l1', C=1/5, solver='liblinear', random_state=rng)\n",
    "rfe = RFE(log_reg, n_features_to_select=20)\n",
    "fit = rfe.fit(X_train, y_train)\n",
    "\n",
    "rfe_selected = X_train.columns[fit.support_]"
   ]
  },
  {
   "cell_type": "markdown",
   "metadata": {},
   "source": [
    "RF"
   ]
  },
  {
   "cell_type": "code",
   "execution_count": 57,
   "metadata": {},
   "outputs": [],
   "source": [
    "from sklearn.ensemble import RandomForestClassifier\n",
    "\n",
    "n_selected = 20\n",
    "\n",
    "rf_model = RandomForestClassifier(n_estimators=100, criterion='entropy', random_state=rng)\n",
    "rf_model.fit(X_train, y_train)\n",
    "\n",
    "feature_importances = rf_model.feature_importances_\n",
    "feature_importances = pd.concat([\n",
    "                                pd.DataFrame({'feature': X_train.columns}),\n",
    "                                pd.DataFrame({'importance': feature_importances})], \n",
    "                                axis=1)\n",
    "rf_selected = feature_importances.sort_values(by='importance', ascending=False).head(n_selected)['feature']"
   ]
  },
  {
   "cell_type": "code",
   "execution_count": 58,
   "metadata": {},
   "outputs": [
    {
     "name": "stdout",
     "output_type": "stream",
     "text": [
      "5\n"
     ]
    }
   ],
   "source": [
    "# intersection\n",
    "inter_selected = list(set(ttest_selected) & set(rfe_selected) & set(rf_selected))\n",
    "print(len(inter_selected))"
   ]
  },
  {
   "cell_type": "markdown",
   "metadata": {},
   "source": [
    "# Modeling"
   ]
  },
  {
   "cell_type": "code",
   "execution_count": 61,
   "metadata": {},
   "outputs": [],
   "source": [
    "# Grid Search for hyperparameters\n",
    "from sklearn.model_selection import GridSearchCV\n",
    "\n",
    "def grid_search(X_train, y_train, model, param, cv=5, scoring='recall'):\n",
    "    search = GridSearchCV(model, param, cv=cv, scoring=scoring)\n",
    "    search.fit(X_train, y_train)\n",
    "    best_model = search.best_estimator_\n",
    "    return best_model"
   ]
  },
  {
   "cell_type": "code",
   "execution_count": 62,
   "metadata": {},
   "outputs": [],
   "source": [
    "# Model Evaluation\n",
    "import matplotlib.pyplot as plt\n",
    "import seaborn as sns\n",
    "from sklearn.metrics import precision_score, recall_score, f1_score, classification_report\n",
    "\n",
    "def model_evaluate(pred, test, model):\n",
    "    prec = precision_score(test, pred)\n",
    "    recall = recall_score(test, pred)\n",
    "    f1 = f1_score(test, pred)\n",
    "    class_report = classification_report(test, pred, labels=[0, 1])\n",
    "\n",
    "    print(f\"Precision: {prec:.3f}, \", f\"Recall: {recall:.3f}, \", f\"F1: {f1:.3f}\")\n",
    "    print(\"\\nClassification Report:\")\n",
    "    print(class_report)"
   ]
  },
  {
   "cell_type": "code",
   "execution_count": 91,
   "metadata": {},
   "outputs": [],
   "source": [
    "X_train_sub = X_train[rf_selected]\n",
    "X_test_sub = X_test[rf_selected]"
   ]
  },
  {
   "cell_type": "code",
   "execution_count": 92,
   "metadata": {},
   "outputs": [
    {
     "data": {
      "text/html": [
       "<style>#sk-container-id-5 {color: black;}#sk-container-id-5 pre{padding: 0;}#sk-container-id-5 div.sk-toggleable {background-color: white;}#sk-container-id-5 label.sk-toggleable__label {cursor: pointer;display: block;width: 100%;margin-bottom: 0;padding: 0.3em;box-sizing: border-box;text-align: center;}#sk-container-id-5 label.sk-toggleable__label-arrow:before {content: \"▸\";float: left;margin-right: 0.25em;color: #696969;}#sk-container-id-5 label.sk-toggleable__label-arrow:hover:before {color: black;}#sk-container-id-5 div.sk-estimator:hover label.sk-toggleable__label-arrow:before {color: black;}#sk-container-id-5 div.sk-toggleable__content {max-height: 0;max-width: 0;overflow: hidden;text-align: left;background-color: #f0f8ff;}#sk-container-id-5 div.sk-toggleable__content pre {margin: 0.2em;color: black;border-radius: 0.25em;background-color: #f0f8ff;}#sk-container-id-5 input.sk-toggleable__control:checked~div.sk-toggleable__content {max-height: 200px;max-width: 100%;overflow: auto;}#sk-container-id-5 input.sk-toggleable__control:checked~label.sk-toggleable__label-arrow:before {content: \"▾\";}#sk-container-id-5 div.sk-estimator input.sk-toggleable__control:checked~label.sk-toggleable__label {background-color: #d4ebff;}#sk-container-id-5 div.sk-label input.sk-toggleable__control:checked~label.sk-toggleable__label {background-color: #d4ebff;}#sk-container-id-5 input.sk-hidden--visually {border: 0;clip: rect(1px 1px 1px 1px);clip: rect(1px, 1px, 1px, 1px);height: 1px;margin: -1px;overflow: hidden;padding: 0;position: absolute;width: 1px;}#sk-container-id-5 div.sk-estimator {font-family: monospace;background-color: #f0f8ff;border: 1px dotted black;border-radius: 0.25em;box-sizing: border-box;margin-bottom: 0.5em;}#sk-container-id-5 div.sk-estimator:hover {background-color: #d4ebff;}#sk-container-id-5 div.sk-parallel-item::after {content: \"\";width: 100%;border-bottom: 1px solid gray;flex-grow: 1;}#sk-container-id-5 div.sk-label:hover label.sk-toggleable__label {background-color: #d4ebff;}#sk-container-id-5 div.sk-serial::before {content: \"\";position: absolute;border-left: 1px solid gray;box-sizing: border-box;top: 0;bottom: 0;left: 50%;z-index: 0;}#sk-container-id-5 div.sk-serial {display: flex;flex-direction: column;align-items: center;background-color: white;padding-right: 0.2em;padding-left: 0.2em;position: relative;}#sk-container-id-5 div.sk-item {position: relative;z-index: 1;}#sk-container-id-5 div.sk-parallel {display: flex;align-items: stretch;justify-content: center;background-color: white;position: relative;}#sk-container-id-5 div.sk-item::before, #sk-container-id-5 div.sk-parallel-item::before {content: \"\";position: absolute;border-left: 1px solid gray;box-sizing: border-box;top: 0;bottom: 0;left: 50%;z-index: -1;}#sk-container-id-5 div.sk-parallel-item {display: flex;flex-direction: column;z-index: 1;position: relative;background-color: white;}#sk-container-id-5 div.sk-parallel-item:first-child::after {align-self: flex-end;width: 50%;}#sk-container-id-5 div.sk-parallel-item:last-child::after {align-self: flex-start;width: 50%;}#sk-container-id-5 div.sk-parallel-item:only-child::after {width: 0;}#sk-container-id-5 div.sk-dashed-wrapped {border: 1px dashed gray;margin: 0 0.4em 0.5em 0.4em;box-sizing: border-box;padding-bottom: 0.4em;background-color: white;}#sk-container-id-5 div.sk-label label {font-family: monospace;font-weight: bold;display: inline-block;line-height: 1.2em;}#sk-container-id-5 div.sk-label-container {text-align: center;}#sk-container-id-5 div.sk-container {/* jupyter's `normalize.less` sets `[hidden] { display: none; }` but bootstrap.min.css set `[hidden] { display: none !important; }` so we also need the `!important` here to be able to override the default hidden behavior on the sphinx rendered scikit-learn.org. See: https://github.com/scikit-learn/scikit-learn/issues/21755 */display: inline-block !important;position: relative;}#sk-container-id-5 div.sk-text-repr-fallback {display: none;}</style><div id=\"sk-container-id-5\" class=\"sk-top-container\"><div class=\"sk-text-repr-fallback\"><pre>RandomForestClassifier(max_depth=15, n_estimators=200,\n",
       "                       random_state=RandomState(MT19937) at 0x15E023DB140)</pre><b>In a Jupyter environment, please rerun this cell to show the HTML representation or trust the notebook. <br />On GitHub, the HTML representation is unable to render, please try loading this page with nbviewer.org.</b></div><div class=\"sk-container\" hidden><div class=\"sk-item\"><div class=\"sk-estimator sk-toggleable\"><input class=\"sk-toggleable__control sk-hidden--visually\" id=\"sk-estimator-id-5\" type=\"checkbox\" checked><label for=\"sk-estimator-id-5\" class=\"sk-toggleable__label sk-toggleable__label-arrow\">RandomForestClassifier</label><div class=\"sk-toggleable__content\"><pre>RandomForestClassifier(max_depth=15, n_estimators=200,\n",
       "                       random_state=RandomState(MT19937) at 0x15E023DB140)</pre></div></div></div></div></div>"
      ],
      "text/plain": [
       "RandomForestClassifier(max_depth=15, n_estimators=200,\n",
       "                       random_state=RandomState(MT19937) at 0x15E023DB140)"
      ]
     },
     "execution_count": 92,
     "metadata": {},
     "output_type": "execute_result"
    }
   ],
   "source": [
    "from sklearn.ensemble import RandomForestClassifier\n",
    "\n",
    "param_grid = {\n",
    "    'n_estimators': [50, 100, 150, 200],\n",
    "    'max_depth': [5, 10, 15]\n",
    "}\n",
    "\n",
    "rf_model = RandomForestClassifier(random_state=rng)\n",
    "\n",
    "rf_best = grid_search(X_train_sub, y_train, rf_model, param_grid)\n",
    "rf_best.fit(X_train_sub, y_train)"
   ]
  },
  {
   "cell_type": "code",
   "execution_count": 93,
   "metadata": {},
   "outputs": [
    {
     "name": "stdout",
     "output_type": "stream",
     "text": [
      "Precision: 0.413,  Recall: 0.365,  F1: 0.387\n",
      "\n",
      "Classification Report:\n",
      "              precision    recall  f1-score   support\n",
      "\n",
      "           0       0.93      0.94      0.93      2928\n",
      "           1       0.41      0.36      0.39       337\n",
      "\n",
      "    accuracy                           0.88      3265\n",
      "   macro avg       0.67      0.65      0.66      3265\n",
      "weighted avg       0.87      0.88      0.88      3265\n",
      "\n"
     ]
    }
   ],
   "source": [
    "y_pred = rf_best.predict(X_test_sub)\n",
    "\n",
    "model_evaluate(y_pred, y_test, model=\"Random Forest\")"
   ]
  },
  {
   "cell_type": "code",
   "execution_count": 89,
   "metadata": {},
   "outputs": [],
   "source": [
    "X_train_sub = X_train[rf_selected]\n",
    "X_test_sub = X_test[rf_selected]"
   ]
  },
  {
   "cell_type": "code",
   "execution_count": 90,
   "metadata": {},
   "outputs": [
    {
     "name": "stdout",
     "output_type": "stream",
     "text": [
      "Precision: 0.486,  Recall: 0.252,  F1: 0.332\n",
      "\n",
      "Classification Report:\n",
      "              precision    recall  f1-score   support\n",
      "\n",
      "           0       0.92      0.97      0.94      2928\n",
      "           1       0.49      0.25      0.33       337\n",
      "\n",
      "    accuracy                           0.90      3265\n",
      "   macro avg       0.70      0.61      0.64      3265\n",
      "weighted avg       0.87      0.90      0.88      3265\n",
      "\n"
     ]
    }
   ],
   "source": [
    "import xgboost as xgb\n",
    "\n",
    "xg = xgb.XGBClassifier(objective='multi:softmax', num_class=2, seed=42)\n",
    "\n",
    "xg.fit(X_train_sub, y_train)\n",
    "\n",
    "y_pred = xg.predict(X_test_sub)\n",
    "model_evaluate(y_pred, y_test, model=\"XGBoost\")"
   ]
  },
  {
   "cell_type": "code",
   "execution_count": 95,
   "metadata": {},
   "outputs": [],
   "source": [
    "rf_probs = rf_best.predict_proba(X[rf_selected])\n",
    "rf_probs = pd.DataFrame(rf_probs)\n",
    "rf_probs['id'] = data['id']\n",
    "rf_probs.to_csv('death_probability_sd_rf_traintest.csv', index=False)"
   ]
  },
  {
   "cell_type": "code",
   "execution_count": 96,
   "metadata": {},
   "outputs": [],
   "source": [
    "xg_probs = xg.predict_proba(X[rf_selected])\n",
    "xg_probs = pd.DataFrame(xg_probs)\n",
    "xg_probs['id'] = data['id']\n",
    "xg_probs.to_csv('death_probability_sd_rf_traintest.csv', index=False)"
   ]
  }
 ],
 "metadata": {
  "kernelspec": {
   "display_name": "base",
   "language": "python",
   "name": "python3"
  },
  "language_info": {
   "codemirror_mode": {
    "name": "ipython",
    "version": 3
   },
   "file_extension": ".py",
   "mimetype": "text/x-python",
   "name": "python",
   "nbconvert_exporter": "python",
   "pygments_lexer": "ipython3",
   "version": "3.11.5"
  }
 },
 "nbformat": 4,
 "nbformat_minor": 2
}

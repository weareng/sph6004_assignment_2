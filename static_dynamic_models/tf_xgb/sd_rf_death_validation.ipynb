{
 "cells": [
  {
   "cell_type": "code",
   "execution_count": 1,
   "metadata": {},
   "outputs": [],
   "source": [
    "import pandas as pd\n",
    "import numpy as np\n",
    "from sklearn import preprocessing\n",
    "import pickle"
   ]
  },
  {
   "cell_type": "code",
   "execution_count": 2,
   "metadata": {},
   "outputs": [],
   "source": [
    "# read the validation data\n",
    "val_data = pd.read_csv('validation.csv')"
   ]
  },
  {
   "cell_type": "code",
   "execution_count": 3,
   "metadata": {},
   "outputs": [],
   "source": [
    "# selected features by RF\n",
    "rf_selected = ['creatinine', 'inr', 'aniongap', 'ckd', 'race_white', 'bun', 'charlson_score', 'diabetes', 'hypertension',\n",
    "                'race_unknown', 'height', 'pt', 'bicarbonate', 'ihd', 'first_careunit_msicu', 'ptt', 'ast', 'spo2', 'rdw', \n",
    "                'admission_age']"
   ]
  },
  {
   "cell_type": "code",
   "execution_count": 4,
   "metadata": {},
   "outputs": [],
   "source": [
    "def data_preparation(df):\n",
    "    cats = ['icu_death', 'gender', 'admission_type', 'atrial_fibrillation', 'malignant_cancer',\n",
    "       'chf', 'ckd', 'cld', 'copd', 'diabetes', 'hypertension', 'ihd', 'stroke']\n",
    "    for col in cats:\n",
    "        df[col] = df[col].astype('int')\n",
    "\n",
    "    # choose the last row for each patient\n",
    "    df = df.sort_values(by=['id', 'charttime'], ascending=False)\n",
    "    df = df.groupby('id').first().reset_index()\n",
    "\n",
    "    # fill nan with mean\n",
    "    num = df.select_dtypes(include=['float']).columns\n",
    "    df[num] = df[num].fillna(df[num].mean())\n",
    "    return df"
   ]
  },
  {
   "cell_type": "code",
   "execution_count": 5,
   "metadata": {},
   "outputs": [],
   "source": [
    "def data_preprocessing(df):\n",
    "    # numerical features\n",
    "    num = df.select_dtypes(include=['float']).columns\n",
    "    df_num = df[num]\n",
    "\n",
    "    # z-score standardization\n",
    "    scaler = preprocessing.StandardScaler()\n",
    "    num_scaled = scaler.fit_transform(df_num)\n",
    "\n",
    "    # merge scaled numeric feature with other categorical features\n",
    "    num_scaled = pd.DataFrame(num_scaled, columns=num, index=df_num.index)\n",
    "    df[num] = num_scaled[num]\n",
    "\n",
    "    X = df\n",
    "    y = df['icu_death']\n",
    "\n",
    "    return X, y"
   ]
  },
  {
   "cell_type": "code",
   "execution_count": 6,
   "metadata": {},
   "outputs": [],
   "source": [
    "with open('sd_rf_death.pkl', 'rb') as f:\n",
    "    trained_rf = pickle.load(f)"
   ]
  },
  {
   "cell_type": "code",
   "execution_count": 7,
   "metadata": {},
   "outputs": [],
   "source": [
    "val_data = data_preparation(val_data)\n",
    "X, y = data_preprocessing(val_data)"
   ]
  },
  {
   "cell_type": "code",
   "execution_count": 9,
   "metadata": {},
   "outputs": [],
   "source": [
    "rf_probs = trained_rf.predict_proba(X[rf_selected])\n",
    "rf_probs = pd.DataFrame(rf_probs)\n",
    "rf_probs['id'] = val_data['id']\n",
    "rf_probs.to_csv('death_probability_sd_rf_validation.csv', index=False)"
   ]
  }
 ],
 "metadata": {
  "kernelspec": {
   "display_name": "base",
   "language": "python",
   "name": "python3"
  },
  "language_info": {
   "codemirror_mode": {
    "name": "ipython",
    "version": 3
   },
   "file_extension": ".py",
   "mimetype": "text/x-python",
   "name": "python",
   "nbconvert_exporter": "python",
   "pygments_lexer": "ipython3",
   "version": "3.11.7"
  }
 },
 "nbformat": 4,
 "nbformat_minor": 2
}

{
 "cells": [
  {
   "cell_type": "code",
   "execution_count": 1,
   "metadata": {},
   "outputs": [],
   "source": [
    "import pandas as pd\n",
    "import numpy as np\n",
    "from sklearn import preprocessing\n",
    "import pickle"
   ]
  },
  {
   "cell_type": "code",
   "execution_count": 2,
   "metadata": {},
   "outputs": [],
   "source": [
    "# read the validation data\n",
    "val_data = pd.read_csv('validation.csv')"
   ]
  },
  {
   "cell_type": "code",
   "execution_count": 3,
   "metadata": {},
   "outputs": [],
   "source": [
    "# import the mortality prediction from Wen Rui's model\n",
    "mortality = pd.read_csv('180424_Validation_death.csv.csv')"
   ]
  },
  {
   "cell_type": "code",
   "execution_count": 4,
   "metadata": {},
   "outputs": [],
   "source": [
    "# To input the predicted death status as feature\n",
    "mortality['id'] = val_data['id'].unique()\n",
    "val_data = pd.merge(val_data, mortality, on='id', how='right').drop(columns=['icu_death', 'Unnamed: 0'])\n",
    "val_data = val_data.rename(columns={'0': 'icu_death'})"
   ]
  },
  {
   "cell_type": "code",
   "execution_count": 5,
   "metadata": {},
   "outputs": [],
   "source": [
    "# selected features\n",
    "selected_lst = ['height', 'wbc', 'weight_admit', 'admission_age', 'glucose', 'ptt', 'bun', 'platelet', 'ck_cpk', 'ld_ldh', \n",
    "                'alp', 'ast', 'fibrinogen', 'pt', 'creatinine', 'amylase', 'rbc', 'rdw', 'alt',  'mchc', 'icu_death']"
   ]
  },
  {
   "cell_type": "code",
   "execution_count": 6,
   "metadata": {},
   "outputs": [],
   "source": [
    "def data_preparation(df):\n",
    "    cats = ['icu_death', 'gender', 'admission_type', 'atrial_fibrillation', 'malignant_cancer',\n",
    "       'chf', 'ckd', 'cld', 'copd', 'diabetes', 'hypertension', 'ihd', 'stroke']\n",
    "    for col in cats:\n",
    "        df[col] = df[col].astype('int')\n",
    "\n",
    "    # choose the last row for each patient\n",
    "    df = df.sort_values(by=['id', 'charttime'], ascending=False)\n",
    "    df = df.groupby('id').first().reset_index()\n",
    "\n",
    "    # fill nan with mean\n",
    "    num = df.select_dtypes(include=['float']).columns\n",
    "    df[num] = df[num].fillna(df[num].mean())\n",
    "\n",
    "    df['los_icu_class'] = df['los_icu_class'].apply(lambda x: 0 if x == 'less than 3 days' else 1)\n",
    "    return df"
   ]
  },
  {
   "cell_type": "code",
   "execution_count": 7,
   "metadata": {},
   "outputs": [],
   "source": [
    "def data_preprocessing(df):\n",
    "    # numerical features\n",
    "    num = df.select_dtypes(include=['float']).columns\n",
    "    df_num = df[num]\n",
    "\n",
    "    # z-score standardization\n",
    "    scaler = preprocessing.StandardScaler()\n",
    "    num_scaled = scaler.fit_transform(df_num)\n",
    "\n",
    "    # merge scaled numeric feature with other categorical features\n",
    "    num_scaled = pd.DataFrame(num_scaled, columns=num, index=df_num.index)\n",
    "    df[num] = num_scaled[num]\n",
    "\n",
    "    X = df\n",
    "    y = df['los_icu_class']\n",
    "\n",
    "    return X, y"
   ]
  },
  {
   "cell_type": "code",
   "execution_count": 8,
   "metadata": {},
   "outputs": [],
   "source": [
    "with open('sd_rf_death.pkl', 'rb') as f:\n",
    "    trained_rf = pickle.load(f)"
   ]
  },
  {
   "cell_type": "code",
   "execution_count": 9,
   "metadata": {},
   "outputs": [],
   "source": [
    "val_data = data_preparation(val_data)\n",
    "X, y = data_preprocessing(val_data)"
   ]
  },
  {
   "cell_type": "code",
   "execution_count": 10,
   "metadata": {},
   "outputs": [],
   "source": [
    "rf_probs = trained_rf.predict_proba(X[selected_lst])\n",
    "rf_probs = pd.DataFrame(rf_probs)\n",
    "rf_probs['id'] = val_data['id']\n",
    "rf_probs.to_csv('los_probability_sd_rf_validation.csv', index=False)"
   ]
  }
 ],
 "metadata": {
  "kernelspec": {
   "display_name": "base",
   "language": "python",
   "name": "python3"
  },
  "language_info": {
   "codemirror_mode": {
    "name": "ipython",
    "version": 3
   },
   "file_extension": ".py",
   "mimetype": "text/x-python",
   "name": "python",
   "nbconvert_exporter": "python",
   "pygments_lexer": "ipython3",
   "version": "3.11.7"
  }
 },
 "nbformat": 4,
 "nbformat_minor": 2
}

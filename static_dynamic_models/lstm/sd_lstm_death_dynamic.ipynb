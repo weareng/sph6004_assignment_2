{
 "cells": [
  {
   "cell_type": "code",
   "execution_count": 1,
   "id": "1ae9ea08-e17a-4d65-98d2-26bf3ccb8413",
   "metadata": {},
   "outputs": [],
   "source": [
    "import numpy as np\n",
    "import pandas as pd\n",
    "from sklearn.preprocessing import MinMaxScaler\n",
    "from sklearn.model_selection import train_test_split\n",
    "from sklearn.metrics import roc_auc_score, precision_score, recall_score, f1_score\n",
    "import tensorflow as tf\n",
    "from tensorflow.keras.models import Sequential\n",
    "from tensorflow.keras.layers import LSTM, Dense, Dropout"
   ]
  },
  {
   "cell_type": "markdown",
   "id": "3b94047d-567f-40b1-ac2a-7556d380dc9e",
   "metadata": {},
   "source": [
    "# Data Preprocessing"
   ]
  },
  {
   "cell_type": "code",
   "execution_count": 2,
   "id": "f67129c9-7ea8-4eae-afbe-084084e282db",
   "metadata": {},
   "outputs": [],
   "source": [
    "df_raw = pd.read_csv('train_test.csv')"
   ]
  },
  {
   "cell_type": "code",
   "execution_count": 7,
   "id": "6a71fddb-3e88-4642-9314-e7ce72a8708c",
   "metadata": {},
   "outputs": [],
   "source": [
    "drop_cols = ['charttime','hosp_admittime','hosp_dischtime','icu_intime','icu_outtime','los_icu','text_embeddings',\n",
    "             'gender','admission_age','weight_admit','height','admission_type','charlson_score','atrial_fibrillation',\n",
    "             'malignant_cancer','chf','ckd','cld','copd','diabetes','hypertension','ihd','stroke','los_icu_class']\n",
    "df_raw = df_raw.drop(columns=drop_cols)"
   ]
  },
  {
   "cell_type": "code",
   "execution_count": 8,
   "id": "2a9c05d4-b0de-4db8-967a-f1154f7c1047",
   "metadata": {},
   "outputs": [],
   "source": [
    "df_full = df_raw.groupby('id').transform(lambda x: x.fillna(x.mean()))"
   ]
  },
  {
   "cell_type": "code",
   "execution_count": 9,
   "id": "c79cad82-3593-48f1-bbd0-d9e414a37af6",
   "metadata": {},
   "outputs": [],
   "source": [
    "df = df_full.fillna(df_full.mean())"
   ]
  },
  {
   "cell_type": "markdown",
   "id": "bb36e0b2-bac1-4b19-9308-73dda56b98f8",
   "metadata": {},
   "source": [
    "# Prepare data for training"
   ]
  },
  {
   "cell_type": "code",
   "execution_count": 19,
   "id": "c1f1ffc5-d4b0-4101-a506-745dc41d82fa",
   "metadata": {},
   "outputs": [],
   "source": [
    "X = df.drop(columns=['icu_death'])\n",
    "y = df['icu_death']\n",
    "\n",
    "time_steps = 25\n",
    "X = np.array([X[i:i + time_steps] for i in range(0, len(X), time_steps)])\n",
    "y = np.array([y[i] for i in range(time_steps - 1, len(y), time_steps)])\n",
    "\n",
    "X_train, X_test, y_train, y_test = train_test_split(X, y, test_size=0.2, random_state=42)"
   ]
  },
  {
   "cell_type": "code",
   "execution_count": 32,
   "id": "4301d331",
   "metadata": {},
   "outputs": [],
   "source": [
    "X_train_2d = X_train.reshape(-1, X_train.shape[-1])\n",
    "X_test_2d = X_test.reshape(-1, X_test.shape[-1])"
   ]
  },
  {
   "cell_type": "code",
   "execution_count": 35,
   "id": "f910e47d",
   "metadata": {},
   "outputs": [],
   "source": [
    "# min-max standardization\n",
    "scaler = MinMaxScaler(feature_range=(0, 1))\n",
    "scaler.fit(X_train_2d)\n",
    "X_train_2d_scaled = scaler.transform(X_train_2d)\n",
    "X_test_2d_scaled = scaler.transform(X_test_2d)"
   ]
  },
  {
   "cell_type": "code",
   "execution_count": 41,
   "id": "13095954",
   "metadata": {},
   "outputs": [],
   "source": [
    "X_train = np.array([X_train_2d_scaled[i:i + time_steps] for i in range(0, len(X_train_2d_scaled), time_steps)])\n",
    "X_test = np.array([X_test_2d_scaled[i:i + time_steps] for i in range(0, len(X_test_2d_scaled), time_steps)])"
   ]
  },
  {
   "cell_type": "markdown",
   "id": "e9c01be8-63a2-4724-bcb3-6e6f48817fe0",
   "metadata": {},
   "source": [
    "# Modeling"
   ]
  },
  {
   "cell_type": "code",
   "execution_count": 42,
   "id": "137195b5-caee-488d-b538-51075e313bb0",
   "metadata": {},
   "outputs": [
    {
     "name": "stderr",
     "output_type": "stream",
     "text": [
      "d:\\Anaconda\\envs\\tensorflow\\lib\\site-packages\\keras\\src\\layers\\rnn\\rnn.py:204: UserWarning: Do not pass an `input_shape`/`input_dim` argument to a layer. When using Sequential models, prefer using an `Input(shape)` object as the first layer in the model instead.\n",
      "  super().__init__(**kwargs)\n"
     ]
    }
   ],
   "source": [
    "# Construction\n",
    "model = Sequential()\n",
    "model.add(LSTM(units=25, return_sequences=False, input_shape=(time_steps, X_train.shape[2])))\n",
    "model.add(Dropout(0.2))\n",
    "model.add(Dense(1, activation='sigmoid'))"
   ]
  },
  {
   "cell_type": "code",
   "execution_count": 43,
   "id": "87287f77-6264-4f93-84c4-a77814cc7fe8",
   "metadata": {},
   "outputs": [],
   "source": [
    "model.compile(optimizer='adam', loss='binary_crossentropy')"
   ]
  },
  {
   "cell_type": "code",
   "execution_count": 44,
   "id": "1c7de72c-1424-4784-a808-016e66fe2b12",
   "metadata": {},
   "outputs": [],
   "source": [
    "# calculate weight of each classification\n",
    "total_samples = len(y_train)\n",
    "class_count = np.bincount(y_train)\n",
    "class_weights = total_samples / (len(class_count) * class_count)\n",
    "# change into dictionary format\n",
    "class_weights_dict = dict(enumerate(class_weights))"
   ]
  },
  {
   "cell_type": "code",
   "execution_count": 45,
   "id": "5fd68e22-534b-4f9c-9687-a03a1c0e589e",
   "metadata": {},
   "outputs": [
    {
     "data": {
      "text/plain": [
       "{0: 0.5592341956484496, 1: 4.720535068691251}"
      ]
     },
     "execution_count": 45,
     "metadata": {},
     "output_type": "execute_result"
    }
   ],
   "source": [
    "class_weights_dict"
   ]
  },
  {
   "cell_type": "code",
   "execution_count": 46,
   "id": "9a10676b-eea5-4077-aeec-6e6a72f9313e",
   "metadata": {},
   "outputs": [
    {
     "name": "stdout",
     "output_type": "stream",
     "text": [
      "Epoch 1/50\n",
      "\u001b[1m409/409\u001b[0m \u001b[32m━━━━━━━━━━━━━━━━━━━━\u001b[0m\u001b[37m\u001b[0m \u001b[1m6s\u001b[0m 8ms/step - loss: 0.6870 - val_loss: 0.4874\n",
      "Epoch 2/50\n",
      "\u001b[1m409/409\u001b[0m \u001b[32m━━━━━━━━━━━━━━━━━━━━\u001b[0m\u001b[37m\u001b[0m \u001b[1m5s\u001b[0m 7ms/step - loss: 0.6220 - val_loss: 0.4776\n",
      "Epoch 3/50\n",
      "\u001b[1m409/409\u001b[0m \u001b[32m━━━━━━━━━━━━━━━━━━━━\u001b[0m\u001b[37m\u001b[0m \u001b[1m3s\u001b[0m 7ms/step - loss: 0.5950 - val_loss: 0.4748\n",
      "Epoch 4/50\n",
      "\u001b[1m409/409\u001b[0m \u001b[32m━━━━━━━━━━━━━━━━━━━━\u001b[0m\u001b[37m\u001b[0m \u001b[1m3s\u001b[0m 7ms/step - loss: 0.5810 - val_loss: 0.5154\n",
      "Epoch 5/50\n",
      "\u001b[1m409/409\u001b[0m \u001b[32m━━━━━━━━━━━━━━━━━━━━\u001b[0m\u001b[37m\u001b[0m \u001b[1m3s\u001b[0m 7ms/step - loss: 0.5791 - val_loss: 0.5309\n",
      "Epoch 6/50\n",
      "\u001b[1m409/409\u001b[0m \u001b[32m━━━━━━━━━━━━━━━━━━━━\u001b[0m\u001b[37m\u001b[0m \u001b[1m3s\u001b[0m 8ms/step - loss: 0.5821 - val_loss: 0.6236\n",
      "Epoch 7/50\n",
      "\u001b[1m409/409\u001b[0m \u001b[32m━━━━━━━━━━━━━━━━━━━━\u001b[0m\u001b[37m\u001b[0m \u001b[1m5s\u001b[0m 8ms/step - loss: 0.5696 - val_loss: 0.5607\n",
      "Epoch 8/50\n",
      "\u001b[1m409/409\u001b[0m \u001b[32m━━━━━━━━━━━━━━━━━━━━\u001b[0m\u001b[37m\u001b[0m \u001b[1m5s\u001b[0m 7ms/step - loss: 0.5519 - val_loss: 0.5387\n",
      "Epoch 9/50\n",
      "\u001b[1m409/409\u001b[0m \u001b[32m━━━━━━━━━━━━━━━━━━━━\u001b[0m\u001b[37m\u001b[0m \u001b[1m3s\u001b[0m 8ms/step - loss: 0.5563 - val_loss: 0.4674\n",
      "Epoch 10/50\n",
      "\u001b[1m409/409\u001b[0m \u001b[32m━━━━━━━━━━━━━━━━━━━━\u001b[0m\u001b[37m\u001b[0m \u001b[1m3s\u001b[0m 7ms/step - loss: 0.5753 - val_loss: 0.4656\n",
      "Epoch 11/50\n",
      "\u001b[1m409/409\u001b[0m \u001b[32m━━━━━━━━━━━━━━━━━━━━\u001b[0m\u001b[37m\u001b[0m \u001b[1m4s\u001b[0m 9ms/step - loss: 0.5462 - val_loss: 0.4955\n",
      "Epoch 12/50\n",
      "\u001b[1m409/409\u001b[0m \u001b[32m━━━━━━━━━━━━━━━━━━━━\u001b[0m\u001b[37m\u001b[0m \u001b[1m3s\u001b[0m 7ms/step - loss: 0.5595 - val_loss: 0.4760\n",
      "Epoch 13/50\n",
      "\u001b[1m409/409\u001b[0m \u001b[32m━━━━━━━━━━━━━━━━━━━━\u001b[0m\u001b[37m\u001b[0m \u001b[1m3s\u001b[0m 8ms/step - loss: 0.5429 - val_loss: 0.5596\n",
      "Epoch 14/50\n",
      "\u001b[1m409/409\u001b[0m \u001b[32m━━━━━━━━━━━━━━━━━━━━\u001b[0m\u001b[37m\u001b[0m \u001b[1m3s\u001b[0m 7ms/step - loss: 0.5447 - val_loss: 0.4491\n",
      "Epoch 15/50\n",
      "\u001b[1m409/409\u001b[0m \u001b[32m━━━━━━━━━━━━━━━━━━━━\u001b[0m\u001b[37m\u001b[0m \u001b[1m3s\u001b[0m 7ms/step - loss: 0.5223 - val_loss: 0.4773\n",
      "Epoch 16/50\n",
      "\u001b[1m409/409\u001b[0m \u001b[32m━━━━━━━━━━━━━━━━━━━━\u001b[0m\u001b[37m\u001b[0m \u001b[1m3s\u001b[0m 8ms/step - loss: 0.5316 - val_loss: 0.5399\n",
      "Epoch 17/50\n",
      "\u001b[1m409/409\u001b[0m \u001b[32m━━━━━━━━━━━━━━━━━━━━\u001b[0m\u001b[37m\u001b[0m \u001b[1m3s\u001b[0m 8ms/step - loss: 0.5740 - val_loss: 0.6371\n",
      "Epoch 18/50\n",
      "\u001b[1m409/409\u001b[0m \u001b[32m━━━━━━━━━━━━━━━━━━━━\u001b[0m\u001b[37m\u001b[0m \u001b[1m4s\u001b[0m 9ms/step - loss: 0.5235 - val_loss: 0.5679\n",
      "Epoch 19/50\n",
      "\u001b[1m409/409\u001b[0m \u001b[32m━━━━━━━━━━━━━━━━━━━━\u001b[0m\u001b[37m\u001b[0m \u001b[1m3s\u001b[0m 7ms/step - loss: 0.5317 - val_loss: 0.6304\n",
      "Epoch 20/50\n",
      "\u001b[1m409/409\u001b[0m \u001b[32m━━━━━━━━━━━━━━━━━━━━\u001b[0m\u001b[37m\u001b[0m \u001b[1m3s\u001b[0m 8ms/step - loss: 0.5196 - val_loss: 0.4566\n",
      "Epoch 21/50\n",
      "\u001b[1m409/409\u001b[0m \u001b[32m━━━━━━━━━━━━━━━━━━━━\u001b[0m\u001b[37m\u001b[0m \u001b[1m3s\u001b[0m 8ms/step - loss: 0.5242 - val_loss: 0.5393\n",
      "Epoch 22/50\n",
      "\u001b[1m409/409\u001b[0m \u001b[32m━━━━━━━━━━━━━━━━━━━━\u001b[0m\u001b[37m\u001b[0m \u001b[1m3s\u001b[0m 7ms/step - loss: 0.5104 - val_loss: 0.6719\n",
      "Epoch 23/50\n",
      "\u001b[1m409/409\u001b[0m \u001b[32m━━━━━━━━━━━━━━━━━━━━\u001b[0m\u001b[37m\u001b[0m \u001b[1m3s\u001b[0m 8ms/step - loss: 0.5022 - val_loss: 0.6550\n",
      "Epoch 24/50\n",
      "\u001b[1m409/409\u001b[0m \u001b[32m━━━━━━━━━━━━━━━━━━━━\u001b[0m\u001b[37m\u001b[0m \u001b[1m3s\u001b[0m 7ms/step - loss: 0.5079 - val_loss: 0.6901\n",
      "Epoch 25/50\n",
      "\u001b[1m409/409\u001b[0m \u001b[32m━━━━━━━━━━━━━━━━━━━━\u001b[0m\u001b[37m\u001b[0m \u001b[1m3s\u001b[0m 8ms/step - loss: 0.5127 - val_loss: 0.5213\n",
      "Epoch 26/50\n",
      "\u001b[1m409/409\u001b[0m \u001b[32m━━━━━━━━━━━━━━━━━━━━\u001b[0m\u001b[37m\u001b[0m \u001b[1m3s\u001b[0m 7ms/step - loss: 0.4973 - val_loss: 0.5206\n",
      "Epoch 27/50\n",
      "\u001b[1m409/409\u001b[0m \u001b[32m━━━━━━━━━━━━━━━━━━━━\u001b[0m\u001b[37m\u001b[0m \u001b[1m3s\u001b[0m 8ms/step - loss: 0.5521 - val_loss: 0.5316\n",
      "Epoch 28/50\n",
      "\u001b[1m409/409\u001b[0m \u001b[32m━━━━━━━━━━━━━━━━━━━━\u001b[0m\u001b[37m\u001b[0m \u001b[1m3s\u001b[0m 8ms/step - loss: 0.5119 - val_loss: 0.4651\n",
      "Epoch 29/50\n",
      "\u001b[1m409/409\u001b[0m \u001b[32m━━━━━━━━━━━━━━━━━━━━\u001b[0m\u001b[37m\u001b[0m \u001b[1m5s\u001b[0m 8ms/step - loss: 0.5108 - val_loss: 0.4543\n",
      "Epoch 30/50\n",
      "\u001b[1m409/409\u001b[0m \u001b[32m━━━━━━━━━━━━━━━━━━━━\u001b[0m\u001b[37m\u001b[0m \u001b[1m5s\u001b[0m 8ms/step - loss: 0.4984 - val_loss: 0.4535\n",
      "Epoch 31/50\n",
      "\u001b[1m409/409\u001b[0m \u001b[32m━━━━━━━━━━━━━━━━━━━━\u001b[0m\u001b[37m\u001b[0m \u001b[1m5s\u001b[0m 8ms/step - loss: 0.4863 - val_loss: 0.6191\n",
      "Epoch 32/50\n",
      "\u001b[1m409/409\u001b[0m \u001b[32m━━━━━━━━━━━━━━━━━━━━\u001b[0m\u001b[37m\u001b[0m \u001b[1m3s\u001b[0m 7ms/step - loss: 0.4928 - val_loss: 0.4758\n",
      "Epoch 33/50\n",
      "\u001b[1m409/409\u001b[0m \u001b[32m━━━━━━━━━━━━━━━━━━━━\u001b[0m\u001b[37m\u001b[0m \u001b[1m5s\u001b[0m 7ms/step - loss: 0.4749 - val_loss: 0.5107\n",
      "Epoch 34/50\n",
      "\u001b[1m409/409\u001b[0m \u001b[32m━━━━━━━━━━━━━━━━━━━━\u001b[0m\u001b[37m\u001b[0m \u001b[1m3s\u001b[0m 7ms/step - loss: 0.5161 - val_loss: 0.6173\n",
      "Epoch 35/50\n",
      "\u001b[1m409/409\u001b[0m \u001b[32m━━━━━━━━━━━━━━━━━━━━\u001b[0m\u001b[37m\u001b[0m \u001b[1m3s\u001b[0m 8ms/step - loss: 0.4930 - val_loss: 0.5134\n",
      "Epoch 36/50\n",
      "\u001b[1m409/409\u001b[0m \u001b[32m━━━━━━━━━━━━━━━━━━━━\u001b[0m\u001b[37m\u001b[0m \u001b[1m3s\u001b[0m 7ms/step - loss: 0.4875 - val_loss: 0.5132\n",
      "Epoch 37/50\n",
      "\u001b[1m409/409\u001b[0m \u001b[32m━━━━━━━━━━━━━━━━━━━━\u001b[0m\u001b[37m\u001b[0m \u001b[1m3s\u001b[0m 8ms/step - loss: 0.4590 - val_loss: 2.0536\n",
      "Epoch 38/50\n",
      "\u001b[1m409/409\u001b[0m \u001b[32m━━━━━━━━━━━━━━━━━━━━\u001b[0m\u001b[37m\u001b[0m \u001b[1m3s\u001b[0m 7ms/step - loss: 0.6569 - val_loss: 0.5086\n",
      "Epoch 39/50\n",
      "\u001b[1m409/409\u001b[0m \u001b[32m━━━━━━━━━━━━━━━━━━━━\u001b[0m\u001b[37m\u001b[0m \u001b[1m3s\u001b[0m 8ms/step - loss: 0.4609 - val_loss: 0.5569\n",
      "Epoch 40/50\n",
      "\u001b[1m409/409\u001b[0m \u001b[32m━━━━━━━━━━━━━━━━━━━━\u001b[0m\u001b[37m\u001b[0m \u001b[1m5s\u001b[0m 7ms/step - loss: 0.4445 - val_loss: 0.5543\n",
      "Epoch 41/50\n",
      "\u001b[1m409/409\u001b[0m \u001b[32m━━━━━━━━━━━━━━━━━━━━\u001b[0m\u001b[37m\u001b[0m \u001b[1m3s\u001b[0m 8ms/step - loss: 0.4539 - val_loss: 0.5170\n",
      "Epoch 42/50\n",
      "\u001b[1m409/409\u001b[0m \u001b[32m━━━━━━━━━━━━━━━━━━━━\u001b[0m\u001b[37m\u001b[0m \u001b[1m3s\u001b[0m 7ms/step - loss: 0.4981 - val_loss: 0.6316\n",
      "Epoch 43/50\n",
      "\u001b[1m409/409\u001b[0m \u001b[32m━━━━━━━━━━━━━━━━━━━━\u001b[0m\u001b[37m\u001b[0m \u001b[1m3s\u001b[0m 8ms/step - loss: 0.4745 - val_loss: 0.5502\n",
      "Epoch 44/50\n",
      "\u001b[1m409/409\u001b[0m \u001b[32m━━━━━━━━━━━━━━━━━━━━\u001b[0m\u001b[37m\u001b[0m \u001b[1m3s\u001b[0m 7ms/step - loss: 0.4646 - val_loss: 0.4807\n",
      "Epoch 45/50\n",
      "\u001b[1m409/409\u001b[0m \u001b[32m━━━━━━━━━━━━━━━━━━━━\u001b[0m\u001b[37m\u001b[0m \u001b[1m3s\u001b[0m 8ms/step - loss: 0.4570 - val_loss: 0.4865\n",
      "Epoch 46/50\n",
      "\u001b[1m409/409\u001b[0m \u001b[32m━━━━━━━━━━━━━━━━━━━━\u001b[0m\u001b[37m\u001b[0m \u001b[1m3s\u001b[0m 7ms/step - loss: 0.4125 - val_loss: 0.7703\n",
      "Epoch 47/50\n",
      "\u001b[1m409/409\u001b[0m \u001b[32m━━━━━━━━━━━━━━━━━━━━\u001b[0m\u001b[37m\u001b[0m \u001b[1m3s\u001b[0m 8ms/step - loss: 0.4714 - val_loss: 0.5808\n",
      "Epoch 48/50\n",
      "\u001b[1m409/409\u001b[0m \u001b[32m━━━━━━━━━━━━━━━━━━━━\u001b[0m\u001b[37m\u001b[0m \u001b[1m3s\u001b[0m 7ms/step - loss: 0.4531 - val_loss: 0.4615\n",
      "Epoch 49/50\n",
      "\u001b[1m409/409\u001b[0m \u001b[32m━━━━━━━━━━━━━━━━━━━━\u001b[0m\u001b[37m\u001b[0m \u001b[1m3s\u001b[0m 8ms/step - loss: 0.4416 - val_loss: 0.5045\n",
      "Epoch 50/50\n",
      "\u001b[1m409/409\u001b[0m \u001b[32m━━━━━━━━━━━━━━━━━━━━\u001b[0m\u001b[37m\u001b[0m \u001b[1m3s\u001b[0m 8ms/step - loss: 0.4354 - val_loss: 0.6014\n"
     ]
    },
    {
     "data": {
      "text/plain": [
       "<keras.src.callbacks.history.History at 0x22e80206790>"
      ]
     },
     "execution_count": 46,
     "metadata": {},
     "output_type": "execute_result"
    }
   ],
   "source": [
    "# fit model\n",
    "model.fit(X_train, y_train, epochs=50, batch_size=32, validation_data=(X_test, y_test), class_weight=class_weights_dict)"
   ]
  },
  {
   "cell_type": "code",
   "execution_count": 29,
   "id": "0d67dcf4",
   "metadata": {},
   "outputs": [],
   "source": [
    "# # save the trained model\n",
    "# model.save('lstm_mortality.keras')"
   ]
  },
  {
   "cell_type": "code",
   "execution_count": 47,
   "id": "12759820-05d8-4cc3-b9cd-dae16f31a9b0",
   "metadata": {},
   "outputs": [
    {
     "name": "stdout",
     "output_type": "stream",
     "text": [
      "\u001b[1m103/103\u001b[0m \u001b[32m━━━━━━━━━━━━━━━━━━━━\u001b[0m\u001b[37m\u001b[0m \u001b[1m1s\u001b[0m 5ms/step\n",
      "AUROC: 0.6778598757532128\n",
      "Precision: 0.18357933579335795\n",
      "Recall: 0.6546052631578947\n",
      "F1 Score: 0.28674351585014407\n"
     ]
    }
   ],
   "source": [
    "# on testing set\n",
    "y_test_pred = model.predict(X_test)\n",
    "\n",
    "# classify based on probability\n",
    "y_pred_class = (y_test_pred > 0.5).astype(int)\n",
    "\n",
    "# evaluate the result\n",
    "auroc = roc_auc_score(y_test, y_pred_class)\n",
    "precision = precision_score(y_test, y_pred_class)\n",
    "recall = recall_score(y_test, y_pred_class)\n",
    "f1 = f1_score(y_test, y_pred_class)\n",
    "\n",
    "print(\"AUROC:\", auroc)\n",
    "print(\"Precision:\", precision)\n",
    "print(\"Recall:\", recall)\n",
    "print(\"F1 Score:\", f1)"
   ]
  },
  {
   "cell_type": "code",
   "execution_count": 31,
   "id": "a5ae55d2-59a9-4bbf-8cde-6802ab09753b",
   "metadata": {},
   "outputs": [
    {
     "name": "stdout",
     "output_type": "stream",
     "text": [
      "\u001b[1m511/511\u001b[0m \u001b[32m━━━━━━━━━━━━━━━━━━━━\u001b[0m\u001b[37m\u001b[0m \u001b[1m1s\u001b[0m 3ms/step\n",
      "Precision: 0.31702544031311153\n",
      "Recall: 0.8642560758743332\n",
      "F1 Score: 0.4638880050906777\n"
     ]
    }
   ],
   "source": [
    "# # predict the whole X\n",
    "# X_scaled = np.concatenate((X_train, X_test), axis=0)\n",
    "# y_pred = model.predict(X_scaled)\n",
    "\n",
    "# # classify based on probability\n",
    "# y_pred_class = (y_pred > 0.5).astype(int)\n",
    "\n",
    "# # evaluate the result\n",
    "# auroc = roc_auc_score(y, y_pred_class)\n",
    "# precision = precision_score(y, y_pred_class)\n",
    "# recall = recall_score(y, y_pred_class)\n",
    "# f1 = f1_score(y, y_pred_class)\n",
    "\n",
    "# print(\"AUROC:\", auroc)\n",
    "# print(\"Precision:\", precision)\n",
    "# print(\"Recall:\", recall)\n",
    "# print(\"F1 Score:\", f1)"
   ]
  },
  {
   "cell_type": "code",
   "execution_count": 32,
   "id": "58b1223f-e31e-49d4-ab2a-e581752b437a",
   "metadata": {},
   "outputs": [],
   "source": [
    "result_df = pd.DataFrame(y_pred, columns=['predictions'])\n",
    "\n",
    "# output death probability of all patients\n",
    "result_df.to_csv('lstm_probs_of_death_traintest.csv', index=False)"
   ]
  }
 ],
 "metadata": {
  "kernelspec": {
   "display_name": "Python 3 (ipykernel)",
   "language": "python",
   "name": "python3"
  },
  "language_info": {
   "codemirror_mode": {
    "name": "ipython",
    "version": 3
   },
   "file_extension": ".py",
   "mimetype": "text/x-python",
   "name": "python",
   "nbconvert_exporter": "python",
   "pygments_lexer": "ipython3",
   "version": "3.9.19"
  }
 },
 "nbformat": 4,
 "nbformat_minor": 5
}

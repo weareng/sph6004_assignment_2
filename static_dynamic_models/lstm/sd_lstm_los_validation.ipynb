{
 "cells": [
  {
   "cell_type": "code",
   "execution_count": 1,
   "metadata": {},
   "outputs": [],
   "source": [
    "import numpy as np\n",
    "import pandas as pd\n",
    "from sklearn.preprocessing import MinMaxScaler\n",
    "import tensorflow as tf"
   ]
  },
  {
   "cell_type": "code",
   "execution_count": 2,
   "metadata": {},
   "outputs": [],
   "source": [
    "# read the validation data\n",
    "val_data = pd.read_csv('validation.csv')"
   ]
  },
  {
   "cell_type": "code",
   "execution_count": 3,
   "metadata": {},
   "outputs": [],
   "source": [
    "# import the mortality prediction from Wen Rui's model\n",
    "mortality = pd.read_csv('Validation_death_combined_3.csv')"
   ]
  },
  {
   "cell_type": "code",
   "execution_count": 6,
   "metadata": {},
   "outputs": [],
   "source": [
    "# To input the predicted death status as feature\n",
    "mortality['id'] = val_data['id'].unique()\n",
    "val_data = pd.merge(val_data, mortality, on='id', how='right').drop(columns=['icu_death', 'Unnamed: 0'])\n",
    "val_data = val_data.rename(columns={'0': 'icu_death'})"
   ]
  },
  {
   "cell_type": "code",
   "execution_count": 7,
   "metadata": {},
   "outputs": [],
   "source": [
    "def data_preprocessing(df):\n",
    "    # change class into 0-1 format\n",
    "    df['los_icu_class'] = df['los_icu_class'].apply(lambda x: 0 if x == 'less than 3 days' else 1)\n",
    "\n",
    "    # drop redundant columns\n",
    "    df = df.drop(columns=['charttime','hosp_admittime','hosp_dischtime','icu_intime','icu_outtime','los_icu','text_embeddings'])\n",
    "\n",
    "    # fill nan\n",
    "    df_full = df.groupby('id').transform(lambda x: x.fillna(x.mean()))\n",
    "    df = df_full.fillna(df_full.mean())\n",
    "    return df"
   ]
  },
  {
   "cell_type": "code",
   "execution_count": 8,
   "metadata": {},
   "outputs": [],
   "source": [
    "def split_X_y(df):\n",
    "    X = df.drop(columns=['los_icu_class'])\n",
    "    y = df['los_icu_class']\n",
    "\n",
    "    # numerical columns\n",
    "    num = df.select_dtypes(include=['float']).columns\n",
    "    X_num = X[num]\n",
    "\n",
    "    # min-max standardization\n",
    "    scaler = MinMaxScaler(feature_range=(0, 1))\n",
    "    X_num_scaled = scaler.fit_transform(X_num)\n",
    "    X_num_scaled = pd.DataFrame(X_num_scaled, columns=num, index=X_num.index)\n",
    "    X_scaled = X.copy()\n",
    "    X_scaled[num] = X_num_scaled[num]\n",
    "\n",
    "    time_steps = 25\n",
    "    X_scaled = np.array([X_scaled[i:i + time_steps] for i in range(0, len(X_scaled), time_steps)])\n",
    "    y = np.array([y[i] for i in range(time_steps - 1, len(y), time_steps)])\n",
    "    return X_scaled, y"
   ]
  },
  {
   "cell_type": "code",
   "execution_count": 9,
   "metadata": {},
   "outputs": [],
   "source": [
    "model = tf.keras.models.load_model('lstm_los.keras')"
   ]
  },
  {
   "cell_type": "code",
   "execution_count": 10,
   "metadata": {},
   "outputs": [
    {
     "name": "stdout",
     "output_type": "stream",
     "text": [
      "\u001b[1m128/128\u001b[0m \u001b[32m━━━━━━━━━━━━━━━━━━━━\u001b[0m\u001b[37m\u001b[0m \u001b[1m1s\u001b[0m 6ms/step\n"
     ]
    }
   ],
   "source": [
    "val_data = data_preprocessing(val_data)\n",
    "X_scaled, y = split_X_y(val_data)\n",
    "\n",
    "# get probability\n",
    "probs = model.predict(X_scaled)"
   ]
  },
  {
   "cell_type": "code",
   "execution_count": 11,
   "metadata": {},
   "outputs": [],
   "source": [
    "# output probablity as csv file\n",
    "result = pd.DataFrame(probs, columns=['probs_of_los'])\n",
    "result.to_csv('lstm_probs_of_los_valid.csv', index=False)"
   ]
  }
 ],
 "metadata": {
  "kernelspec": {
   "display_name": "tensorflow",
   "language": "python",
   "name": "python3"
  },
  "language_info": {
   "codemirror_mode": {
    "name": "ipython",
    "version": 3
   },
   "file_extension": ".py",
   "mimetype": "text/x-python",
   "name": "python",
   "nbconvert_exporter": "python",
   "pygments_lexer": "ipython3",
   "version": "3.9.19"
  }
 },
 "nbformat": 4,
 "nbformat_minor": 2
}

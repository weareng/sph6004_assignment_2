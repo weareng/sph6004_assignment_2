{
 "cells": [
  {
   "cell_type": "code",
   "execution_count": 1,
   "id": "1ae9ea08-e17a-4d65-98d2-26bf3ccb8413",
   "metadata": {},
   "outputs": [],
   "source": [
    "import numpy as np\n",
    "import pandas as pd\n",
    "from sklearn.preprocessing import MinMaxScaler\n",
    "import tensorflow as tf"
   ]
  },
  {
   "cell_type": "code",
   "execution_count": 2,
   "id": "f67129c9-7ea8-4eae-afbe-084084e282db",
   "metadata": {},
   "outputs": [],
   "source": [
    "# read the validation data\n",
    "val_data = pd.read_csv('validation.csv')"
   ]
  },
  {
   "cell_type": "code",
   "execution_count": 3,
   "id": "6a71fddb-3e88-4642-9314-e7ce72a8708c",
   "metadata": {},
   "outputs": [],
   "source": [
    "def data_preprocessing(df):\n",
    "    # drop redundant\n",
    "    drop_cols = ['charttime','hosp_admittime','hosp_dischtime','icu_intime','icu_outtime','los_icu', 'text_embeddings','los_icu_class']\n",
    "    df  = df.drop(columns=drop_cols)\n",
    "    # fill nan\n",
    "    df_full = df.groupby('id').transform(lambda x: x.fillna(x.mean()))\n",
    "    df = df_full.fillna(df_full.mean())\n",
    "    return df"
   ]
  },
  {
   "cell_type": "code",
   "execution_count": 4,
   "id": "13b2c052",
   "metadata": {},
   "outputs": [],
   "source": [
    "def split_X_y(df):\n",
    "    X = df.drop(columns=['icu_death'])\n",
    "    y = df['icu_death']\n",
    "\n",
    "    # numerical columns\n",
    "    num = df.select_dtypes(include=['float']).columns\n",
    "    X_num = X[num]\n",
    "\n",
    "    # min-max standardization\n",
    "    scaler = MinMaxScaler(feature_range=(0, 1))\n",
    "    X_num_scaled = scaler.fit_transform(X_num)\n",
    "    X_num_scaled = pd.DataFrame(X_num_scaled, columns=num, index=X_num.index)\n",
    "    X_scaled = X.copy()\n",
    "    X_scaled[num] = X_num_scaled[num]\n",
    "\n",
    "    time_steps = 25\n",
    "    X_scaled = np.array([X_scaled[i:i + time_steps] for i in range(0, len(X_scaled), time_steps)])\n",
    "    y = np.array([y[i] for i in range(time_steps - 1, len(y), time_steps)])\n",
    "    return X_scaled, y"
   ]
  },
  {
   "cell_type": "code",
   "execution_count": 5,
   "id": "6d514c9d-dd14-4fe8-8c26-ed68df770b5c",
   "metadata": {},
   "outputs": [],
   "source": [
    "model = tf.keras.models.load_model('lstm_mortality.keras')"
   ]
  },
  {
   "cell_type": "code",
   "execution_count": 6,
   "id": "8cf5bdc5-149f-4aa0-b955-eadd55401618",
   "metadata": {},
   "outputs": [
    {
     "name": "stdout",
     "output_type": "stream",
     "text": [
      "\u001b[1m128/128\u001b[0m \u001b[32m━━━━━━━━━━━━━━━━━━━━\u001b[0m\u001b[37m\u001b[0m \u001b[1m1s\u001b[0m 4ms/step\n"
     ]
    }
   ],
   "source": [
    "val_data = data_preprocessing(val_data)\n",
    "X_scaled, y = split_X_y(val_data)\n",
    "\n",
    "# get probability\n",
    "probs = model.predict(X_scaled)"
   ]
  },
  {
   "cell_type": "code",
   "execution_count": 7,
   "id": "a5ae55d2-59a9-4bbf-8cde-6802ab09753b",
   "metadata": {},
   "outputs": [],
   "source": [
    "# output probablity as csv file\n",
    "result = pd.DataFrame(probs, columns=['probs_of_death'])\n",
    "result.to_csv('lstm_probs_of_death_valid.csv', index=False)"
   ]
  }
 ],
 "metadata": {
  "kernelspec": {
   "display_name": "Python 3 (ipykernel)",
   "language": "python",
   "name": "python3"
  },
  "language_info": {
   "codemirror_mode": {
    "name": "ipython",
    "version": 3
   },
   "file_extension": ".py",
   "mimetype": "text/x-python",
   "name": "python",
   "nbconvert_exporter": "python",
   "pygments_lexer": "ipython3",
   "version": "3.9.19"
  }
 },
 "nbformat": 4,
 "nbformat_minor": 5
}

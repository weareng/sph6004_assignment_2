{
 "cells": [
  {
   "cell_type": "code",
   "execution_count": 1,
   "metadata": {},
   "outputs": [],
   "source": [
    "import pandas as pd\n",
    "import numpy as np\n",
    "from sklearn.model_selection import train_test_split\n",
    "from sklearn.preprocessing import StandardScaler\n",
    "from sklearn.preprocessing import MinMaxScaler\n",
    "import tensorflow as tf\n",
    "from keras.models import Sequential\n",
    "from keras.layers import Dense, Conv1D, MaxPooling1D, Flatten\n",
    "from keras.optimizers import Adam\n",
    "from sklearn.metrics import roc_auc_score, precision_score, recall_score, f1_score"
   ]
  },
  {
   "cell_type": "markdown",
   "metadata": {},
   "source": [
    "# Data preparation"
   ]
  },
  {
   "cell_type": "code",
   "execution_count": 2,
   "metadata": {},
   "outputs": [],
   "source": [
    "data = pd.read_csv('train_test.csv')"
   ]
  },
  {
   "cell_type": "code",
   "execution_count": 3,
   "metadata": {},
   "outputs": [],
   "source": [
    "drop_cols = ['charttime','hosp_admittime','hosp_dischtime','icu_intime','icu_outtime','los_icu','text_embeddings',\n",
    "             'gender','admission_age','weight_admit','height','admission_type','charlson_score','atrial_fibrillation',\n",
    "             'malignant_cancer','chf','ckd','cld','copd','diabetes','hypertension','ihd','stroke','los_icu_class']\n",
    "data = data.drop(columns=drop_cols)"
   ]
  },
  {
   "cell_type": "code",
   "execution_count": 4,
   "metadata": {},
   "outputs": [],
   "source": [
    "# fill the nan\n",
    "df_full = data.groupby('id').transform(lambda x: x.fillna(x.mean()))\n",
    "df = df_full.fillna(df_full.mean())"
   ]
  },
  {
   "cell_type": "code",
   "execution_count": 5,
   "metadata": {},
   "outputs": [],
   "source": [
    "X = df.drop(columns=['icu_death'])\n",
    "y = df['icu_death']\n",
    "\n",
    "time_steps = 25\n",
    "X = np.array([X[i:i + time_steps] for i in range(0, len(X), time_steps)])\n",
    "y = np.array([y[i] for i in range(time_steps - 1, len(y), time_steps)])\n",
    "\n",
    "X_train, X_test, y_train, y_test = train_test_split(X, y, test_size=0.2, random_state=42)"
   ]
  },
  {
   "cell_type": "code",
   "execution_count": 6,
   "metadata": {},
   "outputs": [],
   "source": [
    "X_train_2d = X_train.reshape(-1, X_train.shape[-1])\n",
    "X_test_2d = X_test.reshape(-1, X_test.shape[-1])"
   ]
  },
  {
   "cell_type": "code",
   "execution_count": 7,
   "metadata": {},
   "outputs": [],
   "source": [
    "# min-max standardization\n",
    "scaler = MinMaxScaler(feature_range=(0, 1))\n",
    "scaler.fit(X_train_2d)\n",
    "X_train_2d_scaled = scaler.transform(X_train_2d)\n",
    "X_test_2d_scaled = scaler.transform(X_test_2d)"
   ]
  },
  {
   "cell_type": "code",
   "execution_count": 8,
   "metadata": {},
   "outputs": [],
   "source": [
    "X_train = np.array([X_train_2d_scaled[i:i + time_steps] for i in range(0, len(X_train_2d_scaled), time_steps)])\n",
    "X_test = np.array([X_test_2d_scaled[i:i + time_steps] for i in range(0, len(X_test_2d_scaled), time_steps)])\n",
    "y_train = y_train.reshape(-1, 1)"
   ]
  },
  {
   "cell_type": "markdown",
   "metadata": {},
   "source": [
    "# Modeling"
   ]
  },
  {
   "cell_type": "code",
   "execution_count": 11,
   "metadata": {},
   "outputs": [
    {
     "name": "stdout",
     "output_type": "stream",
     "text": [
      "Epoch 1/50\n",
      "\u001b[1m164/164\u001b[0m \u001b[32m━━━━━━━━━━━━━━━━━━━━\u001b[0m\u001b[37m\u001b[0m \u001b[1m3s\u001b[0m 8ms/step - f1_score: 0.1908 - loss: 0.3606 - val_f1_score: 0.1779 - val_loss: 0.3072\n",
      "Epoch 2/50\n",
      "\u001b[1m164/164\u001b[0m \u001b[32m━━━━━━━━━━━━━━━━━━━━\u001b[0m\u001b[37m\u001b[0m \u001b[1m1s\u001b[0m 6ms/step - f1_score: 0.1916 - loss: 0.3187 - val_f1_score: 0.1779 - val_loss: 0.2921\n",
      "Epoch 3/50\n",
      "\u001b[1m164/164\u001b[0m \u001b[32m━━━━━━━━━━━━━━━━━━━━\u001b[0m\u001b[37m\u001b[0m \u001b[1m1s\u001b[0m 6ms/step - f1_score: 0.2001 - loss: 0.3133 - val_f1_score: 0.1779 - val_loss: 0.2904\n",
      "Epoch 4/50\n",
      "\u001b[1m164/164\u001b[0m \u001b[32m━━━━━━━━━━━━━━━━━━━━\u001b[0m\u001b[37m\u001b[0m \u001b[1m1s\u001b[0m 7ms/step - f1_score: 0.1936 - loss: 0.3016 - val_f1_score: 0.1779 - val_loss: 0.2895\n",
      "Epoch 5/50\n",
      "\u001b[1m164/164\u001b[0m \u001b[32m━━━━━━━━━━━━━━━━━━━━\u001b[0m\u001b[37m\u001b[0m \u001b[1m1s\u001b[0m 6ms/step - f1_score: 0.1950 - loss: 0.2981 - val_f1_score: 0.1779 - val_loss: 0.3007\n",
      "Epoch 6/50\n",
      "\u001b[1m164/164\u001b[0m \u001b[32m━━━━━━━━━━━━━━━━━━━━\u001b[0m\u001b[37m\u001b[0m \u001b[1m1s\u001b[0m 7ms/step - f1_score: 0.2035 - loss: 0.3054 - val_f1_score: 0.1779 - val_loss: 0.2901\n",
      "Epoch 7/50\n",
      "\u001b[1m164/164\u001b[0m \u001b[32m━━━━━━━━━━━━━━━━━━━━\u001b[0m\u001b[37m\u001b[0m \u001b[1m1s\u001b[0m 7ms/step - f1_score: 0.1925 - loss: 0.2903 - val_f1_score: 0.1779 - val_loss: 0.2880\n",
      "Epoch 8/50\n",
      "\u001b[1m164/164\u001b[0m \u001b[32m━━━━━━━━━━━━━━━━━━━━\u001b[0m\u001b[37m\u001b[0m \u001b[1m1s\u001b[0m 7ms/step - f1_score: 0.1985 - loss: 0.3023 - val_f1_score: 0.1779 - val_loss: 0.2860\n",
      "Epoch 9/50\n",
      "\u001b[1m164/164\u001b[0m \u001b[32m━━━━━━━━━━━━━━━━━━━━\u001b[0m\u001b[37m\u001b[0m \u001b[1m1s\u001b[0m 5ms/step - f1_score: 0.1959 - loss: 0.2856 - val_f1_score: 0.1779 - val_loss: 0.2923\n",
      "Epoch 10/50\n",
      "\u001b[1m164/164\u001b[0m \u001b[32m━━━━━━━━━━━━━━━━━━━━\u001b[0m\u001b[37m\u001b[0m \u001b[1m1s\u001b[0m 6ms/step - f1_score: 0.1950 - loss: 0.2896 - val_f1_score: 0.1779 - val_loss: 0.2903\n",
      "Epoch 11/50\n",
      "\u001b[1m164/164\u001b[0m \u001b[32m━━━━━━━━━━━━━━━━━━━━\u001b[0m\u001b[37m\u001b[0m \u001b[1m1s\u001b[0m 6ms/step - f1_score: 0.1908 - loss: 0.2817 - val_f1_score: 0.1779 - val_loss: 0.2931\n",
      "Epoch 12/50\n",
      "\u001b[1m164/164\u001b[0m \u001b[32m━━━━━━━━━━━━━━━━━━━━\u001b[0m\u001b[37m\u001b[0m \u001b[1m1s\u001b[0m 6ms/step - f1_score: 0.1901 - loss: 0.2799 - val_f1_score: 0.1779 - val_loss: 0.2901\n",
      "Epoch 13/50\n",
      "\u001b[1m164/164\u001b[0m \u001b[32m━━━━━━━━━━━━━━━━━━━━\u001b[0m\u001b[37m\u001b[0m \u001b[1m1s\u001b[0m 6ms/step - f1_score: 0.1942 - loss: 0.2842 - val_f1_score: 0.1779 - val_loss: 0.2947\n",
      "Epoch 14/50\n",
      "\u001b[1m164/164\u001b[0m \u001b[32m━━━━━━━━━━━━━━━━━━━━\u001b[0m\u001b[37m\u001b[0m \u001b[1m2s\u001b[0m 8ms/step - f1_score: 0.2029 - loss: 0.2878 - val_f1_score: 0.1779 - val_loss: 0.2944\n",
      "Epoch 15/50\n",
      "\u001b[1m164/164\u001b[0m \u001b[32m━━━━━━━━━━━━━━━━━━━━\u001b[0m\u001b[37m\u001b[0m \u001b[1m1s\u001b[0m 6ms/step - f1_score: 0.1882 - loss: 0.2631 - val_f1_score: 0.1779 - val_loss: 0.2923\n",
      "Epoch 16/50\n",
      "\u001b[1m164/164\u001b[0m \u001b[32m━━━━━━━━━━━━━━━━━━━━\u001b[0m\u001b[37m\u001b[0m \u001b[1m1s\u001b[0m 7ms/step - f1_score: 0.1928 - loss: 0.2673 - val_f1_score: 0.1779 - val_loss: 0.2979\n",
      "Epoch 17/50\n",
      "\u001b[1m164/164\u001b[0m \u001b[32m━━━━━━━━━━━━━━━━━━━━\u001b[0m\u001b[37m\u001b[0m \u001b[1m1s\u001b[0m 7ms/step - f1_score: 0.2012 - loss: 0.2789 - val_f1_score: 0.1779 - val_loss: 0.2945\n",
      "Epoch 18/50\n",
      "\u001b[1m164/164\u001b[0m \u001b[32m━━━━━━━━━━━━━━━━━━━━\u001b[0m\u001b[37m\u001b[0m \u001b[1m1s\u001b[0m 5ms/step - f1_score: 0.1922 - loss: 0.2687 - val_f1_score: 0.1779 - val_loss: 0.2959\n",
      "Epoch 19/50\n",
      "\u001b[1m164/164\u001b[0m \u001b[32m━━━━━━━━━━━━━━━━━━━━\u001b[0m\u001b[37m\u001b[0m \u001b[1m1s\u001b[0m 6ms/step - f1_score: 0.1932 - loss: 0.2644 - val_f1_score: 0.1779 - val_loss: 0.2980\n",
      "Epoch 20/50\n",
      "\u001b[1m164/164\u001b[0m \u001b[32m━━━━━━━━━━━━━━━━━━━━\u001b[0m\u001b[37m\u001b[0m \u001b[1m1s\u001b[0m 6ms/step - f1_score: 0.2072 - loss: 0.2815 - val_f1_score: 0.1779 - val_loss: 0.2937\n",
      "Epoch 21/50\n",
      "\u001b[1m164/164\u001b[0m \u001b[32m━━━━━━━━━━━━━━━━━━━━\u001b[0m\u001b[37m\u001b[0m \u001b[1m1s\u001b[0m 7ms/step - f1_score: 0.1916 - loss: 0.2633 - val_f1_score: 0.1779 - val_loss: 0.3019\n",
      "Epoch 22/50\n",
      "\u001b[1m164/164\u001b[0m \u001b[32m━━━━━━━━━━━━━━━━━━━━\u001b[0m\u001b[37m\u001b[0m \u001b[1m1s\u001b[0m 6ms/step - f1_score: 0.1970 - loss: 0.2602 - val_f1_score: 0.1779 - val_loss: 0.3052\n",
      "Epoch 23/50\n",
      "\u001b[1m164/164\u001b[0m \u001b[32m━━━━━━━━━━━━━━━━━━━━\u001b[0m\u001b[37m\u001b[0m \u001b[1m1s\u001b[0m 7ms/step - f1_score: 0.2017 - loss: 0.2604 - val_f1_score: 0.1779 - val_loss: 0.3105\n",
      "Epoch 24/50\n",
      "\u001b[1m164/164\u001b[0m \u001b[32m━━━━━━━━━━━━━━━━━━━━\u001b[0m\u001b[37m\u001b[0m \u001b[1m1s\u001b[0m 6ms/step - f1_score: 0.1890 - loss: 0.2534 - val_f1_score: 0.1779 - val_loss: 0.2964\n",
      "Epoch 25/50\n",
      "\u001b[1m164/164\u001b[0m \u001b[32m━━━━━━━━━━━━━━━━━━━━\u001b[0m\u001b[37m\u001b[0m \u001b[1m1s\u001b[0m 6ms/step - f1_score: 0.1940 - loss: 0.2619 - val_f1_score: 0.1779 - val_loss: 0.3132\n",
      "Epoch 26/50\n",
      "\u001b[1m164/164\u001b[0m \u001b[32m━━━━━━━━━━━━━━━━━━━━\u001b[0m\u001b[37m\u001b[0m \u001b[1m1s\u001b[0m 7ms/step - f1_score: 0.2022 - loss: 0.2617 - val_f1_score: 0.1779 - val_loss: 0.3296\n",
      "Epoch 27/50\n",
      "\u001b[1m164/164\u001b[0m \u001b[32m━━━━━━━━━━━━━━━━━━━━\u001b[0m\u001b[37m\u001b[0m \u001b[1m1s\u001b[0m 7ms/step - f1_score: 0.1946 - loss: 0.2452 - val_f1_score: 0.1779 - val_loss: 0.3084\n",
      "Epoch 28/50\n",
      "\u001b[1m164/164\u001b[0m \u001b[32m━━━━━━━━━━━━━━━━━━━━\u001b[0m\u001b[37m\u001b[0m \u001b[1m1s\u001b[0m 6ms/step - f1_score: 0.1931 - loss: 0.2458 - val_f1_score: 0.1779 - val_loss: 0.3243\n",
      "Epoch 29/50\n",
      "\u001b[1m164/164\u001b[0m \u001b[32m━━━━━━━━━━━━━━━━━━━━\u001b[0m\u001b[37m\u001b[0m \u001b[1m1s\u001b[0m 7ms/step - f1_score: 0.1956 - loss: 0.2487 - val_f1_score: 0.1779 - val_loss: 0.3262\n",
      "Epoch 30/50\n",
      "\u001b[1m164/164\u001b[0m \u001b[32m━━━━━━━━━━━━━━━━━━━━\u001b[0m\u001b[37m\u001b[0m \u001b[1m1s\u001b[0m 6ms/step - f1_score: 0.1964 - loss: 0.2389 - val_f1_score: 0.1779 - val_loss: 0.3068\n",
      "Epoch 31/50\n",
      "\u001b[1m164/164\u001b[0m \u001b[32m━━━━━━━━━━━━━━━━━━━━\u001b[0m\u001b[37m\u001b[0m \u001b[1m1s\u001b[0m 5ms/step - f1_score: 0.1963 - loss: 0.2437 - val_f1_score: 0.1779 - val_loss: 0.3527\n",
      "Epoch 32/50\n",
      "\u001b[1m164/164\u001b[0m \u001b[32m━━━━━━━━━━━━━━━━━━━━\u001b[0m\u001b[37m\u001b[0m \u001b[1m1s\u001b[0m 5ms/step - f1_score: 0.1986 - loss: 0.2445 - val_f1_score: 0.1779 - val_loss: 0.3190\n",
      "Epoch 33/50\n",
      "\u001b[1m164/164\u001b[0m \u001b[32m━━━━━━━━━━━━━━━━━━━━\u001b[0m\u001b[37m\u001b[0m \u001b[1m1s\u001b[0m 6ms/step - f1_score: 0.2003 - loss: 0.2381 - val_f1_score: 0.1779 - val_loss: 0.3438\n",
      "Epoch 34/50\n",
      "\u001b[1m164/164\u001b[0m \u001b[32m━━━━━━━━━━━━━━━━━━━━\u001b[0m\u001b[37m\u001b[0m \u001b[1m1s\u001b[0m 5ms/step - f1_score: 0.1954 - loss: 0.2308 - val_f1_score: 0.1779 - val_loss: 0.3507\n",
      "Epoch 35/50\n",
      "\u001b[1m164/164\u001b[0m \u001b[32m━━━━━━━━━━━━━━━━━━━━\u001b[0m\u001b[37m\u001b[0m \u001b[1m1s\u001b[0m 8ms/step - f1_score: 0.1939 - loss: 0.2319 - val_f1_score: 0.1779 - val_loss: 0.3297\n",
      "Epoch 36/50\n",
      "\u001b[1m164/164\u001b[0m \u001b[32m━━━━━━━━━━━━━━━━━━━━\u001b[0m\u001b[37m\u001b[0m \u001b[1m1s\u001b[0m 6ms/step - f1_score: 0.1959 - loss: 0.2264 - val_f1_score: 0.1779 - val_loss: 0.3488\n",
      "Epoch 37/50\n",
      "\u001b[1m164/164\u001b[0m \u001b[32m━━━━━━━━━━━━━━━━━━━━\u001b[0m\u001b[37m\u001b[0m \u001b[1m1s\u001b[0m 6ms/step - f1_score: 0.1934 - loss: 0.2212 - val_f1_score: 0.1774 - val_loss: 0.3487\n",
      "Epoch 38/50\n",
      "\u001b[1m164/164\u001b[0m \u001b[32m━━━━━━━━━━━━━━━━━━━━\u001b[0m\u001b[37m\u001b[0m \u001b[1m1s\u001b[0m 7ms/step - f1_score: 0.1919 - loss: 0.2163 - val_f1_score: 0.1774 - val_loss: 0.3555\n",
      "Epoch 39/50\n",
      "\u001b[1m164/164\u001b[0m \u001b[32m━━━━━━━━━━━━━━━━━━━━\u001b[0m\u001b[37m\u001b[0m \u001b[1m1s\u001b[0m 6ms/step - f1_score: 0.1940 - loss: 0.2206 - val_f1_score: 0.1774 - val_loss: 0.3445\n",
      "Epoch 40/50\n",
      "\u001b[1m164/164\u001b[0m \u001b[32m━━━━━━━━━━━━━━━━━━━━\u001b[0m\u001b[37m\u001b[0m \u001b[1m1s\u001b[0m 8ms/step - f1_score: 0.1969 - loss: 0.2262 - val_f1_score: 0.1775 - val_loss: 0.3789\n",
      "Epoch 41/50\n",
      "\u001b[1m164/164\u001b[0m \u001b[32m━━━━━━━━━━━━━━━━━━━━\u001b[0m\u001b[37m\u001b[0m \u001b[1m1s\u001b[0m 6ms/step - f1_score: 0.1987 - loss: 0.2157 - val_f1_score: 0.1774 - val_loss: 0.3750\n",
      "Epoch 42/50\n",
      "\u001b[1m164/164\u001b[0m \u001b[32m━━━━━━━━━━━━━━━━━━━━\u001b[0m\u001b[37m\u001b[0m \u001b[1m1s\u001b[0m 6ms/step - f1_score: 0.2020 - loss: 0.2047 - val_f1_score: 0.1775 - val_loss: 0.4010\n",
      "Epoch 43/50\n",
      "\u001b[1m164/164\u001b[0m \u001b[32m━━━━━━━━━━━━━━━━━━━━\u001b[0m\u001b[37m\u001b[0m \u001b[1m1s\u001b[0m 6ms/step - f1_score: 0.1903 - loss: 0.2115 - val_f1_score: 0.1776 - val_loss: 0.4058\n",
      "Epoch 44/50\n",
      "\u001b[1m164/164\u001b[0m \u001b[32m━━━━━━━━━━━━━━━━━━━━\u001b[0m\u001b[37m\u001b[0m \u001b[1m1s\u001b[0m 6ms/step - f1_score: 0.2043 - loss: 0.2121 - val_f1_score: 0.1776 - val_loss: 0.3834\n",
      "Epoch 45/50\n",
      "\u001b[1m164/164\u001b[0m \u001b[32m━━━━━━━━━━━━━━━━━━━━\u001b[0m\u001b[37m\u001b[0m \u001b[1m1s\u001b[0m 6ms/step - f1_score: 0.1928 - loss: 0.1945 - val_f1_score: 0.1776 - val_loss: 0.3870\n",
      "Epoch 46/50\n",
      "\u001b[1m164/164\u001b[0m \u001b[32m━━━━━━━━━━━━━━━━━━━━\u001b[0m\u001b[37m\u001b[0m \u001b[1m1s\u001b[0m 6ms/step - f1_score: 0.1959 - loss: 0.2033 - val_f1_score: 0.1776 - val_loss: 0.4095\n",
      "Epoch 47/50\n",
      "\u001b[1m164/164\u001b[0m \u001b[32m━━━━━━━━━━━━━━━━━━━━\u001b[0m\u001b[37m\u001b[0m \u001b[1m1s\u001b[0m 6ms/step - f1_score: 0.2048 - loss: 0.1976 - val_f1_score: 0.1778 - val_loss: 0.4173\n",
      "Epoch 48/50\n",
      "\u001b[1m164/164\u001b[0m \u001b[32m━━━━━━━━━━━━━━━━━━━━\u001b[0m\u001b[37m\u001b[0m \u001b[1m1s\u001b[0m 6ms/step - f1_score: 0.1962 - loss: 0.1855 - val_f1_score: 0.1774 - val_loss: 0.4409\n",
      "Epoch 49/50\n",
      "\u001b[1m164/164\u001b[0m \u001b[32m━━━━━━━━━━━━━━━━━━━━\u001b[0m\u001b[37m\u001b[0m \u001b[1m1s\u001b[0m 7ms/step - f1_score: 0.1956 - loss: 0.1929 - val_f1_score: 0.1780 - val_loss: 0.4635\n",
      "Epoch 50/50\n",
      "\u001b[1m164/164\u001b[0m \u001b[32m━━━━━━━━━━━━━━━━━━━━\u001b[0m\u001b[37m\u001b[0m \u001b[1m1s\u001b[0m 5ms/step - f1_score: 0.2031 - loss: 0.1914 - val_f1_score: 0.1778 - val_loss: 0.4225\n"
     ]
    },
    {
     "data": {
      "text/plain": [
       "<keras.src.callbacks.history.History at 0x1fdc447eb50>"
      ]
     },
     "execution_count": 11,
     "metadata": {},
     "output_type": "execute_result"
    }
   ],
   "source": [
    "# get the time stamp and num of features\n",
    "time_steps = X_train.shape[1]\n",
    "num_features = X_train.shape[2]\n",
    "\n",
    "# tcn model\n",
    "model = Sequential([\n",
    "    Conv1D(filters=64, kernel_size=3, activation='relu', input_shape=(time_steps, num_features)),\n",
    "    MaxPooling1D(pool_size=2),\n",
    "    Conv1D(filters=64, kernel_size=3, activation='relu'),\n",
    "    MaxPooling1D(pool_size=2),\n",
    "    Flatten(),\n",
    "    Dense(50, activation='relu'),\n",
    "    Dense(1, activation='sigmoid')  # output layer, bi-classification\n",
    "])\n",
    "\n",
    "\n",
    "model.compile(optimizer='adam', loss='binary_crossentropy', metrics=[tf.keras.metrics.F1Score()])\n",
    "\n",
    "\n",
    "model.fit(X_train, y_train, epochs=50, batch_size=64, validation_split=0.2)"
   ]
  },
  {
   "cell_type": "code",
   "execution_count": null,
   "metadata": {},
   "outputs": [],
   "source": [
    "# # save the trained model\n",
    "# model.save('tcn_mortality.keras')"
   ]
  },
  {
   "cell_type": "code",
   "execution_count": 12,
   "metadata": {},
   "outputs": [
    {
     "name": "stdout",
     "output_type": "stream",
     "text": [
      "\u001b[1m103/103\u001b[0m \u001b[32m━━━━━━━━━━━━━━━━━━━━\u001b[0m\u001b[37m\u001b[0m \u001b[1m1s\u001b[0m 6ms/step\n",
      "AUROC: 0.6019909036776339\n",
      "Precision: 0.3452914798206278\n",
      "Recall: 0.2532894736842105\n",
      "F1 Score: 0.2922201138519924\n"
     ]
    }
   ],
   "source": [
    "# on testing set\n",
    "y_test_pred = model.predict(X_test)\n",
    "\n",
    "# classify based on probability\n",
    "y_pred_class = (y_test_pred > 0.5).astype(int)\n",
    "\n",
    "# evaluate the result\n",
    "auroc = roc_auc_score(y_test, y_pred_class)\n",
    "precision = precision_score(y_test, y_pred_class)\n",
    "recall = recall_score(y_test, y_pred_class)\n",
    "f1 = f1_score(y_test, y_pred_class)\n",
    "\n",
    "print(\"AUROC:\", auroc)\n",
    "print(\"Precision:\", precision)\n",
    "print(\"Recall:\", recall)\n",
    "print(\"F1 Score:\", f1)"
   ]
  },
  {
   "cell_type": "code",
   "execution_count": null,
   "metadata": {},
   "outputs": [
    {
     "name": "stdout",
     "output_type": "stream",
     "text": [
      "\u001b[1m511/511\u001b[0m \u001b[32m━━━━━━━━━━━━━━━━━━━━\u001b[0m\u001b[37m\u001b[0m \u001b[1m1s\u001b[0m 2ms/step\n"
     ]
    }
   ],
   "source": [
    "# # predict the whole X and output probability\n",
    "# y_pred = model.predict(X_scaled)\n",
    "\n",
    "# result= pd.DataFrame(y_pred, columns=['probs'])\n",
    "# result.to_csv('tcn_probs_of_death_traintest.csv', index=False)"
   ]
  }
 ],
 "metadata": {
  "kernelspec": {
   "display_name": "Python 3",
   "language": "python",
   "name": "python3"
  },
  "language_info": {
   "codemirror_mode": {
    "name": "ipython",
    "version": 3
   },
   "file_extension": ".py",
   "mimetype": "text/x-python",
   "name": "python",
   "nbconvert_exporter": "python",
   "pygments_lexer": "ipython3",
   "version": "3.9.19"
  }
 },
 "nbformat": 4,
 "nbformat_minor": 2
}

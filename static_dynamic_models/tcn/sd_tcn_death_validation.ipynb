{
 "cells": [
  {
   "cell_type": "code",
   "execution_count": 1,
   "metadata": {},
   "outputs": [],
   "source": [
    "import numpy as np\n",
    "import pandas as pd\n",
    "from sklearn.preprocessing import MinMaxScaler\n",
    "import tensorflow as tf"
   ]
  },
  {
   "cell_type": "code",
   "execution_count": 2,
   "metadata": {},
   "outputs": [],
   "source": [
    "# read the validation data\n",
    "val_data = pd.read_csv('validation.csv')"
   ]
  },
  {
   "cell_type": "code",
   "execution_count": 3,
   "metadata": {},
   "outputs": [],
   "source": [
    "def data_preprocessing(df):\n",
    "    # drop redundant columns\n",
    "    df = df.drop(columns=['charttime', 'hosp_admittime', 'hosp_dischtime', 'icu_intime', 'icu_outtime','los_icu',\n",
    "                          'text_embeddings','los_icu_class'])\n",
    "\n",
    "    # fill nan\n",
    "    df_full = df.groupby('id').transform(lambda x: x.fillna(x.mean()))\n",
    "    df = df_full.fillna(df_full.mean())\n",
    "    return df"
   ]
  },
  {
   "cell_type": "code",
   "execution_count": 4,
   "metadata": {},
   "outputs": [],
   "source": [
    "def split_X_y(df):\n",
    "    X = df.drop(columns=['icu_death'])\n",
    "    y = df['icu_death']\n",
    "\n",
    "    # numerical columns\n",
    "    num = df.select_dtypes(include=['float']).columns\n",
    "    X_num = X[num]\n",
    "\n",
    "    # min-max standardization\n",
    "    scaler = MinMaxScaler(feature_range=(0, 1))\n",
    "    X_num_scaled = scaler.fit_transform(X_num)\n",
    "    X_num_scaled = pd.DataFrame(X_num_scaled, columns=num, index=X_num.index)\n",
    "    X_scaled = X.copy()\n",
    "    X_scaled[num] = X_num_scaled[num]\n",
    "\n",
    "    # set time step\n",
    "    time_steps = 25\n",
    "    X_scaled = np.array([X_scaled[i:i + time_steps] for i in range(0, len(X_scaled) - time_steps + 1, time_steps)])\n",
    "    y = np.array([y[i] for i in range(time_steps - 1, len(y), time_steps)])\n",
    "\n",
    "    # change the shape of data to fit the network requirement\n",
    "    X_scaled = X_scaled.reshape((X_scaled.shape[0], X_scaled.shape[1], X_scaled.shape[2]))\n",
    "    y = y.reshape(-1, 1)\n",
    "    return X_scaled, y"
   ]
  },
  {
   "cell_type": "code",
   "execution_count": 5,
   "metadata": {},
   "outputs": [],
   "source": [
    "model = tf.keras.models.load_model('tcn_mortality.keras')"
   ]
  },
  {
   "cell_type": "code",
   "execution_count": 6,
   "metadata": {},
   "outputs": [
    {
     "name": "stdout",
     "output_type": "stream",
     "text": [
      "\u001b[1m128/128\u001b[0m \u001b[32m━━━━━━━━━━━━━━━━━━━━\u001b[0m\u001b[37m\u001b[0m \u001b[1m0s\u001b[0m 2ms/step\n"
     ]
    }
   ],
   "source": [
    "val_data = data_preprocessing(val_data)\n",
    "X_scaled, y = split_X_y(val_data)\n",
    "\n",
    "# get probability\n",
    "probs = model.predict(X_scaled)"
   ]
  },
  {
   "cell_type": "code",
   "execution_count": 7,
   "metadata": {},
   "outputs": [],
   "source": [
    "# output probablity as csv file\n",
    "result = pd.DataFrame(probs, columns=['probs_of_death'])\n",
    "result.to_csv('tcn_probs_of_death_valid.csv', index=False)"
   ]
  }
 ],
 "metadata": {
  "kernelspec": {
   "display_name": "tensorflow",
   "language": "python",
   "name": "python3"
  },
  "language_info": {
   "codemirror_mode": {
    "name": "ipython",
    "version": 3
   },
   "file_extension": ".py",
   "mimetype": "text/x-python",
   "name": "python",
   "nbconvert_exporter": "python",
   "pygments_lexer": "ipython3",
   "version": "3.9.19"
  }
 },
 "nbformat": 4,
 "nbformat_minor": 2
}

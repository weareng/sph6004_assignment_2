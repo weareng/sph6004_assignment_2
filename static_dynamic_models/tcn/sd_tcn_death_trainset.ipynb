{
 "cells": [
  {
   "cell_type": "code",
   "execution_count": 1,
   "metadata": {},
   "outputs": [],
   "source": [
    "import pandas as pd\n",
    "import numpy as np\n",
    "from sklearn.model_selection import train_test_split\n",
    "from sklearn.preprocessing import StandardScaler\n",
    "from sklearn.preprocessing import MinMaxScaler\n",
    "import tensorflow as tf\n",
    "from keras.models import Sequential\n",
    "from keras.layers import Dense, Conv1D, MaxPooling1D, Flatten\n",
    "from keras.optimizers import Adam\n",
    "from sklearn.metrics import precision_score, recall_score, f1_score"
   ]
  },
  {
   "cell_type": "markdown",
   "metadata": {},
   "source": [
    "# Data preparation"
   ]
  },
  {
   "cell_type": "code",
   "execution_count": 2,
   "metadata": {},
   "outputs": [],
   "source": [
    "data = pd.read_csv('train_test.csv')"
   ]
  },
  {
   "cell_type": "code",
   "execution_count": 3,
   "metadata": {},
   "outputs": [],
   "source": [
    "selected_cols = [col for col in data.columns if col not in ['charttime', 'hosp_admittime', 'hosp_dischtime', 'icu_intime', 'icu_outtime','los_icu','icu_death','text_embeddings','los_icu_class']]"
   ]
  },
  {
   "cell_type": "code",
   "execution_count": 4,
   "metadata": {},
   "outputs": [],
   "source": [
    "# fill the nan\n",
    "df_full = data[selected_cols].groupby('id').transform(lambda x: x.fillna(x.mean()))\n",
    "df = df_full.fillna(df_full.mean())"
   ]
  },
  {
   "cell_type": "code",
   "execution_count": 5,
   "metadata": {},
   "outputs": [],
   "source": [
    "# standardization\n",
    "scaler = StandardScaler()\n",
    "df = scaler.fit_transform(df)\n",
    "\n",
    "# split X,y\n",
    "X = df\n",
    "y = data['icu_death']\n",
    "\n",
    "# min-max\n",
    "scaler = MinMaxScaler()\n",
    "X_scaled = scaler.fit_transform(X)"
   ]
  },
  {
   "cell_type": "code",
   "execution_count": 6,
   "metadata": {},
   "outputs": [],
   "source": [
    "# set time step\n",
    "time_steps = 25\n",
    "X_scaled = np.array([X_scaled[i:i + time_steps] for i in range(0, len(X_scaled) - time_steps + 1, time_steps)])\n",
    "y = np.array([y[i] for i in range(time_steps - 1, len(y), time_steps)])\n",
    "\n",
    "X_train, X_test, y_train, y_test = train_test_split(X_scaled, y, test_size=0.2, random_state=42)\n",
    "\n",
    "# change the shape of data to fit the network requirement\n",
    "X_train = X_train.reshape((X_train.shape[0], X_train.shape[1], X_train.shape[2]))\n",
    "X_test = X_test.reshape((X_test.shape[0], X_test.shape[1], X_test.shape[2]))\n",
    "y_train = y_train.reshape(-1, 1)"
   ]
  },
  {
   "cell_type": "markdown",
   "metadata": {},
   "source": [
    "# Modeling"
   ]
  },
  {
   "cell_type": "code",
   "execution_count": 9,
   "metadata": {},
   "outputs": [
    {
     "name": "stdout",
     "output_type": "stream",
     "text": [
      "Epoch 1/50\n",
      "\u001b[1m164/164\u001b[0m \u001b[32m━━━━━━━━━━━━━━━━━━━━\u001b[0m\u001b[37m\u001b[0m \u001b[1m2s\u001b[0m 5ms/step - f1_score: 0.1977 - loss: 0.3599 - val_f1_score: 0.1779 - val_loss: 0.2994\n",
      "Epoch 2/50\n",
      "\u001b[1m164/164\u001b[0m \u001b[32m━━━━━━━━━━━━━━━━━━━━\u001b[0m\u001b[37m\u001b[0m \u001b[1m1s\u001b[0m 4ms/step - f1_score: 0.1930 - loss: 0.2997 - val_f1_score: 0.1779 - val_loss: 0.2861\n",
      "Epoch 3/50\n",
      "\u001b[1m164/164\u001b[0m \u001b[32m━━━━━━━━━━━━━━━━━━━━\u001b[0m\u001b[37m\u001b[0m \u001b[1m1s\u001b[0m 4ms/step - f1_score: 0.1890 - loss: 0.2898 - val_f1_score: 0.1779 - val_loss: 0.2816\n",
      "Epoch 4/50\n",
      "\u001b[1m164/164\u001b[0m \u001b[32m━━━━━━━━━━━━━━━━━━━━\u001b[0m\u001b[37m\u001b[0m \u001b[1m1s\u001b[0m 4ms/step - f1_score: 0.1958 - loss: 0.2859 - val_f1_score: 0.1779 - val_loss: 0.2833\n",
      "Epoch 5/50\n",
      "\u001b[1m164/164\u001b[0m \u001b[32m━━━━━━━━━━━━━━━━━━━━\u001b[0m\u001b[37m\u001b[0m \u001b[1m1s\u001b[0m 4ms/step - f1_score: 0.1988 - loss: 0.2825 - val_f1_score: 0.1779 - val_loss: 0.2800\n",
      "Epoch 6/50\n",
      "\u001b[1m164/164\u001b[0m \u001b[32m━━━━━━━━━━━━━━━━━━━━\u001b[0m\u001b[37m\u001b[0m \u001b[1m1s\u001b[0m 5ms/step - f1_score: 0.1909 - loss: 0.2762 - val_f1_score: 0.1779 - val_loss: 0.2844\n",
      "Epoch 7/50\n",
      "\u001b[1m164/164\u001b[0m \u001b[32m━━━━━━━━━━━━━━━━━━━━\u001b[0m\u001b[37m\u001b[0m \u001b[1m1s\u001b[0m 5ms/step - f1_score: 0.1878 - loss: 0.2647 - val_f1_score: 0.1779 - val_loss: 0.2784\n",
      "Epoch 8/50\n",
      "\u001b[1m164/164\u001b[0m \u001b[32m━━━━━━━━━━━━━━━━━━━━\u001b[0m\u001b[37m\u001b[0m \u001b[1m1s\u001b[0m 4ms/step - f1_score: 0.1936 - loss: 0.2700 - val_f1_score: 0.1779 - val_loss: 0.2941\n",
      "Epoch 9/50\n",
      "\u001b[1m164/164\u001b[0m \u001b[32m━━━━━━━━━━━━━━━━━━━━\u001b[0m\u001b[37m\u001b[0m \u001b[1m1s\u001b[0m 4ms/step - f1_score: 0.1849 - loss: 0.2599 - val_f1_score: 0.1779 - val_loss: 0.2976\n",
      "Epoch 10/50\n",
      "\u001b[1m164/164\u001b[0m \u001b[32m━━━━━━━━━━━━━━━━━━━━\u001b[0m\u001b[37m\u001b[0m \u001b[1m1s\u001b[0m 5ms/step - f1_score: 0.2000 - loss: 0.2764 - val_f1_score: 0.1779 - val_loss: 0.2778\n",
      "Epoch 11/50\n",
      "\u001b[1m164/164\u001b[0m \u001b[32m━━━━━━━━━━━━━━━━━━━━\u001b[0m\u001b[37m\u001b[0m \u001b[1m1s\u001b[0m 4ms/step - f1_score: 0.2007 - loss: 0.2629 - val_f1_score: 0.1779 - val_loss: 0.3279\n",
      "Epoch 12/50\n",
      "\u001b[1m164/164\u001b[0m \u001b[32m━━━━━━━━━━━━━━━━━━━━\u001b[0m\u001b[37m\u001b[0m \u001b[1m1s\u001b[0m 3ms/step - f1_score: 0.1932 - loss: 0.2723 - val_f1_score: 0.1779 - val_loss: 0.2874\n",
      "Epoch 13/50\n",
      "\u001b[1m164/164\u001b[0m \u001b[32m━━━━━━━━━━━━━━━━━━━━\u001b[0m\u001b[37m\u001b[0m \u001b[1m1s\u001b[0m 3ms/step - f1_score: 0.1907 - loss: 0.2512 - val_f1_score: 0.1779 - val_loss: 0.2969\n",
      "Epoch 14/50\n",
      "\u001b[1m164/164\u001b[0m \u001b[32m━━━━━━━━━━━━━━━━━━━━\u001b[0m\u001b[37m\u001b[0m \u001b[1m1s\u001b[0m 3ms/step - f1_score: 0.1963 - loss: 0.2507 - val_f1_score: 0.1779 - val_loss: 0.3030\n",
      "Epoch 15/50\n",
      "\u001b[1m164/164\u001b[0m \u001b[32m━━━━━━━━━━━━━━━━━━━━\u001b[0m\u001b[37m\u001b[0m \u001b[1m1s\u001b[0m 4ms/step - f1_score: 0.1954 - loss: 0.2480 - val_f1_score: 0.1779 - val_loss: 0.3042\n",
      "Epoch 16/50\n",
      "\u001b[1m164/164\u001b[0m \u001b[32m━━━━━━━━━━━━━━━━━━━━\u001b[0m\u001b[37m\u001b[0m \u001b[1m1s\u001b[0m 4ms/step - f1_score: 0.1992 - loss: 0.2488 - val_f1_score: 0.1779 - val_loss: 0.2950\n",
      "Epoch 17/50\n",
      "\u001b[1m164/164\u001b[0m \u001b[32m━━━━━━━━━━━━━━━━━━━━\u001b[0m\u001b[37m\u001b[0m \u001b[1m1s\u001b[0m 4ms/step - f1_score: 0.1868 - loss: 0.2304 - val_f1_score: 0.1779 - val_loss: 0.3125\n",
      "Epoch 18/50\n",
      "\u001b[1m164/164\u001b[0m \u001b[32m━━━━━━━━━━━━━━━━━━━━\u001b[0m\u001b[37m\u001b[0m \u001b[1m1s\u001b[0m 4ms/step - f1_score: 0.1957 - loss: 0.2374 - val_f1_score: 0.1779 - val_loss: 0.2982\n",
      "Epoch 19/50\n",
      "\u001b[1m164/164\u001b[0m \u001b[32m━━━━━━━━━━━━━━━━━━━━\u001b[0m\u001b[37m\u001b[0m \u001b[1m1s\u001b[0m 4ms/step - f1_score: 0.1891 - loss: 0.2329 - val_f1_score: 0.1779 - val_loss: 0.3160\n",
      "Epoch 20/50\n",
      "\u001b[1m164/164\u001b[0m \u001b[32m━━━━━━━━━━━━━━━━━━━━\u001b[0m\u001b[37m\u001b[0m \u001b[1m1s\u001b[0m 4ms/step - f1_score: 0.2050 - loss: 0.2395 - val_f1_score: 0.1779 - val_loss: 0.3184\n",
      "Epoch 21/50\n",
      "\u001b[1m164/164\u001b[0m \u001b[32m━━━━━━━━━━━━━━━━━━━━\u001b[0m\u001b[37m\u001b[0m \u001b[1m1s\u001b[0m 4ms/step - f1_score: 0.1927 - loss: 0.2274 - val_f1_score: 0.1779 - val_loss: 0.3084\n",
      "Epoch 22/50\n",
      "\u001b[1m164/164\u001b[0m \u001b[32m━━━━━━━━━━━━━━━━━━━━\u001b[0m\u001b[37m\u001b[0m \u001b[1m1s\u001b[0m 3ms/step - f1_score: 0.1934 - loss: 0.2206 - val_f1_score: 0.1779 - val_loss: 0.3440\n",
      "Epoch 23/50\n",
      "\u001b[1m164/164\u001b[0m \u001b[32m━━━━━━━━━━━━━━━━━━━━\u001b[0m\u001b[37m\u001b[0m \u001b[1m1s\u001b[0m 4ms/step - f1_score: 0.1900 - loss: 0.2237 - val_f1_score: 0.1781 - val_loss: 0.3389\n",
      "Epoch 24/50\n",
      "\u001b[1m164/164\u001b[0m \u001b[32m━━━━━━━━━━━━━━━━━━━━\u001b[0m\u001b[37m\u001b[0m \u001b[1m1s\u001b[0m 3ms/step - f1_score: 0.1999 - loss: 0.2144 - val_f1_score: 0.1781 - val_loss: 0.3363\n",
      "Epoch 25/50\n",
      "\u001b[1m164/164\u001b[0m \u001b[32m━━━━━━━━━━━━━━━━━━━━\u001b[0m\u001b[37m\u001b[0m \u001b[1m1s\u001b[0m 3ms/step - f1_score: 0.1871 - loss: 0.2013 - val_f1_score: 0.1781 - val_loss: 0.3411\n",
      "Epoch 26/50\n",
      "\u001b[1m164/164\u001b[0m \u001b[32m━━━━━━━━━━━━━━━━━━━━\u001b[0m\u001b[37m\u001b[0m \u001b[1m1s\u001b[0m 4ms/step - f1_score: 0.1921 - loss: 0.2063 - val_f1_score: 0.1783 - val_loss: 0.3629\n",
      "Epoch 27/50\n",
      "\u001b[1m164/164\u001b[0m \u001b[32m━━━━━━━━━━━━━━━━━━━━\u001b[0m\u001b[37m\u001b[0m \u001b[1m1s\u001b[0m 4ms/step - f1_score: 0.1942 - loss: 0.1927 - val_f1_score: 0.1782 - val_loss: 0.3535\n",
      "Epoch 28/50\n",
      "\u001b[1m164/164\u001b[0m \u001b[32m━━━━━━━━━━━━━━━━━━━━\u001b[0m\u001b[37m\u001b[0m \u001b[1m1s\u001b[0m 4ms/step - f1_score: 0.1862 - loss: 0.1949 - val_f1_score: 0.1783 - val_loss: 0.3640\n",
      "Epoch 29/50\n",
      "\u001b[1m164/164\u001b[0m \u001b[32m━━━━━━━━━━━━━━━━━━━━\u001b[0m\u001b[37m\u001b[0m \u001b[1m1s\u001b[0m 3ms/step - f1_score: 0.1995 - loss: 0.1838 - val_f1_score: 0.1789 - val_loss: 0.3774\n",
      "Epoch 30/50\n",
      "\u001b[1m164/164\u001b[0m \u001b[32m━━━━━━━━━━━━━━━━━━━━\u001b[0m\u001b[37m\u001b[0m \u001b[1m1s\u001b[0m 4ms/step - f1_score: 0.1992 - loss: 0.1900 - val_f1_score: 0.1783 - val_loss: 0.3879\n",
      "Epoch 31/50\n",
      "\u001b[1m164/164\u001b[0m \u001b[32m━━━━━━━━━━━━━━━━━━━━\u001b[0m\u001b[37m\u001b[0m \u001b[1m1s\u001b[0m 4ms/step - f1_score: 0.2029 - loss: 0.1815 - val_f1_score: 0.1791 - val_loss: 0.4160\n",
      "Epoch 32/50\n",
      "\u001b[1m164/164\u001b[0m \u001b[32m━━━━━━━━━━━━━━━━━━━━\u001b[0m\u001b[37m\u001b[0m \u001b[1m1s\u001b[0m 4ms/step - f1_score: 0.1912 - loss: 0.1760 - val_f1_score: 0.1785 - val_loss: 0.3887\n",
      "Epoch 33/50\n",
      "\u001b[1m164/164\u001b[0m \u001b[32m━━━━━━━━━━━━━━━━━━━━\u001b[0m\u001b[37m\u001b[0m \u001b[1m1s\u001b[0m 3ms/step - f1_score: 0.1968 - loss: 0.1695 - val_f1_score: 0.1791 - val_loss: 0.4166\n",
      "Epoch 34/50\n",
      "\u001b[1m164/164\u001b[0m \u001b[32m━━━━━━━━━━━━━━━━━━━━\u001b[0m\u001b[37m\u001b[0m \u001b[1m1s\u001b[0m 4ms/step - f1_score: 0.2006 - loss: 0.1658 - val_f1_score: 0.1794 - val_loss: 0.4208\n",
      "Epoch 35/50\n",
      "\u001b[1m164/164\u001b[0m \u001b[32m━━━━━━━━━━━━━━━━━━━━\u001b[0m\u001b[37m\u001b[0m \u001b[1m1s\u001b[0m 3ms/step - f1_score: 0.1937 - loss: 0.1548 - val_f1_score: 0.1794 - val_loss: 0.4364\n",
      "Epoch 36/50\n",
      "\u001b[1m164/164\u001b[0m \u001b[32m━━━━━━━━━━━━━━━━━━━━\u001b[0m\u001b[37m\u001b[0m \u001b[1m1s\u001b[0m 4ms/step - f1_score: 0.1936 - loss: 0.1486 - val_f1_score: 0.1791 - val_loss: 0.4252\n",
      "Epoch 37/50\n",
      "\u001b[1m164/164\u001b[0m \u001b[32m━━━━━━━━━━━━━━━━━━━━\u001b[0m\u001b[37m\u001b[0m \u001b[1m1s\u001b[0m 4ms/step - f1_score: 0.1958 - loss: 0.1545 - val_f1_score: 0.1803 - val_loss: 0.4796\n",
      "Epoch 38/50\n",
      "\u001b[1m164/164\u001b[0m \u001b[32m━━━━━━━━━━━━━━━━━━━━\u001b[0m\u001b[37m\u001b[0m \u001b[1m1s\u001b[0m 4ms/step - f1_score: 0.1986 - loss: 0.1583 - val_f1_score: 0.1804 - val_loss: 0.4737\n",
      "Epoch 39/50\n",
      "\u001b[1m164/164\u001b[0m \u001b[32m━━━━━━━━━━━━━━━━━━━━\u001b[0m\u001b[37m\u001b[0m \u001b[1m1s\u001b[0m 4ms/step - f1_score: 0.2014 - loss: 0.1431 - val_f1_score: 0.1804 - val_loss: 0.5258\n",
      "Epoch 40/50\n",
      "\u001b[1m164/164\u001b[0m \u001b[32m━━━━━━━━━━━━━━━━━━━━\u001b[0m\u001b[37m\u001b[0m \u001b[1m1s\u001b[0m 4ms/step - f1_score: 0.2142 - loss: 0.1526 - val_f1_score: 0.1816 - val_loss: 0.5235\n",
      "Epoch 41/50\n",
      "\u001b[1m164/164\u001b[0m \u001b[32m━━━━━━━━━━━━━━━━━━━━\u001b[0m\u001b[37m\u001b[0m \u001b[1m1s\u001b[0m 4ms/step - f1_score: 0.2052 - loss: 0.1404 - val_f1_score: 0.1810 - val_loss: 0.5005\n",
      "Epoch 42/50\n",
      "\u001b[1m164/164\u001b[0m \u001b[32m━━━━━━━━━━━━━━━━━━━━\u001b[0m\u001b[37m\u001b[0m \u001b[1m1s\u001b[0m 4ms/step - f1_score: 0.2016 - loss: 0.1235 - val_f1_score: 0.1817 - val_loss: 0.5608\n",
      "Epoch 43/50\n",
      "\u001b[1m164/164\u001b[0m \u001b[32m━━━━━━━━━━━━━━━━━━━━\u001b[0m\u001b[37m\u001b[0m \u001b[1m1s\u001b[0m 4ms/step - f1_score: 0.2096 - loss: 0.1249 - val_f1_score: 0.1803 - val_loss: 0.5008\n",
      "Epoch 44/50\n",
      "\u001b[1m164/164\u001b[0m \u001b[32m━━━━━━━━━━━━━━━━━━━━\u001b[0m\u001b[37m\u001b[0m \u001b[1m1s\u001b[0m 4ms/step - f1_score: 0.2050 - loss: 0.1280 - val_f1_score: 0.1815 - val_loss: 0.5666\n",
      "Epoch 45/50\n",
      "\u001b[1m164/164\u001b[0m \u001b[32m━━━━━━━━━━━━━━━━━━━━\u001b[0m\u001b[37m\u001b[0m \u001b[1m1s\u001b[0m 4ms/step - f1_score: 0.2012 - loss: 0.1047 - val_f1_score: 0.1827 - val_loss: 0.5595\n",
      "Epoch 46/50\n",
      "\u001b[1m164/164\u001b[0m \u001b[32m━━━━━━━━━━━━━━━━━━━━\u001b[0m\u001b[37m\u001b[0m \u001b[1m1s\u001b[0m 4ms/step - f1_score: 0.2062 - loss: 0.1114 - val_f1_score: 0.1838 - val_loss: 0.6568\n",
      "Epoch 47/50\n",
      "\u001b[1m164/164\u001b[0m \u001b[32m━━━━━━━━━━━━━━━━━━━━\u001b[0m\u001b[37m\u001b[0m \u001b[1m1s\u001b[0m 4ms/step - f1_score: 0.2065 - loss: 0.1011 - val_f1_score: 0.1885 - val_loss: 0.7066\n",
      "Epoch 48/50\n",
      "\u001b[1m164/164\u001b[0m \u001b[32m━━━━━━━━━━━━━━━━━━━━\u001b[0m\u001b[37m\u001b[0m \u001b[1m1s\u001b[0m 4ms/step - f1_score: 0.2063 - loss: 0.1004 - val_f1_score: 0.1843 - val_loss: 0.6337\n",
      "Epoch 49/50\n",
      "\u001b[1m164/164\u001b[0m \u001b[32m━━━━━━━━━━━━━━━━━━━━\u001b[0m\u001b[37m\u001b[0m \u001b[1m1s\u001b[0m 4ms/step - f1_score: 0.2102 - loss: 0.1050 - val_f1_score: 0.1867 - val_loss: 0.6611\n",
      "Epoch 50/50\n",
      "\u001b[1m164/164\u001b[0m \u001b[32m━━━━━━━━━━━━━━━━━━━━\u001b[0m\u001b[37m\u001b[0m \u001b[1m1s\u001b[0m 4ms/step - f1_score: 0.2187 - loss: 0.0955 - val_f1_score: 0.1853 - val_loss: 0.6927\n"
     ]
    },
    {
     "data": {
      "text/plain": [
       "<keras.src.callbacks.history.History at 0x17c05bc72b0>"
      ]
     },
     "execution_count": 9,
     "metadata": {},
     "output_type": "execute_result"
    }
   ],
   "source": [
    "# get the time stamp and num of features\n",
    "time_steps = X_train.shape[1]\n",
    "num_features = X_train.shape[2]\n",
    "\n",
    "# tcn model\n",
    "model = Sequential([\n",
    "    Conv1D(filters=64, kernel_size=3, activation='relu', input_shape=(time_steps, num_features)),\n",
    "    MaxPooling1D(pool_size=2),\n",
    "    Conv1D(filters=64, kernel_size=3, activation='relu'),\n",
    "    MaxPooling1D(pool_size=2),\n",
    "    Flatten(),\n",
    "    Dense(50, activation='relu'),\n",
    "    Dense(1, activation='sigmoid')  # output layer, bi-classification\n",
    "])\n",
    "\n",
    "\n",
    "model.compile(optimizer='adam', loss='binary_crossentropy', metrics=[tf.keras.metrics.F1Score()])\n",
    "\n",
    "\n",
    "model.fit(X_train, y_train, epochs=50, batch_size=64, validation_split=0.2)"
   ]
  },
  {
   "cell_type": "code",
   "execution_count": 10,
   "metadata": {},
   "outputs": [],
   "source": [
    "# save the trained model\n",
    "model.save('sd_tcn_death.keras')"
   ]
  },
  {
   "cell_type": "code",
   "execution_count": 11,
   "metadata": {},
   "outputs": [
    {
     "name": "stdout",
     "output_type": "stream",
     "text": [
      "\u001b[1m103/103\u001b[0m \u001b[32m━━━━━━━━━━━━━━━━━━━━\u001b[0m\u001b[37m\u001b[0m \u001b[1m0s\u001b[0m 2ms/step\n",
      "Precision: 0.2862595419847328\n",
      "Recall: 0.24671052631578946\n",
      "F1 Score: 0.26501766784452296\n"
     ]
    }
   ],
   "source": [
    "# on testing set\n",
    "y_test_pred = model.predict(X_test)\n",
    "\n",
    "# classify based on probability\n",
    "y_pred_class = (y_test_pred > 0.5).astype(int)\n",
    "\n",
    "# evaluate the result\n",
    "precision = precision_score(y_test, y_pred_class)\n",
    "recall = recall_score(y_test, y_pred_class)\n",
    "f1 = f1_score(y_test, y_pred_class)\n",
    "\n",
    "print(\"Precision:\", precision)\n",
    "print(\"Recall:\", recall)\n",
    "print(\"F1 Score:\", f1)"
   ]
  },
  {
   "cell_type": "code",
   "execution_count": 12,
   "metadata": {},
   "outputs": [
    {
     "name": "stdout",
     "output_type": "stream",
     "text": [
      "\u001b[1m511/511\u001b[0m \u001b[32m━━━━━━━━━━━━━━━━━━━━\u001b[0m\u001b[37m\u001b[0m \u001b[1m1s\u001b[0m 2ms/step\n"
     ]
    }
   ],
   "source": [
    "# predict the whole X and output probability\n",
    "y_pred = model.predict(X_scaled)\n",
    "\n",
    "result= pd.DataFrame(y_pred, columns=['probs'])\n",
    "result.to_csv('tcn_probs_of_death_traintest.csv', index=False)"
   ]
  }
 ],
 "metadata": {
  "kernelspec": {
   "display_name": "Python 3",
   "language": "python",
   "name": "python3"
  },
  "language_info": {
   "codemirror_mode": {
    "name": "ipython",
    "version": 3
   },
   "file_extension": ".py",
   "mimetype": "text/x-python",
   "name": "python",
   "nbconvert_exporter": "python",
   "pygments_lexer": "ipython3",
   "version": "3.9.19"
  }
 },
 "nbformat": 4,
 "nbformat_minor": 2
}

{
 "cells": [
  {
   "cell_type": "code",
   "execution_count": 1,
   "metadata": {},
   "outputs": [],
   "source": [
    "import numpy as np\n",
    "import pandas as pd\n",
    "from sklearn.preprocessing import StandardScaler\n",
    "from sklearn.preprocessing import MinMaxScaler\n",
    "import tensorflow as tf\n",
    "from sklearn.metrics import precision_score, recall_score, f1_score"
   ]
  },
  {
   "cell_type": "code",
   "execution_count": 2,
   "metadata": {},
   "outputs": [],
   "source": [
    "# read the validation data\n",
    "val_data = pd.read_csv('validation.csv')"
   ]
  },
  {
   "cell_type": "code",
   "execution_count": 3,
   "metadata": {},
   "outputs": [],
   "source": [
    "# import the mortality prediction from Wen Rui's model\n",
    "mortality = pd.read_csv('Validation_death_combined_3.csv')"
   ]
  },
  {
   "cell_type": "code",
   "execution_count": 4,
   "metadata": {},
   "outputs": [],
   "source": [
    "# To input the predicted death status as feature\n",
    "mortality['id'] = val_data['id'].unique()\n",
    "val_data = pd.merge(val_data, mortality, on='id', how='right').drop(columns=['icu_death', 'Unnamed: 0', 'Survive_prob', 'Death_prob'])\n",
    "val_data = val_data.rename(columns={'death': 'icu_death'})"
   ]
  },
  {
   "cell_type": "code",
   "execution_count": 5,
   "metadata": {},
   "outputs": [],
   "source": [
    "def data_preprocessing(df):\n",
    "    # change class into 0-1 format\n",
    "    df['los_icu_class'] = df['los_icu_class'].apply(lambda x: 0 if x == 'less than 3 days' else 1)\n",
    "\n",
    "    # drop redundant columns\n",
    "    df = df.drop(columns=['charttime', 'hosp_admittime', 'hosp_dischtime', 'icu_intime', 'icu_outtime','los_icu','text_embeddings'])\n",
    "\n",
    "    # fill nan\n",
    "    df_full = df.groupby('id').transform(lambda x: x.fillna(x.mean()))\n",
    "    df = df_full.fillna(df_full.mean())\n",
    "    return df"
   ]
  },
  {
   "cell_type": "code",
   "execution_count": 6,
   "metadata": {},
   "outputs": [],
   "source": [
    "def split_X_y(df):\n",
    "    X = df.drop(columns=['los_icu_class'])\n",
    "    y = df['los_icu_class']\n",
    "    \n",
    "    scaler = MinMaxScaler(feature_range=(0, 1))\n",
    "    X_scaled = scaler.fit_transform(X)\n",
    "\n",
    "    time_steps = 25\n",
    "    X_scaled = np.array([X_scaled[i:i + time_steps] for i in range(0, len(X_scaled), time_steps)])\n",
    "    y = np.array([y[i] for i in range(time_steps - 1, len(y), time_steps)])\n",
    "\n",
    "    # change the shape of data to fit the network requirement\n",
    "    X_scaled = X_scaled.reshape((X_scaled.shape[0], X_scaled.shape[1], X_scaled.shape[2]))\n",
    "    y = y.reshape(-1, 1)\n",
    "    return X_scaled, y"
   ]
  },
  {
   "cell_type": "code",
   "execution_count": 7,
   "metadata": {},
   "outputs": [],
   "source": [
    "model = tf.keras.models.load_model('sd_tcn_los.keras')"
   ]
  },
  {
   "cell_type": "code",
   "execution_count": 8,
   "metadata": {},
   "outputs": [
    {
     "name": "stdout",
     "output_type": "stream",
     "text": [
      "\u001b[1m128/128\u001b[0m \u001b[32m━━━━━━━━━━━━━━━━━━━━\u001b[0m\u001b[37m\u001b[0m \u001b[1m0s\u001b[0m 2ms/step\n"
     ]
    }
   ],
   "source": [
    "val_data = data_preprocessing(val_data)\n",
    "X_scaled, y = split_X_y(val_data)\n",
    "\n",
    "# get probability\n",
    "probs = model.predict(X_scaled)"
   ]
  },
  {
   "cell_type": "code",
   "execution_count": 9,
   "metadata": {},
   "outputs": [],
   "source": [
    "# output probablity as csv file\n",
    "result = pd.DataFrame(probs, columns=['probs_of_los'])\n",
    "result.to_csv('lstm_probs_of_los_valid.csv', index=False)"
   ]
  },
  {
   "cell_type": "code",
   "execution_count": 10,
   "metadata": {},
   "outputs": [
    {
     "name": "stdout",
     "output_type": "stream",
     "text": [
      "\u001b[1m128/128\u001b[0m \u001b[32m━━━━━━━━━━━━━━━━━━━━\u001b[0m\u001b[37m\u001b[0m \u001b[1m0s\u001b[0m 2ms/step\n",
      "Precision: 0.48782911077993046\n",
      "Recall: 0.4939637826961771\n",
      "F1 Score: 0.49087728067983005\n"
     ]
    }
   ],
   "source": [
    "# evaluate the result\n",
    "y_pred = model.predict(X_scaled)\n",
    "\n",
    "# classify based on probability\n",
    "y_pred_class = (y_pred > 0.5).astype(int)\n",
    "\n",
    "# evaluate the result\n",
    "precision = precision_score(y, y_pred_class)\n",
    "recall = recall_score(y, y_pred_class)\n",
    "f1 = f1_score(y, y_pred_class)\n",
    "\n",
    "print(\"Precision:\", precision)\n",
    "print(\"Recall:\", recall)\n",
    "print(\"F1 Score:\", f1)"
   ]
  }
 ],
 "metadata": {
  "kernelspec": {
   "display_name": "tensorflow",
   "language": "python",
   "name": "python3"
  },
  "language_info": {
   "codemirror_mode": {
    "name": "ipython",
    "version": 3
   },
   "file_extension": ".py",
   "mimetype": "text/x-python",
   "name": "python",
   "nbconvert_exporter": "python",
   "pygments_lexer": "ipython3",
   "version": "3.9.19"
  }
 },
 "nbformat": 4,
 "nbformat_minor": 2
}

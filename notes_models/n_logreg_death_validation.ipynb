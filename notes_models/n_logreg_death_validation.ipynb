{
 "cells": [
  {
   "cell_type": "code",
   "execution_count": 1,
   "metadata": {
    "executionInfo": {
     "elapsed": 6549,
     "status": "ok",
     "timestamp": 1712897109990,
     "user": {
      "displayName": "TAN SHIHJEN",
      "userId": "10304684316158688032"
     },
     "user_tz": -480
    },
    "id": "tF5vCoz6CYK2"
   },
   "outputs": [],
   "source": [
    "import pandas as pd\n",
    "import numpy as np\n",
    "import matplotlib.pyplot as plt\n",
    "import seaborn as sns\n",
    "import torch"
   ]
  },
  {
   "cell_type": "code",
   "execution_count": 2,
   "metadata": {},
   "outputs": [],
   "source": [
    "# import the train_test.csv\n",
    "df = pd.read_csv('../data/train_test.csv')"
   ]
  },
  {
   "cell_type": "code",
   "execution_count": 3,
   "metadata": {},
   "outputs": [
    {
     "name": "stdout",
     "output_type": "stream",
     "text": [
      "Dimension:  (16322, 2)\n"
     ]
    }
   ],
   "source": [
    "# get the list of the ID from the train_test.csv (also having problem to drop duplicates)\n",
    "subset = df[['id','los_icu_class']].copy()\n",
    "subset.drop_duplicates(inplace=True)\n",
    "\n",
    "print('Dimension: ', subset.shape)"
   ]
  },
  {
   "cell_type": "code",
   "execution_count": 4,
   "metadata": {
    "colab": {
     "base_uri": "https://localhost:8080/",
     "height": 206
    },
    "executionInfo": {
     "elapsed": 10982,
     "status": "ok",
     "timestamp": 1712897374096,
     "user": {
      "displayName": "TAN SHIHJEN",
      "userId": "10304684316158688032"
     },
     "user_tz": -480
    },
    "id": "xp97eGgyCgc3",
    "outputId": "58abf7ff-1107-4f42-a0e8-face3374388e"
   },
   "outputs": [
    {
     "data": {
      "text/html": [
       "<div>\n",
       "<style scoped>\n",
       "    .dataframe tbody tr th:only-of-type {\n",
       "        vertical-align: middle;\n",
       "    }\n",
       "\n",
       "    .dataframe tbody tr th {\n",
       "        vertical-align: top;\n",
       "    }\n",
       "\n",
       "    .dataframe thead th {\n",
       "        text-align: right;\n",
       "    }\n",
       "</style>\n",
       "<table border=\"1\" class=\"dataframe\">\n",
       "  <thead>\n",
       "    <tr style=\"text-align: right;\">\n",
       "      <th></th>\n",
       "      <th>id</th>\n",
       "      <th>text</th>\n",
       "      <th>los_icu</th>\n",
       "      <th>icu_death</th>\n",
       "      <th>text_embeddings</th>\n",
       "    </tr>\n",
       "  </thead>\n",
       "  <tbody>\n",
       "    <tr>\n",
       "      <th>0</th>\n",
       "      <td>20001305</td>\n",
       "      <td>INDICATION:  ___ with copd in resp distress in...</td>\n",
       "      <td>2.78</td>\n",
       "      <td>1</td>\n",
       "      <td>[[ 4.95544821e-02 -3.71760167e-02 -1.27426326e...</td>\n",
       "    </tr>\n",
       "    <tr>\n",
       "      <th>1</th>\n",
       "      <td>20001361</td>\n",
       "      <td>CHEST X-RAY DATED ___.\\n\\nCOMPARISON:  None.\\n...</td>\n",
       "      <td>6.05</td>\n",
       "      <td>0</td>\n",
       "      <td>[[ 7.76797682e-02 -3.10484290e-01 -2.07543001e...</td>\n",
       "    </tr>\n",
       "    <tr>\n",
       "      <th>2</th>\n",
       "      <td>20001770</td>\n",
       "      <td>EXAMINATION:  LIVER OR GALLBLADDER US (SINGLE ...</td>\n",
       "      <td>2.87</td>\n",
       "      <td>0</td>\n",
       "      <td>[[ 1.32888228e-01 -1.91068441e-01 -2.99163219e...</td>\n",
       "    </tr>\n",
       "    <tr>\n",
       "      <th>3</th>\n",
       "      <td>20002506</td>\n",
       "      <td>EXAMINATION:  CTA HEAD AND CTA NECK Q16 CT NEC...</td>\n",
       "      <td>6.56</td>\n",
       "      <td>0</td>\n",
       "      <td>[[ 4.52079531e-03 -2.32567102e-01  2.54237894e...</td>\n",
       "    </tr>\n",
       "    <tr>\n",
       "      <th>4</th>\n",
       "      <td>20003425</td>\n",
       "      <td>ADDENDUM  Findings were communicated to the EN...</td>\n",
       "      <td>4.00</td>\n",
       "      <td>0</td>\n",
       "      <td>[[ 1.22243397e-01 -2.15054199e-01 -6.55379891e...</td>\n",
       "    </tr>\n",
       "  </tbody>\n",
       "</table>\n",
       "</div>"
      ],
      "text/plain": [
       "         id                                               text  los_icu  \\\n",
       "0  20001305  INDICATION:  ___ with copd in resp distress in...     2.78   \n",
       "1  20001361  CHEST X-RAY DATED ___.\\n\\nCOMPARISON:  None.\\n...     6.05   \n",
       "2  20001770  EXAMINATION:  LIVER OR GALLBLADDER US (SINGLE ...     2.87   \n",
       "3  20002506  EXAMINATION:  CTA HEAD AND CTA NECK Q16 CT NEC...     6.56   \n",
       "4  20003425  ADDENDUM  Findings were communicated to the EN...     4.00   \n",
       "\n",
       "   icu_death                                    text_embeddings  \n",
       "0          1  [[ 4.95544821e-02 -3.71760167e-02 -1.27426326e...  \n",
       "1          0  [[ 7.76797682e-02 -3.10484290e-01 -2.07543001e...  \n",
       "2          0  [[ 1.32888228e-01 -1.91068441e-01 -2.99163219e...  \n",
       "3          0  [[ 4.52079531e-03 -2.32567102e-01  2.54237894e...  \n",
       "4          0  [[ 1.22243397e-01 -2.15054199e-01 -6.55379891e...  "
      ]
     },
     "execution_count": 4,
     "metadata": {},
     "output_type": "execute_result"
    }
   ],
   "source": [
    "# import the notes_embedded.csv\n",
    "notes = pd.read_csv('../data/notes_embedded.csv')\n",
    "notes.head()"
   ]
  },
  {
   "cell_type": "code",
   "execution_count": 5,
   "metadata": {
    "colab": {
     "base_uri": "https://localhost:8080/",
     "height": 224
    },
    "executionInfo": {
     "elapsed": 297,
     "status": "ok",
     "timestamp": 1712897378135,
     "user": {
      "displayName": "TAN SHIHJEN",
      "userId": "10304684316158688032"
     },
     "user_tz": -480
    },
    "id": "Psw3A5H-oHRz",
    "outputId": "f6d65c73-8e77-4420-8887-54b8ae768802"
   },
   "outputs": [
    {
     "name": "stdout",
     "output_type": "stream",
     "text": [
      "Dimension of the dataset: (16322, 6)\n"
     ]
    },
    {
     "data": {
      "text/html": [
       "<div>\n",
       "<style scoped>\n",
       "    .dataframe tbody tr th:only-of-type {\n",
       "        vertical-align: middle;\n",
       "    }\n",
       "\n",
       "    .dataframe tbody tr th {\n",
       "        vertical-align: top;\n",
       "    }\n",
       "\n",
       "    .dataframe thead th {\n",
       "        text-align: right;\n",
       "    }\n",
       "</style>\n",
       "<table border=\"1\" class=\"dataframe\">\n",
       "  <thead>\n",
       "    <tr style=\"text-align: right;\">\n",
       "      <th></th>\n",
       "      <th>id</th>\n",
       "      <th>los_icu_class</th>\n",
       "      <th>text</th>\n",
       "      <th>los_icu</th>\n",
       "      <th>icu_death</th>\n",
       "      <th>text_embeddings</th>\n",
       "    </tr>\n",
       "  </thead>\n",
       "  <tbody>\n",
       "    <tr>\n",
       "      <th>0</th>\n",
       "      <td>20001305</td>\n",
       "      <td>less than 3 days</td>\n",
       "      <td>INDICATION:  ___ with copd in resp distress in...</td>\n",
       "      <td>2.78</td>\n",
       "      <td>1</td>\n",
       "      <td>[[ 4.95544821e-02 -3.71760167e-02 -1.27426326e...</td>\n",
       "    </tr>\n",
       "    <tr>\n",
       "      <th>1</th>\n",
       "      <td>20001361</td>\n",
       "      <td>greater than or equal to 3 days</td>\n",
       "      <td>CHEST X-RAY DATED ___.\\n\\nCOMPARISON:  None.\\n...</td>\n",
       "      <td>6.05</td>\n",
       "      <td>0</td>\n",
       "      <td>[[ 7.76797682e-02 -3.10484290e-01 -2.07543001e...</td>\n",
       "    </tr>\n",
       "    <tr>\n",
       "      <th>2</th>\n",
       "      <td>20001770</td>\n",
       "      <td>less than 3 days</td>\n",
       "      <td>EXAMINATION:  LIVER OR GALLBLADDER US (SINGLE ...</td>\n",
       "      <td>2.87</td>\n",
       "      <td>0</td>\n",
       "      <td>[[ 1.32888228e-01 -1.91068441e-01 -2.99163219e...</td>\n",
       "    </tr>\n",
       "    <tr>\n",
       "      <th>3</th>\n",
       "      <td>20002506</td>\n",
       "      <td>greater than or equal to 3 days</td>\n",
       "      <td>EXAMINATION:  CTA HEAD AND CTA NECK Q16 CT NEC...</td>\n",
       "      <td>6.56</td>\n",
       "      <td>0</td>\n",
       "      <td>[[ 4.52079531e-03 -2.32567102e-01  2.54237894e...</td>\n",
       "    </tr>\n",
       "    <tr>\n",
       "      <th>4</th>\n",
       "      <td>20003491</td>\n",
       "      <td>less than 3 days</td>\n",
       "      <td>EXAMINATION:  Chest radiograph\\n\\nINDICATION: ...</td>\n",
       "      <td>2.54</td>\n",
       "      <td>0</td>\n",
       "      <td>[[ 7.84905553e-02 -1.51299506e-01  2.41509974e...</td>\n",
       "    </tr>\n",
       "  </tbody>\n",
       "</table>\n",
       "</div>"
      ],
      "text/plain": [
       "         id                    los_icu_class  \\\n",
       "0  20001305                 less than 3 days   \n",
       "1  20001361  greater than or equal to 3 days   \n",
       "2  20001770                 less than 3 days   \n",
       "3  20002506  greater than or equal to 3 days   \n",
       "4  20003491                 less than 3 days   \n",
       "\n",
       "                                                text  los_icu  icu_death  \\\n",
       "0  INDICATION:  ___ with copd in resp distress in...     2.78          1   \n",
       "1  CHEST X-RAY DATED ___.\\n\\nCOMPARISON:  None.\\n...     6.05          0   \n",
       "2  EXAMINATION:  LIVER OR GALLBLADDER US (SINGLE ...     2.87          0   \n",
       "3  EXAMINATION:  CTA HEAD AND CTA NECK Q16 CT NEC...     6.56          0   \n",
       "4  EXAMINATION:  Chest radiograph\\n\\nINDICATION: ...     2.54          0   \n",
       "\n",
       "                                     text_embeddings  \n",
       "0  [[ 4.95544821e-02 -3.71760167e-02 -1.27426326e...  \n",
       "1  [[ 7.76797682e-02 -3.10484290e-01 -2.07543001e...  \n",
       "2  [[ 1.32888228e-01 -1.91068441e-01 -2.99163219e...  \n",
       "3  [[ 4.52079531e-03 -2.32567102e-01  2.54237894e...  \n",
       "4  [[ 7.84905553e-02 -1.51299506e-01  2.41509974e...  "
      ]
     },
     "metadata": {},
     "output_type": "display_data"
    }
   ],
   "source": [
    "# merge the dataset based on the ID in train_test.csv\n",
    "notes_update = pd.merge(subset, notes, on='id', how='left')\n",
    "print('Dimension of the dataset:', notes_update.shape)\n",
    "display(notes_update.head())"
   ]
  },
  {
   "cell_type": "code",
   "execution_count": 6,
   "metadata": {
    "executionInfo": {
     "elapsed": 304,
     "status": "ok",
     "timestamp": 1712897427581,
     "user": {
      "displayName": "TAN SHIHJEN",
      "userId": "10304684316158688032"
     },
     "user_tz": -480
    },
    "id": "anmT5MZ4CgP5"
   },
   "outputs": [],
   "source": [
    "def convert_to_np(string):\n",
    "    ss = string.strip('[]').split()\n",
    "    return np.array(ss, dtype=float)"
   ]
  },
  {
   "cell_type": "code",
   "execution_count": 7,
   "metadata": {
    "executionInfo": {
     "elapsed": 7002,
     "status": "ok",
     "timestamp": 1712897442985,
     "user": {
      "displayName": "TAN SHIHJEN",
      "userId": "10304684316158688032"
     },
     "user_tz": -480
    },
    "id": "Cn1e5deHDS-F"
   },
   "outputs": [],
   "source": [
    "# apply the 'convert_to_np' function t convert text_embeddings into numpy array\n",
    "notes_update['text_embeddings'] = notes_update['text_embeddings'].apply(convert_to_np)"
   ]
  },
  {
   "cell_type": "markdown",
   "metadata": {
    "id": "hEHSpfh1rzpB"
   },
   "source": [
    "### LOS Prediction"
   ]
  },
  {
   "cell_type": "code",
   "execution_count": 8,
   "metadata": {
    "executionInfo": {
     "elapsed": 703,
     "status": "ok",
     "timestamp": 1712897457774,
     "user": {
      "displayName": "TAN SHIHJEN",
      "userId": "10304684316158688032"
     },
     "user_tz": -480
    },
    "id": "MalfzY_CtPES"
   },
   "outputs": [],
   "source": [
    "# helper function to plot ROC curve\n",
    "from sklearn.metrics import roc_curve, auc\n",
    "\n",
    "def plot_roc_curve(models, Xtest, ytest):\n",
    "    plt.figure(figsize=(10,8))\n",
    "    for model_name, model in models.items():\n",
    "        if hasattr(model, 'predict_proba'):\n",
    "            ypred_proba = model.predict_proba(Xtest)[:, 1]\n",
    "        elif hasattr(model, 'decision_function'):\n",
    "            ypred_proba = model.decision_function(Xtest)\n",
    "        # for neural network\n",
    "        else:\n",
    "            model.eval()\n",
    "            Xtest_tensor = torch.FloatTensor(Xtest)\n",
    "            with torch.no_grad():\n",
    "                outputs = model(Xtest_tensor)\n",
    "                ypred_proba = torch.sigmoid(outputs).cpu().numpy()  # convert output to probabilities using sigmoid function\n",
    "\n",
    "        fpr, tpr, thresholds = roc_curve(ytest, ypred_proba)\n",
    "        roc_auc = auc(fpr, tpr)\n",
    "\n",
    "        plt.plot(fpr, tpr, label=f'{model_name} (AUC = {roc_auc:.2f})')\n",
    "\n",
    "    plt.plot([0,1],[0,1], color='gray', linestyle='--')\n",
    "    plt.xlim([0.0, 1.0])\n",
    "    plt.ylim([0.0, 1.05])\n",
    "    plt.xlabel('False Positive Rate')\n",
    "    plt.ylabel('True Positive Rate')\n",
    "    plt.title('Receiver Operating Characteristic (ROC) Curve')\n",
    "    plt.legend(loc='lower right')\n",
    "    plt.grid(alpha=0.4)\n",
    "    plt.show()"
   ]
  },
  {
   "cell_type": "code",
   "execution_count": 9,
   "metadata": {
    "executionInfo": {
     "elapsed": 293,
     "status": "ok",
     "timestamp": 1712897460994,
     "user": {
      "displayName": "TAN SHIHJEN",
      "userId": "10304684316158688032"
     },
     "user_tz": -480
    },
    "id": "YyIPVt3jvtK7"
   },
   "outputs": [],
   "source": [
    "# helper function to check metrics\n",
    "rom sklearn.metrics import recall_score, precision_score, f1_score, accuracy_score\n",
    "\n",
    "def eval_metrics(models, Xtest, ytest):\n",
    "    res_df = []\n",
    "    for model_name, model in models.items():\n",
    "        if hasattr(model, 'predict_proba'):\n",
    "            ypred_proba = model.predict_proba(Xtest)[:, 1]\n",
    "            ypred = model.predict(Xtest)\n",
    "        elif hasattr(model, 'decision_function'):\n",
    "            ypred_proba = model.decision_function(Xtest)\n",
    "            ypred = model.predict(Xtest)\n",
    "        # for neural network\n",
    "        else:\n",
    "            model.eval()\n",
    "            with torch.no_grad():\n",
    "                Xtest_tensor = torch.FloatTensor(Xtest)\n",
    "                outputs = model(Xtest_tensor)\n",
    "                ypred_proba = torch.sigmoid(outputs).cpu().numpy()  # convert output to probabilities using sigmoid function\n",
    "                ypred = (ypred_proba >= 0.5).astype(int)\n",
    "\n",
    "        fpr, tpr, thresholds = roc_curve(ytest, ypred_proba)\n",
    "        roc_auc = auc(fpr, tpr)\n",
    "        precision = precision_score(ytest, ypred, average='macro', zero_division=0)\n",
    "        recall = recall_score(ytest, ypred, average='macro', zero_division=0)\n",
    "        f1 = f1_score(ytest, ypred, average='macro', zero_division=0)\n",
    "\n",
    "        result = pd.DataFrame({'AUROC':roc_auc,\n",
    "                               'Precision':precision,\n",
    "                               'Recall':recall,\n",
    "                               'F1 Score':f1}, index=[model_name])\n",
    "        res_df.append(result)\n",
    "    \n",
    "    final_df = pd.concat(res_df)\n",
    "    return final_df"
   ]
  },
  {
   "cell_type": "code",
   "execution_count": 10,
   "metadata": {},
   "outputs": [],
   "source": [
    "# helper function to perform hyperparameter tuning\n",
    "from sklearn.model_selection import GridSearchCV, StratifiedKFold\n",
    "\n",
    "stratifiedCV = StratifiedKFold(n_splits=5)\n",
    "\n",
    "# helper function to perform hyperparameters tuning via grid search and return the tuned model\n",
    "def hyperparameterTuning(model, param_grid, Xtrain, ytrain):\n",
    "    # create the GridSearchCV object\n",
    "    grid_search = GridSearchCV(model,                  # model to be tuned\n",
    "                               param_grid,             # search grid for the parameters\n",
    "                               cv=stratifiedCV,        # stratified K-fold cross validation to evaluate the model performance\n",
    "                               scoring='roc_auc',      # metric to assess the model performance, weighted F1 score (consider the proportion of classes in the dataset)\n",
    "                               n_jobs=-1)              # use all cpu cores to speed-up CV search\n",
    "\n",
    "    # fit the data into the grid search space\n",
    "    grid_search.fit(Xtrain, ytrain)\n",
    "\n",
    "    # print the best parameters and the corresponding ROC_AUC score\n",
    "    print('Best Hyperparameters from Grid Search : ', grid_search.best_params_)\n",
    "    print('Best AUROC Score: ', grid_search.best_score_)\n",
    "    print()\n",
    "\n",
    "    # get the best model\n",
    "    best_model = grid_search.best_estimator_\n",
    "    \n",
    "    # return the hyperparameters tuned model\n",
    "    return best_model"
   ]
  },
  {
   "cell_type": "code",
   "execution_count": 12,
   "metadata": {},
   "outputs": [],
   "source": [
    "data = notes_update.copy()"
   ]
  },
  {
   "cell_type": "code",
   "execution_count": 13,
   "metadata": {},
   "outputs": [],
   "source": [
    "from sklearn.model_selection import train_test_split\n",
    "\n",
    "X = data['text_embeddings']\n",
    "y = data['los_icu_class']\n",
    "\n",
    "# prepare the train and test data in numpy format which can feed into sklearn algorithm\n",
    "stacked_tensor = torch.stack([torch.tensor(x).flatten() for x in X])\n",
    "\n",
    "# convert the stacked tensor to a NumPy array\n",
    "X_numpy = stacked_tensor.numpy()\n",
    "\n",
    "# adding the 'icu_death' into the feature vector\n",
    "X_combined = np.concatenate((np.array(data['icu_death']).reshape(-1, 1), X_numpy), axis=1)\n",
    "\n",
    "y = y.map({'less than 3 days':0, 'greater than or equal to 3 days':1})\n",
    "\n",
    "Xtrain, Xtest, ytrain, ytest = train_test_split(X_combined, y, test_size=0.2, stratify=y, shuffle=True, random_state=42)"
   ]
  },
  {
   "cell_type": "code",
   "execution_count": 14,
   "metadata": {},
   "outputs": [
    {
     "name": "stdout",
     "output_type": "stream",
     "text": [
      "Best Hyperparameters from Grid Search :  {'C': 0.2}\n",
      "Best Weighted F1 Score:  0.6653702600314605\n",
      "\n"
     ]
    }
   ],
   "source": [
    "from sklearn.linear_model import LogisticRegression\n",
    "\n",
    "# fit a model with the selected features and perform hyperparameter tuning\n",
    "# define the base model for tuning\n",
    "logreg = LogisticRegression(penalty='l2', random_state=122, class_weight='balanced', solver='saga', max_iter=100000)\n",
    "\n",
    "# define the hyperparameter grid\n",
    "param_grid = {\n",
    "    'C': np.arange(start=0.1, stop=1, step=0.1)\n",
    "}\n",
    "\n",
    "# hyperparameter tuning via grid search\n",
    "logreg_los_tuned = hyperparameterTuning(logreg, param_grid, Xtrain, ytrain)"
   ]
  },
  {
   "cell_type": "code",
   "execution_count": 18,
   "metadata": {},
   "outputs": [],
   "source": [
    "# ignore the above 'Best Weighted F1 score, wrong print statement in the hyperparameterTuning function, if re-run the code, it will be correctly print as best AUROC score"
   ]
  },
  {
   "cell_type": "code",
   "execution_count": 15,
   "metadata": {},
   "outputs": [],
   "source": [
    "tuned_models = {'LogisticRegression_tuned':logreg_los_tuned}"
   ]
  },
  {
   "cell_type": "code",
   "execution_count": 16,
   "metadata": {},
   "outputs": [
    {
     "data": {
      "image/png": "[encoded data removed]",
      "text/plain": [
       "<Figure size 720x576 with 1 Axes>"
      ]
     },
     "metadata": {
      "needs_background": "light"
     },
     "output_type": "display_data"
    },
    {
     "data": {
      "text/html": [
       "<div>\n",
       "<style scoped>\n",
       "    .dataframe tbody tr th:only-of-type {\n",
       "        vertical-align: middle;\n",
       "    }\n",
       "\n",
       "    .dataframe tbody tr th {\n",
       "        vertical-align: top;\n",
       "    }\n",
       "\n",
       "    .dataframe thead th {\n",
       "        text-align: right;\n",
       "    }\n",
       "</style>\n",
       "<table border=\"1\" class=\"dataframe\">\n",
       "  <thead>\n",
       "    <tr style=\"text-align: right;\">\n",
       "      <th></th>\n",
       "      <th>AUROC</th>\n",
       "      <th>Precision</th>\n",
       "      <th>Recall</th>\n",
       "      <th>F1 Score</th>\n",
       "    </tr>\n",
       "  </thead>\n",
       "  <tbody>\n",
       "    <tr>\n",
       "      <th>LogisticRegression_tuned</th>\n",
       "      <td>0.678098</td>\n",
       "      <td>0.636839</td>\n",
       "      <td>0.636942</td>\n",
       "      <td>0.634912</td>\n",
       "    </tr>\n",
       "  </tbody>\n",
       "</table>\n",
       "</div>"
      ],
      "text/plain": [
       "                             AUROC  Precision    Recall  F1 Score\n",
       "LogisticRegression_tuned  0.678098   0.636839  0.636942  0.634912"
      ]
     },
     "execution_count": 16,
     "metadata": {},
     "output_type": "execute_result"
    }
   ],
   "source": [
    "# check model performance\n",
    "plot_roc_curve(tuned_models, Xtest, ytest)\n",
    "eval_metrics(tuned_models, Xtest, ytest)"
   ]
  },
  {
   "cell_type": "code",
   "execution_count": 17,
   "metadata": {},
   "outputs": [],
   "source": [
    "# export the trained model for reuse later\n",
    "import pickle\n",
    "\n",
    "# save the trained model to a file\n",
    "with open('logreg_los.pkl', 'wb') as file:\n",
    "    pickle.dump(logreg_los_tuned, file)"
   ]
  },
  {
   "cell_type": "code",
   "execution_count": 19,
   "metadata": {},
   "outputs": [],
   "source": [
    "# compute the probability of patient ICU LOS\n",
    "probability = logreg_los_tuned.predict_proba(X_combined)"
   ]
  },
  {
   "cell_type": "code",
   "execution_count": 20,
   "metadata": {},
   "outputs": [
    {
     "data": {
      "text/html": [
       "<div>\n",
       "<style scoped>\n",
       "    .dataframe tbody tr th:only-of-type {\n",
       "        vertical-align: middle;\n",
       "    }\n",
       "\n",
       "    .dataframe tbody tr th {\n",
       "        vertical-align: top;\n",
       "    }\n",
       "\n",
       "    .dataframe thead th {\n",
       "        text-align: right;\n",
       "    }\n",
       "</style>\n",
       "<table border=\"1\" class=\"dataframe\">\n",
       "  <thead>\n",
       "    <tr style=\"text-align: right;\">\n",
       "      <th></th>\n",
       "      <th>less than 3 days</th>\n",
       "      <th>greater than or equal to 3 days</th>\n",
       "    </tr>\n",
       "  </thead>\n",
       "  <tbody>\n",
       "    <tr>\n",
       "      <th>0</th>\n",
       "      <td>0.372746</td>\n",
       "      <td>0.627254</td>\n",
       "    </tr>\n",
       "    <tr>\n",
       "      <th>1</th>\n",
       "      <td>0.458207</td>\n",
       "      <td>0.541793</td>\n",
       "    </tr>\n",
       "    <tr>\n",
       "      <th>2</th>\n",
       "      <td>0.592683</td>\n",
       "      <td>0.407317</td>\n",
       "    </tr>\n",
       "    <tr>\n",
       "      <th>3</th>\n",
       "      <td>0.515459</td>\n",
       "      <td>0.484541</td>\n",
       "    </tr>\n",
       "    <tr>\n",
       "      <th>4</th>\n",
       "      <td>0.597674</td>\n",
       "      <td>0.402326</td>\n",
       "    </tr>\n",
       "  </tbody>\n",
       "</table>\n",
       "</div>"
      ],
      "text/plain": [
       "   less than 3 days  greater than or equal to 3 days\n",
       "0          0.372746                         0.627254\n",
       "1          0.458207                         0.541793\n",
       "2          0.592683                         0.407317\n",
       "3          0.515459                         0.484541\n",
       "4          0.597674                         0.402326"
      ]
     },
     "execution_count": 20,
     "metadata": {},
     "output_type": "execute_result"
    }
   ],
   "source": [
    "# convert the output in dataframe\n",
    "probability_df = pd.DataFrame(probability, columns=['less than 3 days', 'greater than or equal to 3 days'])\n",
    "probability_df.head()"
   ]
  },
  {
   "cell_type": "code",
   "execution_count": 21,
   "metadata": {},
   "outputs": [
    {
     "name": "stdout",
     "output_type": "stream",
     "text": [
      "Dimension of the dataframe:  (16322, 8)\n"
     ]
    },
    {
     "data": {
      "text/html": [
       "<div>\n",
       "<style scoped>\n",
       "    .dataframe tbody tr th:only-of-type {\n",
       "        vertical-align: middle;\n",
       "    }\n",
       "\n",
       "    .dataframe tbody tr th {\n",
       "        vertical-align: top;\n",
       "    }\n",
       "\n",
       "    .dataframe thead th {\n",
       "        text-align: right;\n",
       "    }\n",
       "</style>\n",
       "<table border=\"1\" class=\"dataframe\">\n",
       "  <thead>\n",
       "    <tr style=\"text-align: right;\">\n",
       "      <th></th>\n",
       "      <th>id</th>\n",
       "      <th>los_icu_class</th>\n",
       "      <th>text</th>\n",
       "      <th>los_icu</th>\n",
       "      <th>icu_death</th>\n",
       "      <th>text_embeddings</th>\n",
       "      <th>less than 3 days</th>\n",
       "      <th>greater than or equal to 3 days</th>\n",
       "    </tr>\n",
       "  </thead>\n",
       "  <tbody>\n",
       "    <tr>\n",
       "      <th>0</th>\n",
       "      <td>20001305</td>\n",
       "      <td>less than 3 days</td>\n",
       "      <td>INDICATION:  ___ with copd in resp distress in...</td>\n",
       "      <td>2.78</td>\n",
       "      <td>1</td>\n",
       "      <td>[0.0495544821, -0.0371760167, -0.127426326, -0...</td>\n",
       "      <td>0.372746</td>\n",
       "      <td>0.627254</td>\n",
       "    </tr>\n",
       "    <tr>\n",
       "      <th>1</th>\n",
       "      <td>20001361</td>\n",
       "      <td>greater than or equal to 3 days</td>\n",
       "      <td>CHEST X-RAY DATED ___.\\n\\nCOMPARISON:  None.\\n...</td>\n",
       "      <td>6.05</td>\n",
       "      <td>0</td>\n",
       "      <td>[0.0776797682, -0.31048429, -0.00207543001, 0....</td>\n",
       "      <td>0.458207</td>\n",
       "      <td>0.541793</td>\n",
       "    </tr>\n",
       "    <tr>\n",
       "      <th>2</th>\n",
       "      <td>20001770</td>\n",
       "      <td>less than 3 days</td>\n",
       "      <td>EXAMINATION:  LIVER OR GALLBLADDER US (SINGLE ...</td>\n",
       "      <td>2.87</td>\n",
       "      <td>0</td>\n",
       "      <td>[0.132888228, -0.191068441, -0.0299163219, 0.1...</td>\n",
       "      <td>0.592683</td>\n",
       "      <td>0.407317</td>\n",
       "    </tr>\n",
       "    <tr>\n",
       "      <th>3</th>\n",
       "      <td>20002506</td>\n",
       "      <td>greater than or equal to 3 days</td>\n",
       "      <td>EXAMINATION:  CTA HEAD AND CTA NECK Q16 CT NEC...</td>\n",
       "      <td>6.56</td>\n",
       "      <td>0</td>\n",
       "      <td>[0.00452079531, -0.232567102, 0.0254237894, 0....</td>\n",
       "      <td>0.515459</td>\n",
       "      <td>0.484541</td>\n",
       "    </tr>\n",
       "    <tr>\n",
       "      <th>4</th>\n",
       "      <td>20003491</td>\n",
       "      <td>less than 3 days</td>\n",
       "      <td>EXAMINATION:  Chest radiograph\\n\\nINDICATION: ...</td>\n",
       "      <td>2.54</td>\n",
       "      <td>0</td>\n",
       "      <td>[0.0784905553, -0.151299506, 0.0241509974, 0.0...</td>\n",
       "      <td>0.597674</td>\n",
       "      <td>0.402326</td>\n",
       "    </tr>\n",
       "  </tbody>\n",
       "</table>\n",
       "</div>"
      ],
      "text/plain": [
       "         id                    los_icu_class  \\\n",
       "0  20001305                 less than 3 days   \n",
       "1  20001361  greater than or equal to 3 days   \n",
       "2  20001770                 less than 3 days   \n",
       "3  20002506  greater than or equal to 3 days   \n",
       "4  20003491                 less than 3 days   \n",
       "\n",
       "                                                text  los_icu  icu_death  \\\n",
       "0  INDICATION:  ___ with copd in resp distress in...     2.78          1   \n",
       "1  CHEST X-RAY DATED ___.\\n\\nCOMPARISON:  None.\\n...     6.05          0   \n",
       "2  EXAMINATION:  LIVER OR GALLBLADDER US (SINGLE ...     2.87          0   \n",
       "3  EXAMINATION:  CTA HEAD AND CTA NECK Q16 CT NEC...     6.56          0   \n",
       "4  EXAMINATION:  Chest radiograph\\n\\nINDICATION: ...     2.54          0   \n",
       "\n",
       "                                     text_embeddings  less than 3 days  \\\n",
       "0  [0.0495544821, -0.0371760167, -0.127426326, -0...          0.372746   \n",
       "1  [0.0776797682, -0.31048429, -0.00207543001, 0....          0.458207   \n",
       "2  [0.132888228, -0.191068441, -0.0299163219, 0.1...          0.592683   \n",
       "3  [0.00452079531, -0.232567102, 0.0254237894, 0....          0.515459   \n",
       "4  [0.0784905553, -0.151299506, 0.0241509974, 0.0...          0.597674   \n",
       "\n",
       "   greater than or equal to 3 days  \n",
       "0                         0.627254  \n",
       "1                         0.541793  \n",
       "2                         0.407317  \n",
       "3                         0.484541  \n",
       "4                         0.402326  "
      ]
     },
     "execution_count": 21,
     "metadata": {},
     "output_type": "execute_result"
    }
   ],
   "source": [
    "# combine with the original dataset\n",
    "notes_update = pd.concat([notes_update, probability_df], axis=1)\n",
    "print('Dimension of the dataframe: ', notes_update.shape)\n",
    "notes_update.head()"
   ]
  },
  {
   "cell_type": "code",
   "execution_count": 22,
   "metadata": {},
   "outputs": [],
   "source": [
    "# export the concatenate data in csv format\n",
    "notes_update.to_csv('../data/notes_with_los_probability.csv', index=False)"
   ]
  }
 ],
 "metadata": {
  "colab": {
   "authorship_tag": "ABX9TyO+YRrJ6n65BG2YuBEELZzS",
   "provenance": []
  },
  "kernelspec": {
   "display_name": "Python 3 (ipykernel)",
   "language": "python",
   "name": "python3"
  },
  "language_info": {
   "codemirror_mode": {
    "name": "ipython",
    "version": 3
   },
   "file_extension": ".py",
   "mimetype": "text/x-python",
   "name": "python",
   "nbconvert_exporter": "python",
   "pygments_lexer": "ipython3",
   "version": "3.9.12"
  }
 },
 "nbformat": 4,
 "nbformat_minor": 4
}

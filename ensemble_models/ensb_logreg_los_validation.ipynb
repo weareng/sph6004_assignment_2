{
 "cells": [
  {
   "cell_type": "markdown",
   "id": "96e187be",
   "metadata": {},
   "source": [
    "# Assess ensemble model performance on validation data for los"
   ]
  },
  {
   "cell_type": "code",
   "execution_count": 1,
   "id": "a6e9bed0",
   "metadata": {},
   "outputs": [
    {
     "name": "stderr",
     "output_type": "stream",
     "text": [
      "/Users/wenruiwah/opt/anaconda3/lib/python3.9/site-packages/scipy/__init__.py:146: UserWarning: A NumPy version >=1.16.5 and <1.23.0 is required for this version of SciPy (detected version 1.26.4\n",
      "  warnings.warn(f\"A NumPy version >={np_minversion} and <{np_maxversion}\"\n"
     ]
    }
   ],
   "source": [
    "import pickle\n",
    "import pandas as pd\n",
    "from sklearn.metrics import recall_score, precision_score, f1_score, roc_auc_score\n",
    "\n",
    "#import logR los model\n",
    "logR_los = pickle.load(open('ensb_logreg_los.pkl', 'rb'))"
   ]
  },
  {
   "cell_type": "code",
   "execution_count": 2,
   "id": "aa521e6f",
   "metadata": {},
   "outputs": [],
   "source": [
    "#load validation los probs from text and LSTM\n",
    "\n",
    "validation_los_LSTM = pd.read_csv('lstm_probs_of_los_valid 1.csv')\n",
    "\n",
    "validation_los_text = pd.read_csv('text_los_probability_validation_170424.csv')\n",
    "validation_los_text.loc[validation_los_text['los_icu_class'] == 'less than 3 days', 'los_icu_class'] = 0\n",
    "validation_los_text.loc[validation_los_text['los_icu_class'] == 'greater than or equal to 3 days', 'los_icu_class'] = 1\n",
    "validation_los_text['los_icu_class'] = pd.to_numeric(validation_los_text['los_icu_class'])\n",
    "\n",
    "validation_los_text = validation_los_text[['los_icu_class', 'greater than or equal to 3 days']]\n",
    "validation_los_combined = pd.concat([validation_los_text, validation_los_LSTM],join='outer', axis=1)"
   ]
  },
  {
   "cell_type": "code",
   "execution_count": 5,
   "id": "795cecb2",
   "metadata": {},
   "outputs": [
    {
     "name": "stdout",
     "output_type": "stream",
     "text": [
      "AUROC: 0.5061236987140233\n",
      "Precision 0.5062462462462463\n",
      "Recall 0.5061236987140233\n",
      "F1 score: 0.5025964402641608\n"
     ]
    },
    {
     "name": "stderr",
     "output_type": "stream",
     "text": [
      "/Users/wenruiwah/opt/anaconda3/lib/python3.9/site-packages/sklearn/base.py:493: FutureWarning: The feature names should match those that were passed during fit. Starting version 1.2, an error will be raised.\n",
      "Feature names unseen at fit time:\n",
      "- greater than or equal to 3 days\n",
      "- probs_of_los\n",
      "Feature names seen at fit time, yet now missing:\n",
      "- LSTM_los\n",
      "- long_stay_text\n",
      "\n",
      "  warnings.warn(message, FutureWarning)\n"
     ]
    }
   ],
   "source": [
    "#assess model with validation data\n",
    "\n",
    "los_predictors = validation_los_combined[['greater than or equal to 3 days',\n",
    "                                 \"probs_of_los\"]]\n",
    "predicted_los = logR_los.predict(los_predictors)\n",
    "print('AUROC:', roc_auc_score(validation_los_combined['los_icu_class'], predicted_los))\n",
    "print('Precision', precision_score(validation_los_combined['los_icu_class'], predicted_los, average='macro', zero_division=0))\n",
    "print('Recall', recall_score(validation_los_combined['los_icu_class'], predicted_los, average='macro', zero_division=0))\n",
    "print('F1 score:', f1_score(validation_los_combined['los_icu_class'], predicted_los, average='macro', zero_division=0))"
   ]
  },
  {
   "cell_type": "markdown",
   "id": "f97262e9",
   "metadata": {},
   "source": [
    "# Next best models - assume all alive, assume all dead and get worse case scenarios and best case scenarios"
   ]
  },
  {
   "cell_type": "code",
   "execution_count": 7,
   "id": "dc2f71f5",
   "metadata": {},
   "outputs": [
    {
     "data": {
      "text/html": [
       "<div>\n",
       "<style scoped>\n",
       "    .dataframe tbody tr th:only-of-type {\n",
       "        vertical-align: middle;\n",
       "    }\n",
       "\n",
       "    .dataframe tbody tr th {\n",
       "        vertical-align: top;\n",
       "    }\n",
       "\n",
       "    .dataframe thead th {\n",
       "        text-align: right;\n",
       "    }\n",
       "</style>\n",
       "<table border=\"1\" class=\"dataframe\">\n",
       "  <thead>\n",
       "    <tr style=\"text-align: right;\">\n",
       "      <th></th>\n",
       "      <th>los_icu_class</th>\n",
       "      <th>greater than or equal to 3 days</th>\n",
       "      <th>probs_of_los_assumed_alive</th>\n",
       "    </tr>\n",
       "  </thead>\n",
       "  <tbody>\n",
       "    <tr>\n",
       "      <th>0</th>\n",
       "      <td>1</td>\n",
       "      <td>0.490637</td>\n",
       "      <td>0.405983</td>\n",
       "    </tr>\n",
       "    <tr>\n",
       "      <th>1</th>\n",
       "      <td>0</td>\n",
       "      <td>0.461720</td>\n",
       "      <td>0.274383</td>\n",
       "    </tr>\n",
       "    <tr>\n",
       "      <th>2</th>\n",
       "      <td>1</td>\n",
       "      <td>0.553635</td>\n",
       "      <td>0.162815</td>\n",
       "    </tr>\n",
       "    <tr>\n",
       "      <th>3</th>\n",
       "      <td>1</td>\n",
       "      <td>0.352949</td>\n",
       "      <td>0.330573</td>\n",
       "    </tr>\n",
       "    <tr>\n",
       "      <th>4</th>\n",
       "      <td>0</td>\n",
       "      <td>0.507628</td>\n",
       "      <td>0.213674</td>\n",
       "    </tr>\n",
       "    <tr>\n",
       "      <th>...</th>\n",
       "      <td>...</td>\n",
       "      <td>...</td>\n",
       "      <td>...</td>\n",
       "    </tr>\n",
       "    <tr>\n",
       "      <th>4076</th>\n",
       "      <td>0</td>\n",
       "      <td>0.496118</td>\n",
       "      <td>0.298234</td>\n",
       "    </tr>\n",
       "    <tr>\n",
       "      <th>4077</th>\n",
       "      <td>1</td>\n",
       "      <td>0.756874</td>\n",
       "      <td>0.889351</td>\n",
       "    </tr>\n",
       "    <tr>\n",
       "      <th>4078</th>\n",
       "      <td>1</td>\n",
       "      <td>0.679929</td>\n",
       "      <td>0.402790</td>\n",
       "    </tr>\n",
       "    <tr>\n",
       "      <th>4079</th>\n",
       "      <td>0</td>\n",
       "      <td>0.278434</td>\n",
       "      <td>0.388519</td>\n",
       "    </tr>\n",
       "    <tr>\n",
       "      <th>4080</th>\n",
       "      <td>1</td>\n",
       "      <td>0.476620</td>\n",
       "      <td>0.980574</td>\n",
       "    </tr>\n",
       "  </tbody>\n",
       "</table>\n",
       "<p>4081 rows × 3 columns</p>\n",
       "</div>"
      ],
      "text/plain": [
       "      los_icu_class  greater than or equal to 3 days  \\\n",
       "0                 1                         0.490637   \n",
       "1                 0                         0.461720   \n",
       "2                 1                         0.553635   \n",
       "3                 1                         0.352949   \n",
       "4                 0                         0.507628   \n",
       "...             ...                              ...   \n",
       "4076              0                         0.496118   \n",
       "4077              1                         0.756874   \n",
       "4078              1                         0.679929   \n",
       "4079              0                         0.278434   \n",
       "4080              1                         0.476620   \n",
       "\n",
       "      probs_of_los_assumed_alive  \n",
       "0                       0.405983  \n",
       "1                       0.274383  \n",
       "2                       0.162815  \n",
       "3                       0.330573  \n",
       "4                       0.213674  \n",
       "...                          ...  \n",
       "4076                    0.298234  \n",
       "4077                    0.889351  \n",
       "4078                    0.402790  \n",
       "4079                    0.388519  \n",
       "4080                    0.980574  \n",
       "\n",
       "[4081 rows x 3 columns]"
      ]
     },
     "execution_count": 7,
     "metadata": {},
     "output_type": "execute_result"
    }
   ],
   "source": [
    "#assume all alive data\n",
    "validation_los_LSTM_all_alive = pd.read_csv('lstm_probs_of_los_assumed_alive 1.csv')\n",
    "\n",
    "validation_los_text_all_alive = pd.read_csv('text_los_probability_validation_assumed_survive.csv')\n",
    "validation_los_text_all_alive.loc[validation_los_text_all_alive['los_icu_class'] == 'less than 3 days', 'los_icu_class'] = 0\n",
    "validation_los_text_all_alive.loc[validation_los_text_all_alive['los_icu_class'] == 'greater than or equal to 3 days', 'los_icu_class'] = 1\n",
    "validation_los_text_all_alive['los_icu_class'] = pd.to_numeric(validation_los_text_all_alive['los_icu_class'])\n",
    "\n",
    "validation_los_text_all_alive = validation_los_text_all_alive[['los_icu_class', 'greater than or equal to 3 days']]\n",
    "validation_los_all_alive_combined = pd.concat([validation_los_text_all_alive, validation_los_LSTM_all_alive],join='outer', axis=1)\n",
    "validation_los_all_alive_combined"
   ]
  },
  {
   "cell_type": "code",
   "execution_count": 8,
   "id": "17365f0d",
   "metadata": {},
   "outputs": [
    {
     "data": {
      "text/html": [
       "<div>\n",
       "<style scoped>\n",
       "    .dataframe tbody tr th:only-of-type {\n",
       "        vertical-align: middle;\n",
       "    }\n",
       "\n",
       "    .dataframe tbody tr th {\n",
       "        vertical-align: top;\n",
       "    }\n",
       "\n",
       "    .dataframe thead th {\n",
       "        text-align: right;\n",
       "    }\n",
       "</style>\n",
       "<table border=\"1\" class=\"dataframe\">\n",
       "  <thead>\n",
       "    <tr style=\"text-align: right;\">\n",
       "      <th></th>\n",
       "      <th>los_icu_class</th>\n",
       "      <th>greater than or equal to 3 days</th>\n",
       "      <th>probs_of_los_assumed_dead</th>\n",
       "    </tr>\n",
       "  </thead>\n",
       "  <tbody>\n",
       "    <tr>\n",
       "      <th>0</th>\n",
       "      <td>1</td>\n",
       "      <td>0.544160</td>\n",
       "      <td>0.662695</td>\n",
       "    </tr>\n",
       "    <tr>\n",
       "      <th>1</th>\n",
       "      <td>0</td>\n",
       "      <td>0.515280</td>\n",
       "      <td>0.928441</td>\n",
       "    </tr>\n",
       "    <tr>\n",
       "      <th>2</th>\n",
       "      <td>1</td>\n",
       "      <td>0.605857</td>\n",
       "      <td>0.221589</td>\n",
       "    </tr>\n",
       "    <tr>\n",
       "      <th>3</th>\n",
       "      <td>1</td>\n",
       "      <td>0.403346</td>\n",
       "      <td>0.654000</td>\n",
       "    </tr>\n",
       "    <tr>\n",
       "      <th>4</th>\n",
       "      <td>0</td>\n",
       "      <td>0.560964</td>\n",
       "      <td>0.857901</td>\n",
       "    </tr>\n",
       "    <tr>\n",
       "      <th>...</th>\n",
       "      <td>...</td>\n",
       "      <td>...</td>\n",
       "      <td>...</td>\n",
       "    </tr>\n",
       "    <tr>\n",
       "      <th>4076</th>\n",
       "      <td>0</td>\n",
       "      <td>0.549594</td>\n",
       "      <td>0.902852</td>\n",
       "    </tr>\n",
       "    <tr>\n",
       "      <th>4077</th>\n",
       "      <td>1</td>\n",
       "      <td>0.794159</td>\n",
       "      <td>0.884625</td>\n",
       "    </tr>\n",
       "    <tr>\n",
       "      <th>4078</th>\n",
       "      <td>1</td>\n",
       "      <td>0.724721</td>\n",
       "      <td>0.822771</td>\n",
       "    </tr>\n",
       "    <tr>\n",
       "      <th>4079</th>\n",
       "      <td>0</td>\n",
       "      <td>0.323511</td>\n",
       "      <td>0.986257</td>\n",
       "    </tr>\n",
       "    <tr>\n",
       "      <th>4080</th>\n",
       "      <td>1</td>\n",
       "      <td>0.530206</td>\n",
       "      <td>0.982700</td>\n",
       "    </tr>\n",
       "  </tbody>\n",
       "</table>\n",
       "<p>4081 rows × 3 columns</p>\n",
       "</div>"
      ],
      "text/plain": [
       "      los_icu_class  greater than or equal to 3 days  \\\n",
       "0                 1                         0.544160   \n",
       "1                 0                         0.515280   \n",
       "2                 1                         0.605857   \n",
       "3                 1                         0.403346   \n",
       "4                 0                         0.560964   \n",
       "...             ...                              ...   \n",
       "4076              0                         0.549594   \n",
       "4077              1                         0.794159   \n",
       "4078              1                         0.724721   \n",
       "4079              0                         0.323511   \n",
       "4080              1                         0.530206   \n",
       "\n",
       "      probs_of_los_assumed_dead  \n",
       "0                      0.662695  \n",
       "1                      0.928441  \n",
       "2                      0.221589  \n",
       "3                      0.654000  \n",
       "4                      0.857901  \n",
       "...                         ...  \n",
       "4076                   0.902852  \n",
       "4077                   0.884625  \n",
       "4078                   0.822771  \n",
       "4079                   0.986257  \n",
       "4080                   0.982700  \n",
       "\n",
       "[4081 rows x 3 columns]"
      ]
     },
     "execution_count": 8,
     "metadata": {},
     "output_type": "execute_result"
    }
   ],
   "source": [
    "#assume all dead data\n",
    "validation_los_LSTM_all_dead = pd.read_csv('lstm_probs_of_los_assumed_dead 1.csv')\n",
    "\n",
    "validation_los_text_all_dead = pd.read_csv('text_los_probability_validation_assumed_died.csv')\n",
    "validation_los_text_all_dead.loc[validation_los_text_all_dead['los_icu_class'] == 'less than 3 days', 'los_icu_class'] = 0\n",
    "validation_los_text_all_dead.loc[validation_los_text_all_dead['los_icu_class'] == 'greater than or equal to 3 days', 'los_icu_class'] = 1\n",
    "validation_los_text_all_dead['los_icu_class'] = pd.to_numeric(validation_los_text_all_dead['los_icu_class'])\n",
    "\n",
    "validation_los_text_all_dead = validation_los_text_all_dead[['los_icu_class', 'greater than or equal to 3 days']]\n",
    "validation_los_all_dead_combined = pd.concat([validation_los_text_all_dead, validation_los_LSTM_all_dead],join='outer', axis=1)\n",
    "validation_los_all_dead_combined"
   ]
  },
  {
   "cell_type": "code",
   "execution_count": 9,
   "id": "344ca9c6",
   "metadata": {},
   "outputs": [
    {
     "name": "stdout",
     "output_type": "stream",
     "text": [
      "AUROC: 0.5994873925829223\n",
      "Precision 0.6022693134372606\n",
      "Recall 0.5994873925829223\n",
      "F1 score: 0.5978387298219552\n"
     ]
    },
    {
     "name": "stderr",
     "output_type": "stream",
     "text": [
      "/Users/wenruiwah/opt/anaconda3/lib/python3.9/site-packages/sklearn/base.py:493: FutureWarning: The feature names should match those that were passed during fit. Starting version 1.2, an error will be raised.\n",
      "Feature names unseen at fit time:\n",
      "- greater than or equal to 3 days\n",
      "- probs_of_los_assumed_alive\n",
      "Feature names seen at fit time, yet now missing:\n",
      "- LSTM_los\n",
      "- long_stay_text\n",
      "\n",
      "  warnings.warn(message, FutureWarning)\n"
     ]
    }
   ],
   "source": [
    "#all alive los prediction\n",
    "los_predictors_all_alive = validation_los_all_alive_combined[['greater than or equal to 3 days',\n",
    "                                 \"probs_of_los_assumed_alive\"]]\n",
    "predicted_los_all_alive = logR_los.predict(los_predictors_all_alive)\n",
    "print('AUROC:', roc_auc_score(validation_los_all_alive_combined['los_icu_class'], predicted_los_all_alive))\n",
    "print('Precision', precision_score(validation_los_all_alive_combined['los_icu_class'], predicted_los_all_alive, average='macro', zero_division=0))\n",
    "print('Recall', recall_score(validation_los_all_alive_combined['los_icu_class'], predicted_los_all_alive, average='macro', zero_division=0))\n",
    "print('F1 score:', f1_score(validation_los_all_alive_combined['los_icu_class'], predicted_los_all_alive, average='macro', zero_division=0))"
   ]
  },
  {
   "cell_type": "code",
   "execution_count": 10,
   "id": "912f761a",
   "metadata": {},
   "outputs": [
    {
     "name": "stdout",
     "output_type": "stream",
     "text": [
      "AUROC: 0.535957383094554\n",
      "Precision 0.5554470728191141\n",
      "Recall 0.535957383094554\n",
      "F1 score: 0.4869967519714669\n"
     ]
    },
    {
     "name": "stderr",
     "output_type": "stream",
     "text": [
      "/Users/wenruiwah/opt/anaconda3/lib/python3.9/site-packages/sklearn/base.py:493: FutureWarning: The feature names should match those that were passed during fit. Starting version 1.2, an error will be raised.\n",
      "Feature names unseen at fit time:\n",
      "- greater than or equal to 3 days\n",
      "- probs_of_los_assumed_dead\n",
      "Feature names seen at fit time, yet now missing:\n",
      "- LSTM_los\n",
      "- long_stay_text\n",
      "\n",
      "  warnings.warn(message, FutureWarning)\n"
     ]
    }
   ],
   "source": [
    "#all dead los prediction\n",
    "los_predictors_all_dead = validation_los_all_dead_combined[['greater than or equal to 3 days',\n",
    "                                 \"probs_of_los_assumed_dead\"]]\n",
    "predicted_los_all_dead = logR_los.predict(los_predictors_all_dead)\n",
    "print('AUROC:', roc_auc_score(validation_los_all_dead_combined['los_icu_class'], predicted_los_all_dead))\n",
    "print('Precision', precision_score(validation_los_all_dead_combined['los_icu_class'], predicted_los_all_dead, average='macro', zero_division=0))\n",
    "print('Recall', recall_score(validation_los_all_dead_combined['los_icu_class'], predicted_los_all_dead, average='macro', zero_division=0))\n",
    "print('F1 score:', f1_score(validation_los_all_dead_combined['los_icu_class'], predicted_los_all_dead, average='macro', zero_division=0))"
   ]
  },
  {
   "cell_type": "markdown",
   "id": "4a4a6a38",
   "metadata": {},
   "source": [
    "# Conservative predictions, i.e. take long stay if one predicts long and one predicts short"
   ]
  },
  {
   "cell_type": "code",
   "execution_count": 14,
   "id": "c91ffdf9",
   "metadata": {},
   "outputs": [
    {
     "name": "stdout",
     "output_type": "stream",
     "text": [
      "AUROC: 0.5437062172365296\n",
      "Precision 0.5777234281709043\n",
      "Recall 0.5437062172365296\n",
      "F1 score: 0.48284684915059073\n"
     ]
    }
   ],
   "source": [
    "combined_predictions = pd.DataFrame({\n",
    "                               'All alive':predicted_los_all_alive,\n",
    "                               'All dead':predicted_los_all_dead,\n",
    "                                     'Actual': validation_los_combined['los_icu_class'],\n",
    "                                    })\n",
    "combined_predictions['Most conservative'] = combined_predictions[[\n",
    "                                                                  \"All alive\",\n",
    "                                                                  \"All dead\"]].max(axis=1)\n",
    "\n",
    "\n",
    "print('AUROC:', roc_auc_score(combined_predictions['Actual'], combined_predictions['Most conservative']))\n",
    "print('Precision', precision_score(combined_predictions['Actual'], combined_predictions['Most conservative'], average='macro', zero_division=0))\n",
    "print('Recall', recall_score(combined_predictions['Actual'], combined_predictions['Most conservative'], average='macro', zero_division=0))\n",
    "print('F1 score:', f1_score(combined_predictions['Actual'], combined_predictions['Most conservative'], average='macro', zero_division=0))"
   ]
  },
  {
   "cell_type": "markdown",
   "id": "876d05fc",
   "metadata": {},
   "source": [
    "# Lax predictions, i.e. take short stay over long when there is disagreement"
   ]
  },
  {
   "cell_type": "code",
   "execution_count": 15,
   "id": "1d7ce4ac",
   "metadata": {},
   "outputs": [
    {
     "name": "stdout",
     "output_type": "stream",
     "text": [
      "AUROC: 0.5917385584409467\n",
      "Precision 0.5970599528066802\n",
      "Recall 0.5917385584409467\n",
      "F1 score: 0.5876738312737715\n"
     ]
    }
   ],
   "source": [
    "combined_predictions['Most Lax'] = combined_predictions[[#\"Using predicted death\", \n",
    "                                                                  \"All alive\",\n",
    "                                                                  \"All dead\"]].min(axis=1)\n",
    "\n",
    "print('AUROC:', roc_auc_score(combined_predictions['Actual'], combined_predictions['Most Lax']))\n",
    "print('Precision', precision_score(combined_predictions['Actual'], combined_predictions['Most Lax'], average='macro', zero_division=0))\n",
    "print('Recall', recall_score(combined_predictions['Actual'], combined_predictions['Most Lax'], average='macro', zero_division=0))\n",
    "print('F1 score:', f1_score(combined_predictions['Actual'], combined_predictions['Most Lax'], average='macro', zero_division=0))"
   ]
  },
  {
   "cell_type": "code",
   "execution_count": null,
   "id": "ba4e7823",
   "metadata": {},
   "outputs": [],
   "source": []
  }
 ],
 "metadata": {
  "kernelspec": {
   "display_name": "Python 3 (ipykernel)",
   "language": "python",
   "name": "python3"
  },
  "language_info": {
   "codemirror_mode": {
    "name": "ipython",
    "version": 3
   },
   "file_extension": ".py",
   "mimetype": "text/x-python",
   "name": "python",
   "nbconvert_exporter": "python",
   "pygments_lexer": "ipython3",
   "version": "3.9.12"
  }
 },
 "nbformat": 4,
 "nbformat_minor": 5
}

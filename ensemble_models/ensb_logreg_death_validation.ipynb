{
 "cells": [
  {
   "cell_type": "markdown",
   "id": "d0832c51",
   "metadata": {},
   "source": [
    "## Assess ensemble model performance on validation data for death and to output death predictions"
   ]
  },
  {
   "cell_type": "code",
   "execution_count": 19,
   "id": "5681b8d9",
   "metadata": {},
   "outputs": [],
   "source": [
    "import pickle\n",
    "import pandas as pd\n",
    "from sklearn.metrics import recall_score, precision_score, f1_score, roc_auc_score\n",
    "\n",
    "#import logR death model\n",
    "logR_death = pickle.load(open('ensb_logreg_death.pkl', 'rb'))"
   ]
  },
  {
   "cell_type": "code",
   "execution_count": 20,
   "id": "5d20c6d6",
   "metadata": {},
   "outputs": [
    {
     "data": {
      "text/html": [
       "<div>\n",
       "<style scoped>\n",
       "    .dataframe tbody tr th:only-of-type {\n",
       "        vertical-align: middle;\n",
       "    }\n",
       "\n",
       "    .dataframe tbody tr th {\n",
       "        vertical-align: top;\n",
       "    }\n",
       "\n",
       "    .dataframe thead th {\n",
       "        text-align: right;\n",
       "    }\n",
       "</style>\n",
       "<table border=\"1\" class=\"dataframe\">\n",
       "  <thead>\n",
       "    <tr style=\"text-align: right;\">\n",
       "      <th></th>\n",
       "      <th>Death</th>\n",
       "      <th>icu_death</th>\n",
       "      <th>0</th>\n",
       "      <th>RF_val_death</th>\n",
       "      <th>id</th>\n",
       "    </tr>\n",
       "  </thead>\n",
       "  <tbody>\n",
       "    <tr>\n",
       "      <th>0</th>\n",
       "      <td>0.295472</td>\n",
       "      <td>0</td>\n",
       "      <td>0.197523</td>\n",
       "      <td>0.802477</td>\n",
       "      <td>20003425</td>\n",
       "    </tr>\n",
       "    <tr>\n",
       "      <th>1</th>\n",
       "      <td>0.219437</td>\n",
       "      <td>0</td>\n",
       "      <td>0.275247</td>\n",
       "      <td>0.724753</td>\n",
       "      <td>20008724</td>\n",
       "    </tr>\n",
       "    <tr>\n",
       "      <th>2</th>\n",
       "      <td>0.709828</td>\n",
       "      <td>0</td>\n",
       "      <td>0.170222</td>\n",
       "      <td>0.829778</td>\n",
       "      <td>20009330</td>\n",
       "    </tr>\n",
       "    <tr>\n",
       "      <th>3</th>\n",
       "      <td>0.429824</td>\n",
       "      <td>0</td>\n",
       "      <td>0.232975</td>\n",
       "      <td>0.767025</td>\n",
       "      <td>20014219</td>\n",
       "    </tr>\n",
       "    <tr>\n",
       "      <th>4</th>\n",
       "      <td>0.456270</td>\n",
       "      <td>0</td>\n",
       "      <td>0.176230</td>\n",
       "      <td>0.823770</td>\n",
       "      <td>20015722</td>\n",
       "    </tr>\n",
       "    <tr>\n",
       "      <th>...</th>\n",
       "      <td>...</td>\n",
       "      <td>...</td>\n",
       "      <td>...</td>\n",
       "      <td>...</td>\n",
       "      <td>...</td>\n",
       "    </tr>\n",
       "    <tr>\n",
       "      <th>4076</th>\n",
       "      <td>0.433242</td>\n",
       "      <td>0</td>\n",
       "      <td>0.136995</td>\n",
       "      <td>0.863005</td>\n",
       "      <td>29985535</td>\n",
       "    </tr>\n",
       "    <tr>\n",
       "      <th>4077</th>\n",
       "      <td>0.784476</td>\n",
       "      <td>1</td>\n",
       "      <td>0.195743</td>\n",
       "      <td>0.804257</td>\n",
       "      <td>29987115</td>\n",
       "    </tr>\n",
       "    <tr>\n",
       "      <th>4078</th>\n",
       "      <td>0.649372</td>\n",
       "      <td>0</td>\n",
       "      <td>0.234748</td>\n",
       "      <td>0.765252</td>\n",
       "      <td>29988601</td>\n",
       "    </tr>\n",
       "    <tr>\n",
       "      <th>4079</th>\n",
       "      <td>0.077565</td>\n",
       "      <td>0</td>\n",
       "      <td>0.246994</td>\n",
       "      <td>0.753006</td>\n",
       "      <td>29988615</td>\n",
       "    </tr>\n",
       "    <tr>\n",
       "      <th>4080</th>\n",
       "      <td>0.411605</td>\n",
       "      <td>0</td>\n",
       "      <td>0.480984</td>\n",
       "      <td>0.519016</td>\n",
       "      <td>29998399</td>\n",
       "    </tr>\n",
       "  </tbody>\n",
       "</table>\n",
       "<p>4081 rows × 5 columns</p>\n",
       "</div>"
      ],
      "text/plain": [
       "         Death  icu_death         0  RF_val_death        id\n",
       "0     0.295472          0  0.197523      0.802477  20003425\n",
       "1     0.219437          0  0.275247      0.724753  20008724\n",
       "2     0.709828          0  0.170222      0.829778  20009330\n",
       "3     0.429824          0  0.232975      0.767025  20014219\n",
       "4     0.456270          0  0.176230      0.823770  20015722\n",
       "...        ...        ...       ...           ...       ...\n",
       "4076  0.433242          0  0.136995      0.863005  29985535\n",
       "4077  0.784476          1  0.195743      0.804257  29987115\n",
       "4078  0.649372          0  0.234748      0.765252  29988601\n",
       "4079  0.077565          0  0.246994      0.753006  29988615\n",
       "4080  0.411605          0  0.480984      0.519016  29998399\n",
       "\n",
       "[4081 rows x 5 columns]"
      ]
     },
     "execution_count": 20,
     "metadata": {},
     "output_type": "execute_result"
    }
   ],
   "source": [
    "#load validation death probs from text and RF\n",
    "validation_death_text = pd.read_csv(\"text_mortality_probability_validation.csv\")\n",
    "validation_death_text = validation_death_text[['Death', 'icu_death']]\n",
    "validation_death_RF = pd.read_csv('death_probability_sd_rf_validation 1.csv')\n",
    "validation_death_RF = validation_death_RF.rename(columns={\"1\": \"RF_val_death\"})\n",
    "validation_death_combined = pd.concat([validation_death_text, validation_death_RF],join='outer', axis=1)\n",
    "validation_death_combined"
   ]
  },
  {
   "cell_type": "code",
   "execution_count": 21,
   "id": "4f0b2258",
   "metadata": {},
   "outputs": [
    {
     "name": "stderr",
     "output_type": "stream",
     "text": [
      "/Users/wenruiwah/opt/anaconda3/lib/python3.9/site-packages/sklearn/base.py:493: FutureWarning: The feature names should match those that were passed during fit. Starting version 1.2, an error will be raised.\n",
      "Feature names unseen at fit time:\n",
      "- Death\n",
      "- RF_val_death\n",
      "Feature names seen at fit time, yet now missing:\n",
      "- Death_Text\n",
      "- RF_death\n",
      "\n",
      "  warnings.warn(message, FutureWarning)\n"
     ]
    }
   ],
   "source": [
    "#predict death from text and RF for validated data, and output\n",
    "death_predictors = validation_death_combined[['Death','RF_val_death']]\n",
    "predicted_death = logR_death.predict(death_predictors)\n",
    "predicted_death_df = pd.DataFrame(predicted_death)\n",
    "predicted_death_df.to_csv('180424_Validation_death.csv')"
   ]
  },
  {
   "cell_type": "code",
   "execution_count": 22,
   "id": "f68e6fdc",
   "metadata": {},
   "outputs": [
    {
     "name": "stdout",
     "output_type": "stream",
     "text": [
      "AUROC: 0.5188807459399946\n",
      "Precision 0.6691994273758397\n",
      "Recall 0.5188807459399944\n",
      "F1 score: 0.5110334618152637\n"
     ]
    }
   ],
   "source": [
    "#scores\n",
    "print('AUROC:', roc_auc_score(validation_death_combined['icu_death'], predicted_death_df))\n",
    "print('Precision', precision_score(validation_death_combined['icu_death'], predicted_death_df, average='macro', zero_division=0))\n",
    "print('Recall', recall_score(validation_death_combined['icu_death'], predicted_death_df, average='macro', zero_division=0))\n",
    "print('F1 score:', f1_score(validation_death_combined['icu_death'], predicted_death_df, average='macro', zero_division=0))"
   ]
  },
  {
   "cell_type": "code",
   "execution_count": null,
   "id": "80e31e86",
   "metadata": {},
   "outputs": [],
   "source": []
  }
 ],
 "metadata": {
  "kernelspec": {
   "display_name": "Python 3 (ipykernel)",
   "language": "python",
   "name": "python3"
  },
  "language_info": {
   "codemirror_mode": {
    "name": "ipython",
    "version": 3
   },
   "file_extension": ".py",
   "mimetype": "text/x-python",
   "name": "python",
   "nbconvert_exporter": "python",
   "pygments_lexer": "ipython3",
   "version": "3.9.12"
  }
 },
 "nbformat": 4,
 "nbformat_minor": 5
}

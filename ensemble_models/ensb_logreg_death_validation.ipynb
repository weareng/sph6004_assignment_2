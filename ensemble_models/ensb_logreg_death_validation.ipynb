{
 "cells": [
  {
   "cell_type": "markdown",
   "id": "4e6dca37",
   "metadata": {},
   "source": [
    "## Assess ensemble model performance on validation data for death and to output death predictions"
   ]
  },
  {
   "cell_type": "code",
   "execution_count": 7,
   "id": "3cd3ef1a",
   "metadata": {},
   "outputs": [],
   "source": [
    "import pickle\n",
    "import pandas as pd\n",
    "from sklearn.metrics import recall_score, precision_score, f1_score, roc_auc_score\n",
    "\n",
    "#import logR death model\n",
    "logR_death = pickle.load(open('ensb_logreg_death.pkl', 'rb'))"
   ]
  },
  {
   "cell_type": "code",
   "execution_count": 5,
   "id": "03aaabaf",
   "metadata": {},
   "outputs": [
    {
     "data": {
      "text/html": [
       "<div>\n",
       "<style scoped>\n",
       "    .dataframe tbody tr th:only-of-type {\n",
       "        vertical-align: middle;\n",
       "    }\n",
       "\n",
       "    .dataframe tbody tr th {\n",
       "        vertical-align: top;\n",
       "    }\n",
       "\n",
       "    .dataframe thead th {\n",
       "        text-align: right;\n",
       "    }\n",
       "</style>\n",
       "<table border=\"1\" class=\"dataframe\">\n",
       "  <thead>\n",
       "    <tr style=\"text-align: right;\">\n",
       "      <th></th>\n",
       "      <th>Death</th>\n",
       "      <th>icu_death</th>\n",
       "      <th>TCN_val_death</th>\n",
       "    </tr>\n",
       "  </thead>\n",
       "  <tbody>\n",
       "    <tr>\n",
       "      <th>0</th>\n",
       "      <td>0.295472</td>\n",
       "      <td>0</td>\n",
       "      <td>8.307330e-02</td>\n",
       "    </tr>\n",
       "    <tr>\n",
       "      <th>1</th>\n",
       "      <td>0.219437</td>\n",
       "      <td>0</td>\n",
       "      <td>1.749867e-06</td>\n",
       "    </tr>\n",
       "    <tr>\n",
       "      <th>2</th>\n",
       "      <td>0.709828</td>\n",
       "      <td>0</td>\n",
       "      <td>8.418267e-01</td>\n",
       "    </tr>\n",
       "    <tr>\n",
       "      <th>3</th>\n",
       "      <td>0.429824</td>\n",
       "      <td>0</td>\n",
       "      <td>1.616446e-05</td>\n",
       "    </tr>\n",
       "    <tr>\n",
       "      <th>4</th>\n",
       "      <td>0.456270</td>\n",
       "      <td>0</td>\n",
       "      <td>1.247955e-02</td>\n",
       "    </tr>\n",
       "    <tr>\n",
       "      <th>...</th>\n",
       "      <td>...</td>\n",
       "      <td>...</td>\n",
       "      <td>...</td>\n",
       "    </tr>\n",
       "    <tr>\n",
       "      <th>4076</th>\n",
       "      <td>0.433242</td>\n",
       "      <td>0</td>\n",
       "      <td>8.179577e-04</td>\n",
       "    </tr>\n",
       "    <tr>\n",
       "      <th>4077</th>\n",
       "      <td>0.784476</td>\n",
       "      <td>1</td>\n",
       "      <td>3.232544e-01</td>\n",
       "    </tr>\n",
       "    <tr>\n",
       "      <th>4078</th>\n",
       "      <td>0.649372</td>\n",
       "      <td>0</td>\n",
       "      <td>1.168605e-04</td>\n",
       "    </tr>\n",
       "    <tr>\n",
       "      <th>4079</th>\n",
       "      <td>0.077565</td>\n",
       "      <td>0</td>\n",
       "      <td>2.011393e-07</td>\n",
       "    </tr>\n",
       "    <tr>\n",
       "      <th>4080</th>\n",
       "      <td>0.411605</td>\n",
       "      <td>0</td>\n",
       "      <td>9.869901e-11</td>\n",
       "    </tr>\n",
       "  </tbody>\n",
       "</table>\n",
       "<p>4081 rows × 3 columns</p>\n",
       "</div>"
      ],
      "text/plain": [
       "         Death  icu_death  TCN_val_death\n",
       "0     0.295472          0   8.307330e-02\n",
       "1     0.219437          0   1.749867e-06\n",
       "2     0.709828          0   8.418267e-01\n",
       "3     0.429824          0   1.616446e-05\n",
       "4     0.456270          0   1.247955e-02\n",
       "...        ...        ...            ...\n",
       "4076  0.433242          0   8.179577e-04\n",
       "4077  0.784476          1   3.232544e-01\n",
       "4078  0.649372          0   1.168605e-04\n",
       "4079  0.077565          0   2.011393e-07\n",
       "4080  0.411605          0   9.869901e-11\n",
       "\n",
       "[4081 rows x 3 columns]"
      ]
     },
     "execution_count": 5,
     "metadata": {},
     "output_type": "execute_result"
    }
   ],
   "source": [
    "#load validation death probs from text and TCN\n",
    "validation_death_text = pd.read_csv(\"text_mortality_probability_validation.csv\")\n",
    "validation_death_text = validation_death_text[['Death', 'icu_death']]\n",
    "validation_death_TCN = pd.read_csv('tcn_probs_of_death_valid.csv')\n",
    "validation_death_TCN = validation_death_TCN.rename(columns={\"probs_of_death\": \"TCN_val_death\"})\n",
    "validation_death_combined = pd.concat([validation_death_text, validation_death_TCN],join='outer', axis=1)\n",
    "validation_death_combined"
   ]
  },
  {
   "cell_type": "code",
   "execution_count": 6,
   "id": "2ea5351b",
   "metadata": {},
   "outputs": [
    {
     "name": "stderr",
     "output_type": "stream",
     "text": [
      "/Users/wenruiwah/opt/anaconda3/lib/python3.9/site-packages/sklearn/base.py:493: FutureWarning: The feature names should match those that were passed during fit. Starting version 1.2, an error will be raised.\n",
      "Feature names unseen at fit time:\n",
      "- Death\n",
      "- TCN_val_death\n",
      "Feature names seen at fit time, yet now missing:\n",
      "- Death_Text\n",
      "- TCN_death\n",
      "\n",
      "  warnings.warn(message, FutureWarning)\n"
     ]
    }
   ],
   "source": [
    "#predict death from text and TCN for validated data, and output\n",
    "death_predictors = validation_death_combined[['Death','TCN_val_death']]\n",
    "predicted_death = logR_death.predict(death_predictors)\n",
    "predicted_death_df = pd.DataFrame(predicted_death)\n",
    "#predicted_death_df.to_csv('170424_Validation_death.csv')"
   ]
  },
  {
   "cell_type": "code",
   "execution_count": 8,
   "id": "2c5dab6b",
   "metadata": {},
   "outputs": [
    {
     "name": "stdout",
     "output_type": "stream",
     "text": [
      "AUROC: 0.5815613817781448\n",
      "Precision 0.6640387124836886\n",
      "Recall 0.5815613817781448\n",
      "F1 score: 0.6018968582081757\n"
     ]
    }
   ],
   "source": [
    "#scores\n",
    "print('AUROC:', roc_auc_score(validation_death_combined['icu_death'], predicted_death_df))\n",
    "print('Precision', precision_score(validation_death_combined['icu_death'], predicted_death_df, average='macro', zero_division=0))\n",
    "print('Recall', recall_score(validation_death_combined['icu_death'], predicted_death_df, average='macro', zero_division=0))\n",
    "print('F1 score:', f1_score(validation_death_combined['icu_death'], predicted_death_df, average='macro', zero_division=0))"
   ]
  },
  {
   "cell_type": "code",
   "execution_count": null,
   "id": "4b7ea5ca",
   "metadata": {},
   "outputs": [],
   "source": []
  }
 ],
 "metadata": {
  "kernelspec": {
   "display_name": "Python 3 (ipykernel)",
   "language": "python",
   "name": "python3"
  },
  "language_info": {
   "codemirror_mode": {
    "name": "ipython",
    "version": 3
   },
   "file_extension": ".py",
   "mimetype": "text/x-python",
   "name": "python",
   "nbconvert_exporter": "python",
   "pygments_lexer": "ipython3",
   "version": "3.9.12"
  }
 },
 "nbformat": 4,
 "nbformat_minor": 5
}
